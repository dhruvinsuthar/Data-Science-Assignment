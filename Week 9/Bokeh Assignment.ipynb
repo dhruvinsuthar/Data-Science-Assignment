{
 "cells": [
  {
   "cell_type": "markdown",
   "metadata": {},
   "source": [
    "Import the required Bokeh modules.\n",
    "\n",
    "Create a figure using figure().\n",
    "\n",
    "Add glyphs (visual representations like lines, circles, etc.) to the figure.\n",
    "\n",
    "Display the plot using show()."
   ]
  },
  {
   "cell_type": "markdown",
   "metadata": {},
   "source": [
    "Glyphs in Bokeh are basic visual shapes that represent data points or objects on a plot. Examples of glyphs include lines, circles, squares, and patches. Glyphs are added to a Bokeh plot by calling methods on a figure object, such as circle(), line(), or rect()."
   ]
  },
  {
   "cell_type": "code",
   "execution_count": 4,
   "metadata": {},
   "outputs": [
    {
     "name": "stderr",
     "output_type": "stream",
     "text": [
      "BokehDeprecationWarning: 'circle() method with size value' was deprecated in Bokeh 3.4.0 and will be removed, use 'scatter(size=...) instead' instead.\n"
     ]
    }
   ],
   "source": [
    "from bokeh.plotting import figure, show\n",
    "\n",
    "p = figure(title=\"Scatter Plot\", x_axis_label='X', y_axis_label='Y')\n",
    "p.circle([1, 2, 3, 4], [2, 4, 6, 8], size=10, color=\"red\", alpha=0.5)\n",
    "show(p)"
   ]
  },
  {
   "cell_type": "markdown",
   "metadata": {},
   "source": [
    "Bokeh allows customization of various plot elements such as axes, titles, colors, and legends. You can modify these properties by passing arguments during plot creation or after adding glyphs."
   ]
  },
  {
   "cell_type": "code",
   "execution_count": 5,
   "metadata": {},
   "outputs": [],
   "source": [
    "from bokeh.plotting import figure, show\n",
    "\n",
    "p = figure(title=\"Customized Plot\", x_axis_label='X Axis', y_axis_label='Y Axis')\n",
    "p.line([1, 2, 3, 4], [2, 4, 6, 8], legend_label=\"Line 1\", line_width=2, color=\"blue\")\n",
    "p.title.text_font_size = '16pt'\n",
    "p.title.align = 'center'\n",
    "p.xaxis.axis_label_text_font_size = '12pt'\n",
    "p.yaxis.axis_label_text_font_size = '12pt'\n",
    "show(p)"
   ]
  },
  {
   "cell_type": "markdown",
   "metadata": {},
   "source": [
    "A Bokeh server is a component that allows you to create interactive plots that can be dynamically updated in real-time. It enables the creation of web-based applications where Bokeh plots can be modified or interactively updated by the user or through backend changes.\n",
    "\n",
    "To use a Bokeh server Write Python code that generates interactive plots thencCreate a curdoc() function to add the plot to the current document then use a Bokeh server to serve the plot."
   ]
  },
  {
   "cell_type": "code",
   "execution_count": null,
   "metadata": {},
   "outputs": [],
   "source": [
    "from flask import Flask, render_template\n",
    "from bokeh.plotting import figure\n",
    "from bokeh.embed import components\n",
    "\n",
    "app = Flask(__name__)\n",
    "\n",
    "@app.route('/')\n",
    "def index():\n",
    "    p = figure(title=\"Simple Bokeh Plot\", x_axis_label='X', y_axis_label='Y')\n",
    "    p.line([1, 2, 3, 4], [2, 4, 6, 8], line_width=2, color=\"blue\")\n",
    "    script, div = components(p)\n",
    "    return render_template('templates/index.html', script=script, div=div)\n",
    "\n",
    "if __name__ == '__main__':\n",
    "    app.run()"
   ]
  }
 ],
 "metadata": {
  "kernelspec": {
   "display_name": "Python 3",
   "language": "python",
   "name": "python3"
  },
  "language_info": {
   "codemirror_mode": {
    "name": "ipython",
    "version": 3
   },
   "file_extension": ".py",
   "mimetype": "text/x-python",
   "name": "python",
   "nbconvert_exporter": "python",
   "pygments_lexer": "ipython3",
   "version": "3.12.4"
  }
 },
 "nbformat": 4,
 "nbformat_minor": 2
}
