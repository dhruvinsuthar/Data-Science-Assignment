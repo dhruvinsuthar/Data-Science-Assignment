{
 "cells": [
  {
   "cell_type": "markdown",
   "metadata": {},
   "source": [
    "Q1"
   ]
  },
  {
   "cell_type": "markdown",
   "metadata": {},
   "source": [
    "A database is an organized collection of data that is stored and managed in a way that makes it easy to access, update, and manage. It allows for efficient data retrieval and manipulation. Databases are used to store information such as customer records, product details, or financial transactions.\n",
    "\n",
    "SQL databases (Structured Query Language) are relational databases that store data in tables with rows and columns. Data is organized in a structured format, and SQL is used to query and manipulate this data. Examples include MySQL, PostgreSQL, and SQLite.\n",
    "\n",
    "NoSQL databases are non-relational databases that do not require a fixed schema. They store data in various formats like documents, key-value pairs, graphs, or wide-column stores. NoSQL databases are often used for handling large volumes of unstructured or semi-structured data. Examples include MongoDB, Cassandra, and Redis."
   ]
  },
  {
   "cell_type": "markdown",
   "metadata": {},
   "source": [
    "Q2"
   ]
  },
  {
   "cell_type": "markdown",
   "metadata": {},
   "source": [
    "DDL (Data Definition Language) is a subset of SQL used to define and modify the structure of database objects like tables, schemas, and indexes.\n",
    "\n",
    "CREATE: Used to create a new database object like a table, view, or index.\n",
    "CREATE TABLE students (id INT, name VARCHAR(50));"
   ]
  },
  {
   "cell_type": "markdown",
   "metadata": {},
   "source": [
    "DROP: Used to delete an existing database object (like a table, view, or index).\n",
    "\n",
    "DROP TABLE students;"
   ]
  },
  {
   "cell_type": "markdown",
   "metadata": {},
   "source": [
    "ALTER: Used to modify an existing database object (such as adding or deleting columns in a table).\n",
    "\n",
    "ALTER TABLE students ADD COLUMN age INT;"
   ]
  },
  {
   "cell_type": "markdown",
   "metadata": {},
   "source": [
    "TRUNCATE: Used to delete all records from a table, but it does not remove the table structure.\n",
    "\n",
    "TRUNCATE TABLE students; (This removes all data but keeps the table structure intact.)"
   ]
  },
  {
   "cell_type": "markdown",
   "metadata": {},
   "source": [
    "Q3"
   ]
  },
  {
   "cell_type": "markdown",
   "metadata": {},
   "source": [
    "DML (Data Manipulation Language) is a subset of SQL used to manipulate the data within the tables.\n",
    "\n",
    "INSERT: Adds new records into a table.\n",
    "\n",
    "INSERT INTO students (id, name) VALUES (1, 'John Doe');"
   ]
  },
  {
   "cell_type": "markdown",
   "metadata": {},
   "source": [
    "UPDATE: Modifies existing records in a table.\n",
    "\n",
    "UPDATE students SET name = 'Jane Doe' WHERE id = 1;"
   ]
  },
  {
   "cell_type": "markdown",
   "metadata": {},
   "source": [
    "DELETE: Removes records from a table.\n",
    "\n",
    "DELETE FROM students WHERE id = 1;"
   ]
  },
  {
   "cell_type": "markdown",
   "metadata": {},
   "source": [
    "Q4"
   ]
  },
  {
   "cell_type": "markdown",
   "metadata": {},
   "source": [
    "DQL (Data Query Language) is a subset of SQL used to query and retrieve data from a database.\n",
    "\n",
    "SELECT: This is used to retrieve data from one or more tables.\n",
    "\n",
    "SELECT * FROM students;"
   ]
  },
  {
   "cell_type": "markdown",
   "metadata": {},
   "source": [
    "Q5"
   ]
  },
  {
   "cell_type": "markdown",
   "metadata": {},
   "source": [
    "Primary Key: A primary key is a column or a set of columns that uniquely identifies each record in a table. It cannot have NULL values and must be unique for each record. Every table should have a primary key.\n",
    "\n",
    "In a students table, id might be the primary key because each student will have a unique id."
   ]
  },
  {
   "cell_type": "markdown",
   "metadata": {},
   "source": [
    "Foreign Key: A foreign key is a column or set of columns in a table that links to the primary key of another table. It is used to enforce referential integrity between two related tables.\n",
    "\n",
    "In an orders table, the student_id could be a foreign key that references the id in the students table, establishing a relationship between orders and students."
   ]
  },
  {
   "cell_type": "markdown",
   "metadata": {},
   "source": [
    "Q6"
   ]
  },
  {
   "cell_type": "code",
   "execution_count": null,
   "metadata": {},
   "outputs": [],
   "source": [
    "import mysql.connector\n",
    "\n",
    "conn = mysql.connector.connect(\n",
    "    host=\"\", \n",
    "    user=\"\", \n",
    "    password=\"\", \n",
    "    database=\"\"\n",
    ")\n",
    "\n",
    "cursor = conn.cursor()\n",
    "\n",
    "cursor.execute(\"SELECT * FROM students\")\n",
    "\n",
    "results = cursor.fetchall()\n",
    "for row in results:\n",
    "    print(row)\n",
    "\n",
    "cursor.close()\n",
    "conn.close()"
   ]
  },
  {
   "cell_type": "markdown",
   "metadata": {},
   "source": [
    "cursor(): The cursor() method creates a cursor object that allows you to execute SQL queries. It acts as an interface between Python and the database, enabling you to run queries and fetch results.\n",
    "\n",
    "execute(): The execute() method is used to run a SQL query on the database. It can execute any SQL statement, like SELECT, INSERT, UPDATE, etc. The query passed to execute() is sent to the MySQL server for execution."
   ]
  },
  {
   "cell_type": "markdown",
   "metadata": {},
   "source": [
    "Q7"
   ]
  },
  {
   "cell_type": "markdown",
   "metadata": {},
   "source": [
    "FROM: Specifies the tables or views from which to retrieve data.\n",
    "\n",
    "JOIN: If there are multiple tables, joins are applied next.\n",
    "\n",
    "WHERE: Filters rows based on the condition.\n",
    "\n",
    "GROUP BY: Groups rows into summary sets.\n",
    "\n",
    "HAVING: Filters groups after they are formed.\n",
    "\n",
    "SELECT: Chooses which columns to retrieve.\n",
    "\n",
    "DISTINCT: Removes duplicate rows.\n",
    "\n",
    "ORDER BY: Sorts the result set.\n",
    "\n",
    "LIMIT: Limits the number of rows returned."
   ]
  },
  {
   "cell_type": "markdown",
   "metadata": {},
   "source": []
  }
 ],
 "metadata": {
  "kernelspec": {
   "display_name": "Python 3",
   "language": "python",
   "name": "python3"
  },
  "language_info": {
   "codemirror_mode": {
    "name": "ipython",
    "version": 3
   },
   "file_extension": ".py",
   "mimetype": "text/x-python",
   "name": "python",
   "nbconvert_exporter": "python",
   "pygments_lexer": "ipython3",
   "version": "3.12.4"
  }
 },
 "nbformat": 4,
 "nbformat_minor": 2
}
