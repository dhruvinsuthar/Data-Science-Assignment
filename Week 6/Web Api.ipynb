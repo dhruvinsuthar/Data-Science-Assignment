{
 "cells": [
  {
   "cell_type": "markdown",
   "metadata": {},
   "source": [
    "Q1"
   ]
  },
  {
   "cell_type": "markdown",
   "metadata": {},
   "source": [
    "An API (Application Programming Interface) is a set of rules that allows different software systems to communicate with each other. For example, a weather app uses an API to fetch weather data from a remote server. The app sends a request, the server responds with weather information, and the app displays it."
   ]
  },
  {
   "cell_type": "markdown",
   "metadata": {},
   "source": [
    "Q2"
   ]
  },
  {
   "cell_type": "markdown",
   "metadata": {},
   "source": [
    "Adv: APIs speed up development by allowing developers to use existing services. They enable easy integration with third-party tools, increase flexibility, and allow modular design.\n",
    "\n",
    "Dis: APIs can create dependencies on external services, leading to issues if the service changes or goes down. Security can also be a concern, and managing multiple APIs can add complexity."
   ]
  },
  {
   "cell_type": "markdown",
   "metadata": {},
   "source": [
    "Q3"
   ]
  },
  {
   "cell_type": "markdown",
   "metadata": {},
   "source": [
    "A Web API is an API that allows communication over the internet using web protocols like HTTP. While an API can be used for internal system communication, a Web API is specifically designed for client-server communication over the web."
   ]
  },
  {
   "cell_type": "markdown",
   "metadata": {},
   "source": [
    "Q4"
   ]
  },
  {
   "cell_type": "markdown",
   "metadata": {},
   "source": [
    "REST is lightweight, uses standard HTTP methods (GET, POST, etc.), and is easy to scale. It is flexible, supporting multiple data formats like JSON and XML.\n",
    "\n",
    "SOAP is a rigid protocol that uses XML messages and supports complex operations, transactions, and security features.\n",
    "\n",
    "Shortcomings of SOAP: It’s more complex, uses more resources, and has higher overhead compared to REST. It is less flexible and harder to implement."
   ]
  },
  {
   "cell_type": "markdown",
   "metadata": {},
   "source": [
    "Q5"
   ]
  },
  {
   "cell_type": "markdown",
   "metadata": {},
   "source": [
    "REST is simpler, uses HTTP, supports multiple formats (JSON, XML), and is stateless. It’s more flexible and widely used in web apps.\n",
    "\n",
    "SOAP is a strict protocol, uses only XML, supports more complex features like security and transactions, and is stateful. It’s used for enterprise-level, high-security applications."
   ]
  },
  {
   "cell_type": "markdown",
   "metadata": {},
   "source": []
  }
 ],
 "metadata": {
  "language_info": {
   "name": "python"
  }
 },
 "nbformat": 4,
 "nbformat_minor": 2
}
