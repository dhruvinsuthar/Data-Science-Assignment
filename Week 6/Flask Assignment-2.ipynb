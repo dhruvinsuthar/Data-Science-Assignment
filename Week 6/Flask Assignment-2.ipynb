{
 "cells": [
  {
   "cell_type": "markdown",
   "metadata": {},
   "source": [
    "Q1"
   ]
  },
  {
   "cell_type": "markdown",
   "metadata": {},
   "source": [
    "GET: The GET method is used to request data from a server. It appends the data (like parameters) to the URL in the form of a query string. It is generally used to retrieve data without causing any changes on the server. For example, visiting a website and fetching a page is done using the GET method.\n",
    "\n",
    "POST: The POST method is used to send data to the server to create or update a resource. Unlike GET, the data is sent in the body of the request, not in the URL. It is commonly used for form submissions (like signing up or logging in) where data needs to be processed or stored."
   ]
  },
  {
   "cell_type": "markdown",
   "metadata": {},
   "source": [
    "Q2"
   ]
  },
  {
   "cell_type": "markdown",
   "metadata": {},
   "source": [
    "The request object is used to handle incoming data sent by the client (like a web browser or mobile app) to the server. It provides access to various types of data from the client, such as form data, query parameters, JSON data, or file uploads.\n",
    "\n",
    "Eg - request.form can be used to access form data from a POST request, and request.args can be used to retrieve query parameters from a GET request. It’s essential for handling user input and interacting with client data in Flask applications."
   ]
  },
  {
   "cell_type": "markdown",
   "metadata": {},
   "source": [
    "Q3"
   ]
  },
  {
   "cell_type": "markdown",
   "metadata": {},
   "source": [
    "redirect() is used to send the client to a different URL. It sends an HTTP 302 response to the browser, telling it to make a new request to the provided URL. This is commonly used after form submissions or any action that requires redirecting the user to another page, like a confirmation page or a login page."
   ]
  },
  {
   "cell_type": "markdown",
   "metadata": {},
   "source": [
    "Q4"
   ]
  },
  {
   "cell_type": "markdown",
   "metadata": {},
   "source": [
    "Templates in Flask are HTML files that can include dynamic content. They allow developers to generate HTML pages by inserting dynamic data into them. Flask uses the Jinja2 templating engine to render templates, meaning it can replace placeholders with values passed from the Python code.\n",
    "\n",
    "The render_template() function is used to render an HTML template and return it as a response. It allows you to pass variables from your Flask route into the template, which can then be displayed in the final HTML."
   ]
  },
  {
   "cell_type": "markdown",
   "metadata": {},
   "source": [
    "Q5"
   ]
  },
  {
   "cell_type": "code",
   "execution_count": 2,
   "metadata": {},
   "outputs": [
    {
     "name": "stdout",
     "output_type": "stream",
     "text": [
      " * Serving Flask app '__main__'\n",
      " * Debug mode: off\n"
     ]
    },
    {
     "name": "stderr",
     "output_type": "stream",
     "text": [
      "WARNING: This is a development server. Do not use it in a production deployment. Use a production WSGI server instead.\n",
      " * Running on http://127.0.0.1:5000\n",
      "Press CTRL+C to quit\n",
      "127.0.0.1 - - [17/Dec/2024 14:06:17] \"GET / HTTP/1.1\" 404 -\n",
      "127.0.0.1 - - [17/Dec/2024 14:06:39] \"GET /api HTTP/1.1\" 200 -\n"
     ]
    }
   ],
   "source": [
    "from flask import Flask, jsonify\n",
    "\n",
    "app = Flask(__name__)\n",
    "\n",
    "@app.route('/api', methods=['GET'])\n",
    "def api():\n",
    "    data = {'message': 'Hello, this is your API!'}\n",
    "    return jsonify(data)\n",
    "\n",
    "if __name__ == '__main__':\n",
    "    app.run(debug=True)"
   ]
  },
  {
   "cell_type": "code",
   "execution_count": 3,
   "metadata": {},
   "outputs": [
    {
     "data": {
      "image/png": "[encoded data removed]",
      "text/plain": [
       "<IPython.core.display.Image object>"
      ]
     },
     "execution_count": 3,
     "metadata": {},
     "output_type": "execute_result"
    }
   ],
   "source": [
    "from IPython.display import Image\n",
    "Image(filename='api.png')"
   ]
  }
 ],
 "metadata": {
  "kernelspec": {
   "display_name": "Python 3",
   "language": "python",
   "name": "python3"
  },
  "language_info": {
   "codemirror_mode": {
    "name": "ipython",
    "version": 3
   },
   "file_extension": ".py",
   "mimetype": "text/x-python",
   "name": "python",
   "nbconvert_exporter": "python",
   "pygments_lexer": "ipython3",
   "version": "3.12.4"
  }
 },
 "nbformat": 4,
 "nbformat_minor": 2
}
