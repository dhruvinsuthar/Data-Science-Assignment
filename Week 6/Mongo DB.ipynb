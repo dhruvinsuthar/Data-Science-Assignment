{
 "cells": [
  {
   "cell_type": "markdown",
   "metadata": {},
   "source": [
    "Q1"
   ]
  },
  {
   "cell_type": "markdown",
   "metadata": {},
   "source": [
    "MongoDB is a popular, open-source, NoSQL database that stores data in flexible, JSON-like documents rather than in tables like relational databases. It’s designed for scalability and high performance, making it ideal for handling large volumes of unstructured or semi-structured data.\n",
    "\n",
    "Non-relational databases (also known as NoSQL databases) are databases that do not use the traditional tabular schema of rows and columns. They store data in formats like key-value pairs, documents, or graphs, and can handle different types of data without a fixed schema.\n",
    "\n",
    "MongoDB is preferred over SQL databases When the data structure is flexible and does not fit easily into tables, When you need to handle large volumes of unstructured or semi-structured data (e.g., JSON-like data), When scalability and performance across distributed systems are important (e.g., web applications with a large and constantly changing dataset), In cases where the schema may evolve over time or the database should support rapid iteration, like with agile development."
   ]
  },
  {
   "cell_type": "markdown",
   "metadata": {},
   "source": [
    "Q2"
   ]
  },
  {
   "cell_type": "markdown",
   "metadata": {},
   "source": [
    "Document-Oriented: MongoDB stores data as documents (usually in BSON format), which are similar to JSON objects. This makes it flexible and allows for nested data.\n",
    "\n",
    "Scalability: MongoDB is designed to scale out horizontally by sharding data across multiple servers, making it suitable for large-scale applications.\n",
    "\n",
    "High Performance: It supports fast read and write operations, thanks to its in-memory processing and indexing features.\n",
    "\n",
    "Flexible Schema: MongoDB allows you to store documents with different structures in the same collection, making it easier to adapt to changing data requirements.\n",
    "\n",
    "Indexing: MongoDB supports indexes on any field in a document, which helps in fast querying.\n",
    "\n",
    "Aggregation Framework: MongoDB offers a powerful aggregation framework for performing complex data processing operations like filtering, grouping, and sorting.\n",
    "\n",
    "Replication: MongoDB supports automatic data replication, providing high availability and fault tolerance by creating replica sets."
   ]
  },
  {
   "cell_type": "markdown",
   "metadata": {},
   "source": [
    "Q3"
   ]
  },
  {
   "cell_type": "code",
   "execution_count": null,
   "metadata": {},
   "outputs": [
    {
     "name": "stdout",
     "output_type": "stream",
     "text": [
      "Database and Collection created successfully!\n"
     ]
    }
   ],
   "source": [
    "from pymongo import MongoClient\n",
    "\n",
    "client = MongoClient('mongodb://localhost:27017/')\n",
    "\n",
    "db = client['mydatabase']\n",
    "\n",
    "collection = db['mycollection']\n",
    "\n",
    "print(\"Database and Collection created successfully!\")\n"
   ]
  },
  {
   "cell_type": "markdown",
   "metadata": {},
   "source": [
    "Q4"
   ]
  },
  {
   "cell_type": "code",
   "execution_count": null,
   "metadata": {},
   "outputs": [],
   "source": [
    "single_record = {\"name\": \"Alice\", \"age\": 25, \"city\": \"New York\"}\n",
    "collection.insert_one(single_record)\n",
    "\n",
    "many_records = [\n",
    "    {\"name\": \"Bob\", \"age\": 30, \"city\": \"Los Angeles\"},\n",
    "    {\"name\": \"Charlie\", \"age\": 22, \"city\": \"Chicago\"},\n",
    "    {\"name\": \"David\", \"age\": 35, \"city\": \"Miami\"}\n",
    "]\n",
    "collection.insert_many(many_records)\n",
    "\n",
    "print(\"Single Record:\")\n",
    "record = collection.find_one({\"name\": \"Alice\"})\n",
    "print(record)\n",
    "\n",
    "print(\"\\nAll Records:\")\n",
    "for record in collection.find():\n",
    "    print(record)\n"
   ]
  },
  {
   "cell_type": "markdown",
   "metadata": {},
   "source": [
    "Q5"
   ]
  },
  {
   "cell_type": "markdown",
   "metadata": {},
   "source": [
    "The find() method is used to retrieve multiple documents from a collection based on a filter. It returns a cursor that can be iterated to access the documents."
   ]
  },
  {
   "cell_type": "code",
   "execution_count": null,
   "metadata": {},
   "outputs": [],
   "source": [
    "for record in collection.find({\"age\": {\"$gt\": 30}}):\n",
    "    print(record)"
   ]
  },
  {
   "cell_type": "markdown",
   "metadata": {},
   "source": [
    "Q6"
   ]
  },
  {
   "cell_type": "markdown",
   "metadata": {},
   "source": [
    "The sort() method in MongoDB is used to order the documents in a collection based on one or more fields. You can specify ascending (1) or descending (-1) order for each field."
   ]
  },
  {
   "cell_type": "code",
   "execution_count": null,
   "metadata": {},
   "outputs": [],
   "source": [
    "for record in collection.find().sort(\"age\", 1):\n",
    "    print(record)\n",
    "\n",
    "for record in collection.find().sort(\"age\", -1):\n",
    "    print(record)"
   ]
  },
  {
   "cell_type": "markdown",
   "metadata": {},
   "source": [
    "Q7"
   ]
  },
  {
   "cell_type": "markdown",
   "metadata": {},
   "source": [
    "delete_one(): This method is used to delete a single document that matches the specified filter.\n",
    "\n",
    "delete_many(): This method is used to delete multiple documents that match a filter. If no filter is provided, it deletes all documents in the collection.\n",
    "\n",
    "drop(): This method is used to remove an entire collection from the database, including all documents within it."
   ]
  },
  {
   "cell_type": "markdown",
   "metadata": {},
   "source": []
  }
 ],
 "metadata": {
  "kernelspec": {
   "display_name": "Python 3",
   "language": "python",
   "name": "python3"
  },
  "language_info": {
   "codemirror_mode": {
    "name": "ipython",
    "version": 3
   },
   "file_extension": ".py",
   "mimetype": "text/x-python",
   "name": "python",
   "nbconvert_exporter": "python",
   "pygments_lexer": "ipython3",
   "version": "3.12.4"
  }
 },
 "nbformat": 4,
 "nbformat_minor": 2
}
