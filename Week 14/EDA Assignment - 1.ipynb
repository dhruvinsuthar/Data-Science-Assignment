{
 "cells": [
  {
   "cell_type": "code",
   "execution_count": 1,
   "metadata": {},
   "outputs": [],
   "source": [
    "# Q1. What are the key features of the wine quality data set? Discuss the importance of each feature in\n",
    "# predicting the quality of wine.\n",
    "# A1. Key features of the wine quality dataset include:\n",
    "# - Fixed acidity: Impacts the wine's taste and pH balance.\n",
    "# - Volatile acidity: High levels can cause sour tastes.\n",
    "# - Citric acid: Adds freshness to wine.\n",
    "# - Residual sugar: Affects sweetness.\n",
    "# - Chlorides: Indicates saltiness.\n",
    "# - Free sulfur dioxide: Prevents spoilage and oxidation.\n",
    "# - Total sulfur dioxide: Preserves wine.\n",
    "# - Density: Correlates with sugar and alcohol content.\n",
    "# - pH: Reflects acidity.\n",
    "# - Sulphates: Contribute to bitterness and preservation.\n",
    "# - Alcohol: Strongly affects wine quality and perception.\n",
    "# Each feature's importance lies in its influence on the sensory attributes and chemical stability of wine."
   ]
  },
  {
   "cell_type": "code",
   "execution_count": 2,
   "metadata": {},
   "outputs": [],
   "source": [
    " #Q2. How did you handle missing data in the wine quality data set during the feature engineering process?\n",
    "# Discuss the advantages and disadvantages of different imputation techniques.\n",
    "# A2. Missing data handling techniques:\n",
    "# - Mean/Median Imputation:\n",
    "#   Advantages: Simple and quick.\n",
    "#   Disadvantages: Ignores feature relationships and adds bias.\n",
    "# - K-Nearest Neighbors (KNN):\n",
    "#   Advantages: Captures relationships among features.\n",
    "#   Disadvantages: Computationally expensive.\n",
    "# - Regression Imputation:\n",
    "#   Advantages: Utilizes data trends.\n",
    "#   Disadvantages: Assumes linearity.\n",
    "# - Dropping Rows/Columns:\n",
    "#   Advantages: Simple.\n",
    "#   Disadvantages: Loss of data and reduced model performance.\n",
    "# Selected method depends on the amount and nature of missing data."
   ]
  },
  {
   "cell_type": "code",
   "execution_count": 3,
   "metadata": {},
   "outputs": [],
   "source": [
    "# Q3. What are the key factors that affect students' performance in exams? How would you go about\n",
    "# analyzing these factors using statistical techniques?\n",
    "# A3. Key factors affecting student performance:\n",
    "# - Study hours.\n",
    "# - Sleep duration.\n",
    "# - Class attendance.\n",
    "# - Parental education.\n",
    "# - Socioeconomic status.\n",
    "# Analysis:\n",
    "# - Use correlation analysis to identify significant relationships.\n",
    "# - Perform regression analysis to predict performance.\n",
    "# - Use ANOVA for categorical variables like parental education levels."
   ]
  },
  {
   "cell_type": "code",
   "execution_count": 4,
   "metadata": {},
   "outputs": [],
   "source": [
    "# Q4. Describe the process of feature engineering in the context of the student performance data set. How\n",
    "# did you select and transform the variables for your model?\n",
    "# A4. Process of feature engineering:\n",
    "# - Handle missing data using imputation techniques.\n",
    "# - Encode categorical variables (e.g., parental education).\n",
    "# - Scale numerical variables for consistency.\n",
    "# - Create interaction terms (e.g., study hours * sleep duration).\n",
    "# - Apply dimensionality reduction if needed (e.g., PCA).\n",
    "# - Select features based on correlation and domain knowledge."
   ]
  },
  {
   "cell_type": "code",
   "execution_count": 5,
   "metadata": {},
   "outputs": [],
   "source": [
    "# Q5. Load the wine quality data set and perform exploratory data analysis (EDA) to identify the distribution\n",
    "# of each feature. Which feature(s) exhibit non-normality, and what transformations could be applied to\n",
    "# these features to improve normality?\n",
    "# A5. EDA Steps:\n",
    "# - Visualize distributions using histograms.\n",
    "# - Features exhibiting non-normality: Residual sugar, chlorides, sulphates.\n",
    "# - Apply transformations like log(x+1), Box-Cox, or square root to normalize skewed features."
   ]
  },
  {
   "cell_type": "code",
   "execution_count": 6,
   "metadata": {},
   "outputs": [],
   "source": [
    "# Q6. Using the wine quality data set, perform principal component analysis (PCA) to reduce the number of\n",
    "# features. What is the minimum number of principal components required to explain 90% of the variance in\n",
    "#the data?\n",
    "# A6. Steps for PCA:\n",
    "# - Standardize the dataset.\n",
    "# - Perform PCA using a library like scikit-learn.\n",
    "# - Identify the number of components explaining 90% variance (e.g., 6 components).\n",
    "# PCA reduces dimensionality while preserving most of the data's variability.\n"
   ]
  },
  {
   "cell_type": "code",
   "execution_count": null,
   "metadata": {},
   "outputs": [],
   "source": []
  }
 ],
 "metadata": {
  "kernelspec": {
   "display_name": "Python 3",
   "language": "python",
   "name": "python3"
  },
  "language_info": {
   "codemirror_mode": {
    "name": "ipython",
    "version": 3
   },
   "file_extension": ".py",
   "mimetype": "text/x-python",
   "name": "python",
   "nbconvert_exporter": "python",
   "pygments_lexer": "ipython3",
   "version": "3.11.9"
  }
 },
 "nbformat": 4,
 "nbformat_minor": 2
}
