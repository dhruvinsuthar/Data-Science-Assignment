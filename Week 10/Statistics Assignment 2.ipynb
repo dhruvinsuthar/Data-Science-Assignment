{
 "cells": [
  {
   "cell_type": "markdown",
   "metadata": {},
   "source": [
    "Q1"
   ]
  },
  {
   "cell_type": "markdown",
   "metadata": {},
   "source": [
    "Mean – The average of all data points.\n",
    "\n",
    "Median – The middle value when the data is sorted in order.\n",
    "\n",
    "Mode – The most frequent value in the dataset."
   ]
  },
  {
   "cell_type": "markdown",
   "metadata": {},
   "source": [
    "Q2"
   ]
  },
  {
   "cell_type": "markdown",
   "metadata": {},
   "source": [
    "Mean is the average and is used when data is normally distributed without outliers.\n",
    "\n",
    "Median is the middle value and is used when data has outliers or is skewed.\n",
    "\n",
    "Mode is the most frequent value and is useful for categorical data."
   ]
  },
  {
   "cell_type": "markdown",
   "metadata": {},
   "source": [
    "Q3"
   ]
  },
  {
   "cell_type": "code",
   "execution_count": 3,
   "metadata": {},
   "outputs": [
    {
     "name": "stdout",
     "output_type": "stream",
     "text": [
      "177.01875\n",
      "177.0\n",
      "ModeResult(mode=177.0, count=3)\n"
     ]
    }
   ],
   "source": [
    "import numpy as np\n",
    "from scipy import stats\n",
    "\n",
    "height_data = [178, 177, 176, 177, 178.2, 178, 175, 179, 180, 175, 178.9, 176.2, 177, 172.5, 178, 176.5]\n",
    "\n",
    "mean_height = np.mean(height_data)\n",
    "median_height = np.median(height_data)\n",
    "mode_height = stats.mode(height_data)\n",
    "\n",
    "print(mean_height)\n",
    "print( median_height)\n",
    "print(mode_height)"
   ]
  },
  {
   "cell_type": "markdown",
   "metadata": {},
   "source": [
    "Q4"
   ]
  },
  {
   "cell_type": "code",
   "execution_count": 4,
   "metadata": {},
   "outputs": [
    {
     "name": "stdout",
     "output_type": "stream",
     "text": [
      "1.7885814036548633\n"
     ]
    }
   ],
   "source": [
    "std_deviation = np.std(height_data)\n",
    "\n",
    "print(std_deviation)"
   ]
  },
  {
   "cell_type": "markdown",
   "metadata": {},
   "source": [
    "Q5"
   ]
  },
  {
   "cell_type": "markdown",
   "metadata": {},
   "source": [
    "Range: The difference between the maximum and minimum values in the dataset.\n",
    "Example: In a dataset of heights, if the max height is 180 cm and the min height is 172.5 cm, the range is \n",
    "180−172.5=7.5180−172.5=7.5 cm.\n",
    "\n",
    "Variance: The average of the squared differences from the mean. It measures how spread out the data is.\n",
    "Example: A higher variance means the data points are more spread out from the mean.\n",
    "\n",
    "Standard Deviation: The square root of the variance. It provides a measure of spread in the same units as the data.\n",
    "Example: A low standard deviation means the data points are close to the mean, while a high standard deviation means the data is more spread out."
   ]
  },
  {
   "cell_type": "markdown",
   "metadata": {},
   "source": [
    "Q6"
   ]
  },
  {
   "cell_type": "markdown",
   "metadata": {},
   "source": [
    "A Venn diagram is a visual representation of the relationships between different sets. It shows the overlap between sets and is useful for understanding intersections, unions, and differences."
   ]
  },
  {
   "cell_type": "markdown",
   "metadata": {},
   "source": [
    "Q7"
   ]
  },
  {
   "cell_type": "code",
   "execution_count": 5,
   "metadata": {},
   "outputs": [
    {
     "name": "stdout",
     "output_type": "stream",
     "text": [
      "{2, 6}\n",
      "{0, 2, 3, 4, 5, 6, 7, 8, 10}\n"
     ]
    }
   ],
   "source": [
    "A = {2, 3, 4, 5, 6, 7}\n",
    "B = {0, 2, 6, 8, 10}\n",
    "\n",
    "intersection = A.intersection(B)\n",
    "union = A.union(B)\n",
    "\n",
    "print(intersection)\n",
    "print(union)"
   ]
  },
  {
   "cell_type": "markdown",
   "metadata": {},
   "source": [
    "Q8"
   ]
  },
  {
   "cell_type": "markdown",
   "metadata": {},
   "source": [
    "Skewness refers to the asymmetry or lopsidedness of the data distribution. Positive skew means the tail is on the right (higher values), and negative skew means the tail is on the left (lower values)."
   ]
  },
  {
   "cell_type": "markdown",
   "metadata": {},
   "source": [
    "Q9"
   ]
  },
  {
   "cell_type": "markdown",
   "metadata": {},
   "source": [
    "In a right-skewed distribution, the mean will be greater than the median, because the long tail on the right pulls the mean to the higher side."
   ]
  },
  {
   "cell_type": "markdown",
   "metadata": {},
   "source": [
    "Q10"
   ]
  },
  {
   "cell_type": "markdown",
   "metadata": {},
   "source": [
    "Covariance measures the degree to which two variables change together. It can range from negative to positive infinity.\n",
    "\n",
    "Correlation standardizes covariance, making it a dimensionless number between -1 and 1, representing the strength and direction of the relationship."
   ]
  },
  {
   "cell_type": "markdown",
   "metadata": {},
   "source": [
    "Q11"
   ]
  },
  {
   "cell_type": "markdown",
   "metadata": {},
   "source": [
    "Mean=∑(all values in dataset)/number of values\n",
    "\n",
    "Example: For dataset [1, 2, 3], the mean is \n",
    "(1+2+3)/3=2."
   ]
  },
  {
   "cell_type": "markdown",
   "metadata": {},
   "source": [
    "Q12"
   ]
  },
  {
   "cell_type": "markdown",
   "metadata": {},
   "source": [
    "In a normal distribution, the mean, median, and mode are all equal and lie at the center of the distribution."
   ]
  },
  {
   "cell_type": "markdown",
   "metadata": {},
   "source": [
    "Q13"
   ]
  },
  {
   "cell_type": "markdown",
   "metadata": {},
   "source": [
    "Covariance indicates the direction of the linear relationship between two variables but is not standardized.\n",
    "\n",
    "Correlation standardizes covariance to measure the strength and direction of the relationship on a scale of -1 to 1."
   ]
  },
  {
   "cell_type": "markdown",
   "metadata": {},
   "source": [
    "Q14"
   ]
  },
  {
   "cell_type": "markdown",
   "metadata": {},
   "source": [
    "Mean: Outliers can pull the mean towards them, giving a skewed representation.\n",
    "\n",
    "Standard Deviation: Outliers increase the spread, making the standard deviation higher.\n",
    "\n",
    "Example: In a dataset [1, 2, 3, 4, 100], the mean will be 22, which does not represent most of the data points accurately due to the outlier."
   ]
  },
  {
   "cell_type": "markdown",
   "metadata": {},
   "source": []
  }
 ],
 "metadata": {
  "kernelspec": {
   "display_name": "Python 3",
   "language": "python",
   "name": "python3"
  },
  "language_info": {
   "codemirror_mode": {
    "name": "ipython",
    "version": 3
   },
   "file_extension": ".py",
   "mimetype": "text/x-python",
   "name": "python",
   "nbconvert_exporter": "python",
   "pygments_lexer": "ipython3",
   "version": "3.12.4"
  }
 },
 "nbformat": 4,
 "nbformat_minor": 2
}
