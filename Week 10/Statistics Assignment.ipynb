{
 "cells": [
  {
   "cell_type": "markdown",
   "metadata": {},
   "source": [
    "Q1"
   ]
  },
  {
   "cell_type": "markdown",
   "metadata": {},
   "source": [
    "Statistics is the study of collecting, analyzing, interpreting, and presenting data to make informed decisions or draw conclusions."
   ]
  },
  {
   "cell_type": "markdown",
   "metadata": {},
   "source": [
    "Q2"
   ]
  },
  {
   "cell_type": "markdown",
   "metadata": {},
   "source": [
    "Descriptive Statistics: Summarizes data (mean, median, charts).\n",
    "\n",
    "Example: Finding the average score in a class.\n",
    "\n",
    "\n",
    "Inferential Statistics: Makes predictions or inferences about a population based on a sample.\n",
    "\n",
    "Example: Predicting election results from a sample survey."
   ]
  },
  {
   "cell_type": "markdown",
   "metadata": {},
   "source": [
    "Q3"
   ]
  },
  {
   "cell_type": "markdown",
   "metadata": {},
   "source": [
    "Nominal: Categories without order.\n",
    "Example: Gender (Male, Female).\n",
    "\n",
    "Ordinal: Categories with order, but no precise difference.\n",
    "Example: Rating scale (1 star, 2 stars).\n",
    "\n",
    "Interval: Ordered data with defined intervals, but no true zero.\n",
    "Example: Temperature in Celsius.\n",
    "\n",
    "Ratio: Ordered data with defined intervals and a true zero.\n",
    "Example: Weight, height."
   ]
  },
  {
   "cell_type": "markdown",
   "metadata": {},
   "source": [
    "Q4"
   ]
  },
  {
   "cell_type": "markdown",
   "metadata": {},
   "source": [
    "Quantitative (Numerical):\n",
    "\n",
    "Height data of a class: [178.9, 179, 179.5, 176, 177.2, 178.3, 175.8,...] – Numerical values representing measurements.\n",
    "Number of mangoes exported by a farm: [500, 600, 478, 672,...] – Numerical values representing counts.\n",
    "\n",
    "Qualitative (Categorical):\n",
    "\n",
    "Grading in exam: A+, A, B+, B, C+, C, D, E – Categories representing different grades.\n",
    "Colour of mangoes: yellow, green, orange, red – Categories based on color."
   ]
  },
  {
   "cell_type": "markdown",
   "metadata": {},
   "source": [
    "Q5"
   ]
  },
  {
   "cell_type": "markdown",
   "metadata": {},
   "source": [
    "Nominal: Categories without order or ranking.\n",
    "Example: Gender (Male, Female).\n",
    "\n",
    "Ordinal: Categories with a meaningful order, but no precise difference between them.\n",
    "Example: Rating scale (1 star, 2 stars).\n",
    "\n",
    "Interval: Ordered data with defined intervals, but no true zero point.\n",
    "Example: Temperature in Celsius.\n",
    "\n",
    "Ratio: Ordered data with defined intervals and a true zero point.\n",
    "Example: Weight, height."
   ]
  },
  {
   "cell_type": "markdown",
   "metadata": {},
   "source": [
    "Q6"
   ]
  },
  {
   "cell_type": "markdown",
   "metadata": {},
   "source": [
    "Understanding the level of measurement is crucial because it determines what kind of analysis can be done on the data. For instance:\n",
    "\n",
    "Nominal data can be counted but not ranked, so you can only use frequencies.\n",
    "\n",
    "Interval or ratio data can be used for more complex analyses like calculating means or regression.\n",
    "\n",
    "Example: You can't calculate an average for a nominal variable (like color), but you can for ratio data (like height)."
   ]
  },
  {
   "cell_type": "markdown",
   "metadata": {},
   "source": [
    "Q7"
   ]
  },
  {
   "cell_type": "markdown",
   "metadata": {},
   "source": [
    "Nominal data are categories without any inherent order (e.g., colors or gender).\n",
    "\n",
    "Ordinal data have a clear order or ranking, but the difference between categories is not measurable (e.g., education levels, satisfaction ratings)."
   ]
  },
  {
   "cell_type": "markdown",
   "metadata": {},
   "source": [
    "Q8"
   ]
  },
  {
   "cell_type": "markdown",
   "metadata": {},
   "source": [
    "A box plot (or box-and-whisker plot) can be used to display the range of data, showing the minimum, maximum, and quartiles. It helps visualize the spread and potential outliers in the data."
   ]
  },
  {
   "cell_type": "markdown",
   "metadata": {},
   "source": [
    "Q9"
   ]
  },
  {
   "cell_type": "markdown",
   "metadata": {},
   "source": [
    "Descriptive Statistics: Summarizes or describes the main features of a dataset (e.g., mean, median, mode).\n",
    "Example: Finding the average income of a group of people.\n",
    "\n",
    "Inferential Statistics: Makes predictions or inferences about a population based on a sample of data (e.g., hypothesis testing).\n",
    "Example: Predicting election outcomes based on a sample of voters."
   ]
  },
  {
   "cell_type": "markdown",
   "metadata": {},
   "source": [
    "Q10"
   ]
  },
  {
   "cell_type": "markdown",
   "metadata": {},
   "source": [
    "Central Tendency:\n",
    "\n",
    "Mean: The average of the data.\n",
    "\n",
    "Median: The middle value when data is sorted.\n",
    "\n",
    "Mode: The most frequent value.\n",
    "\n",
    "Variability:\n",
    "\n",
    "Range: The difference between the maximum and minimum values.\n",
    "\n",
    "Standard Deviation: A measure of how spread out the values are from the mean."
   ]
  },
  {
   "cell_type": "markdown",
   "metadata": {},
   "source": []
  }
 ],
 "metadata": {
  "kernelspec": {
   "display_name": "Python 3",
   "language": "python",
   "name": "python3"
  },
  "language_info": {
   "codemirror_mode": {
    "name": "ipython",
    "version": 3
   },
   "file_extension": ".py",
   "mimetype": "text/x-python",
   "name": "python",
   "nbconvert_exporter": "python",
   "pygments_lexer": "ipython3",
   "version": "3.12.4"
  }
 },
 "nbformat": 4,
 "nbformat_minor": 2
}
