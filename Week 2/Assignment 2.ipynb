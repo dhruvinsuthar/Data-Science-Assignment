{
 "cells": [
  {
   "cell_type": "code",
   "execution_count": 1,
   "id": "ec8cd052-7ead-4ee6-87cd-0200b6a03495",
   "metadata": {},
   "outputs": [],
   "source": [
    "# Q1. How do you comment code in Python? What are the different types of comments?"
   ]
  },
  {
   "cell_type": "code",
   "execution_count": 2,
   "id": "bac3a932-1cd0-4f61-87c5-bb4808183d25",
   "metadata": {},
   "outputs": [],
   "source": [
    "# comment code in python can be done by putting '#' in fron tof the commment line"
   ]
  },
  {
   "cell_type": "code",
   "execution_count": 4,
   "id": "7ca6013e-85f2-4993-a0e4-a194a7ad9de9",
   "metadata": {},
   "outputs": [],
   "source": [
    "# this is example of first type of comment"
   ]
  },
  {
   "cell_type": "code",
   "execution_count": 8,
   "id": "bbbcc690-f796-4ec1-9739-59f6bd3ce1c7",
   "metadata": {},
   "outputs": [
    {
     "data": {
      "text/plain": [
       "'This is second or multi level type of comment\\nit is mainly use to comment entire paragraph or many lines'"
      ]
     },
     "execution_count": 8,
     "metadata": {},
     "output_type": "execute_result"
    }
   ],
   "source": [
    "'''This is second or multi level type of comment\n",
    "it is mainly use to comment entire paragraph or many lines'''"
   ]
  },
  {
   "cell_type": "code",
   "execution_count": 9,
   "id": "39ec6bef-d01d-4ecc-945d-c9a167627dd6",
   "metadata": {},
   "outputs": [],
   "source": [
    "# Q2. What are variables in Python? How do you declare and assign values to variables?"
   ]
  },
  {
   "cell_type": "code",
   "execution_count": 10,
   "id": "41c09d05-9659-43eb-976b-da649099965a",
   "metadata": {},
   "outputs": [],
   "source": [
    "# varibles ar nothing but the name of the charcter in which data is stored , it can be of any type of alphanumeric "
   ]
  },
  {
   "cell_type": "code",
   "execution_count": 11,
   "id": "9abbf00f-c91c-4bdc-b5dd-0b2ebf8b60dc",
   "metadata": {},
   "outputs": [],
   "source": [
    "# declaring variable name as a and assigniing value of 10 in it"
   ]
  },
  {
   "cell_type": "code",
   "execution_count": 12,
   "id": "27269d21-b838-4fc6-add4-7c3a3e2b0ff7",
   "metadata": {},
   "outputs": [],
   "source": [
    "a=10"
   ]
  },
  {
   "cell_type": "code",
   "execution_count": 13,
   "id": "f7c34c5f-9e16-4607-976d-90cb3aad6451",
   "metadata": {},
   "outputs": [],
   "source": [
    "# Q3. How do you convert one data type to another in Python?"
   ]
  },
  {
   "cell_type": "code",
   "execution_count": 14,
   "id": "cde5f945-94c7-418a-9c6d-67a4ac193c83",
   "metadata": {},
   "outputs": [],
   "source": [
    "# simply type the converting type and assign the variable of another type\n",
    "# eg we have taken a as integer now converting into string format"
   ]
  },
  {
   "cell_type": "code",
   "execution_count": 15,
   "id": "0f9c3902-fd54-4bb1-a196-53b5a04c7936",
   "metadata": {},
   "outputs": [
    {
     "data": {
      "text/plain": [
       "'10'"
      ]
     },
     "execution_count": 15,
     "metadata": {},
     "output_type": "execute_result"
    }
   ],
   "source": [
    "str(a)"
   ]
  },
  {
   "cell_type": "code",
   "execution_count": 16,
   "id": "1c5c9cbb-8380-4d76-b360-7a910911fb7a",
   "metadata": {},
   "outputs": [],
   "source": [
    "# Q4. How do you write and execute a Python script from the command line?"
   ]
  },
  {
   "cell_type": "code",
   "execution_count": 17,
   "id": "98dec87e-e003-40a8-ac89-5407fe043f25",
   "metadata": {},
   "outputs": [],
   "source": [
    "# to execute python script simply enter it or in jupiter notebook it will be Shift + Enter"
   ]
  },
  {
   "cell_type": "code",
   "execution_count": 18,
   "id": "884e9717-2d1e-4b48-bd72-d2f8b5448619",
   "metadata": {},
   "outputs": [],
   "source": [
    "# Q5. Given a list my_list = [1, 2, 3, 4, 5], write the code to slice the list and obtain the sub-list [2, 3]."
   ]
  },
  {
   "cell_type": "code",
   "execution_count": 19,
   "id": "afff4256-c319-4e2f-9873-38cb22cb85e4",
   "metadata": {},
   "outputs": [],
   "source": [
    "my_list=[1,2,3,4,5]"
   ]
  },
  {
   "cell_type": "code",
   "execution_count": 20,
   "id": "e2438cf4-264b-4309-9c97-42f778f7b10d",
   "metadata": {},
   "outputs": [
    {
     "data": {
      "text/plain": [
       "[2, 3]"
      ]
     },
     "execution_count": 20,
     "metadata": {},
     "output_type": "execute_result"
    }
   ],
   "source": [
    "my_list[1:3]"
   ]
  },
  {
   "cell_type": "code",
   "execution_count": 21,
   "id": "d2ac39a4-6961-4607-93a6-ef9860f0a202",
   "metadata": {},
   "outputs": [],
   "source": [
    "# Q6. What is a complex number in mathematics, and how is it represented in Python?"
   ]
  },
  {
   "cell_type": "code",
   "execution_count": 22,
   "id": "388961cb-f43d-48aa-8238-ef8d42208681",
   "metadata": {},
   "outputs": [],
   "source": [
    "# Complex no is the combination of real and imaginary number\n",
    "# its format is x+yi where x and y is real and i is imaginary no.\n",
    "\n",
    "# in python its writen in same format Eg - 6+7i"
   ]
  },
  {
   "cell_type": "code",
   "execution_count": 23,
   "id": "3a8ae1ce-6284-4fbc-a885-a82df58dcbe1",
   "metadata": {},
   "outputs": [],
   "source": [
    "# Q7. What is the correct way to declare a variable named age and assign the value 25 to it?"
   ]
  },
  {
   "cell_type": "code",
   "execution_count": 24,
   "id": "7c7ec173-d97e-4dc9-80b5-a9ce4d749339",
   "metadata": {},
   "outputs": [],
   "source": [
    "# simply decalre and assign the varriable , follow below:  "
   ]
  },
  {
   "cell_type": "code",
   "execution_count": 25,
   "id": "3a59b4d7-0dd7-4063-8116-66159882cd93",
   "metadata": {},
   "outputs": [],
   "source": [
    "age = 25"
   ]
  },
  {
   "cell_type": "code",
   "execution_count": 26,
   "id": "5c3ded44-936e-4788-82a3-63d3731060ee",
   "metadata": {},
   "outputs": [],
   "source": [
    "# Q8. Declare a variable named price and assign the value 9.99 to it. What data type does this variable belong to?"
   ]
  },
  {
   "cell_type": "code",
   "execution_count": 27,
   "id": "3c2a53ee-6c0f-44aa-a8b6-fea79cbf4fd4",
   "metadata": {},
   "outputs": [],
   "source": [
    "#to find data type of variable use keyword tyep()"
   ]
  },
  {
   "cell_type": "code",
   "execution_count": 28,
   "id": "00190913-2aca-4bf7-bd20-0315999b0f25",
   "metadata": {},
   "outputs": [],
   "source": [
    "price = 9.99"
   ]
  },
  {
   "cell_type": "code",
   "execution_count": 29,
   "id": "0d63d3ff-bd65-4ed5-9f75-767a822c9887",
   "metadata": {},
   "outputs": [
    {
     "data": {
      "text/plain": [
       "float"
      ]
     },
     "execution_count": 29,
     "metadata": {},
     "output_type": "execute_result"
    }
   ],
   "source": [
    "type(price)"
   ]
  },
  {
   "cell_type": "code",
   "execution_count": 30,
   "id": "087b752a-14c6-4387-9872-d3bc42e44f74",
   "metadata": {},
   "outputs": [],
   "source": [
    "# Q9. Create a variable named name and assign your full name to it as a string. How would you print the value of this variable?"
   ]
  },
  {
   "cell_type": "code",
   "execution_count": 32,
   "id": "b39a4039-4437-4a87-af94-9a0484622964",
   "metadata": {},
   "outputs": [],
   "source": [
    "name = 'Dhruvin Suthar'"
   ]
  },
  {
   "cell_type": "code",
   "execution_count": 33,
   "id": "d7c5a092-2ba2-4561-a783-bad317cf8ff3",
   "metadata": {},
   "outputs": [
    {
     "name": "stdout",
     "output_type": "stream",
     "text": [
      "Dhruvin Suthar\n"
     ]
    }
   ],
   "source": [
    "print(name)"
   ]
  },
  {
   "cell_type": "code",
   "execution_count": 34,
   "id": "37dad829-c62a-4af0-b95a-bdf773e51dc7",
   "metadata": {},
   "outputs": [],
   "source": [
    "# Q10. Given the string \"Hello, World!\", extract the substring \"World\"."
   ]
  },
  {
   "cell_type": "code",
   "execution_count": 35,
   "id": "426bcdab-e0f0-45fd-9772-2268ae007e8b",
   "metadata": {},
   "outputs": [],
   "source": [
    "hw = \"Hello World!\""
   ]
  },
  {
   "cell_type": "code",
   "execution_count": 38,
   "id": "2c69f2c7-efa1-4709-9874-921824a31f89",
   "metadata": {},
   "outputs": [
    {
     "data": {
      "text/plain": [
       "'World!'"
      ]
     },
     "execution_count": 38,
     "metadata": {},
     "output_type": "execute_result"
    }
   ],
   "source": [
    "hw[6:12]"
   ]
  },
  {
   "cell_type": "code",
   "execution_count": 39,
   "id": "3299f837-8514-4aaf-86df-aa8e3a4b5160",
   "metadata": {},
   "outputs": [],
   "source": [
    "# Q11. Create a variable named \"is_student\" and assign it a boolean value indicating whether you are currently a student or not."
   ]
  },
  {
   "cell_type": "code",
   "execution_count": 40,
   "id": "13dd9b49-2ed5-4949-95bc-62fe50bc7faa",
   "metadata": {},
   "outputs": [],
   "source": [
    "is_student = True"
   ]
  }
 ],
 "metadata": {
  "kernelspec": {
   "display_name": "Python 3 (ipykernel)",
   "language": "python",
   "name": "python3"
  },
  "language_info": {
   "codemirror_mode": {
    "name": "ipython",
    "version": 3
   },
   "file_extension": ".py",
   "mimetype": "text/x-python",
   "name": "python",
   "nbconvert_exporter": "python",
   "pygments_lexer": "ipython3",
   "version": "3.10.8"
  }
 },
 "nbformat": 4,
 "nbformat_minor": 5
}
