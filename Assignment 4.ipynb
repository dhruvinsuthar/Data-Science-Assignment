{
 "cells": [
  {
   "cell_type": "code",
   "execution_count": 1,
   "id": "6ba62442-2f37-4975-a167-00da499c08af",
   "metadata": {},
   "outputs": [],
   "source": [
    "# Q1. Create a python program to sort the given list of tuples based on integer value using a lambda function."
   ]
  },
  {
   "cell_type": "code",
   "execution_count": 43,
   "id": "6d315062-5996-40f0-8cf8-6ab783f59112",
   "metadata": {},
   "outputs": [],
   "source": [
    "l1=[('Sachin Tendulkar', 34357),('Ricky Ponting', 27483),('Jack Kallis', 25534),('Virat Kohli', 24936)]"
   ]
  },
  {
   "cell_type": "code",
   "execution_count": 45,
   "id": "15533b4c-d9a5-4052-b65e-c71410a47c2a",
   "metadata": {},
   "outputs": [],
   "source": [
    "l1.sort(key = lambda x:x[1])"
   ]
  },
  {
   "cell_type": "code",
   "execution_count": 46,
   "id": "594cadd7-069c-4dab-b270-2158897838a7",
   "metadata": {},
   "outputs": [
    {
     "data": {
      "text/plain": [
       "[('Virat Kohli', 24936),\n",
       " ('Jack Kallis', 25534),\n",
       " ('Ricky Ponting', 27483),\n",
       " ('Sachin Tendulkar', 34357)]"
      ]
     },
     "execution_count": 46,
     "metadata": {},
     "output_type": "execute_result"
    }
   ],
   "source": [
    "l1"
   ]
  },
  {
   "cell_type": "code",
   "execution_count": 47,
   "id": "f26558c3-4e2b-41a1-9907-b2139554e2cc",
   "metadata": {},
   "outputs": [],
   "source": [
    "# Q2. Write a Python Program to find the squares of all the numbers in the given list of integers using lambda and map functions."
   ]
  },
  {
   "cell_type": "code",
   "execution_count": 48,
   "id": "da9e7753-d817-4065-9d0d-e9611961ebcd",
   "metadata": {},
   "outputs": [],
   "source": [
    "l2=[1,2,3,4,5,6,7,8,9,10]"
   ]
  },
  {
   "cell_type": "code",
   "execution_count": 49,
   "id": "09f20a6d-d77c-47df-ad45-a373758460e7",
   "metadata": {},
   "outputs": [
    {
     "data": {
      "text/plain": [
       "[1, 4, 9, 16, 25, 36, 49, 64, 81, 100]"
      ]
     },
     "execution_count": 49,
     "metadata": {},
     "output_type": "execute_result"
    }
   ],
   "source": [
    "list(map(lambda x:x**2 , l2))"
   ]
  },
  {
   "cell_type": "code",
   "execution_count": 50,
   "id": "56d787c3-c61d-47a5-8f86-199007a62c46",
   "metadata": {},
   "outputs": [],
   "source": [
    "# Q3. Write a python program to convert the given list of integers into a tuple of strings. Use map and lambda functions"
   ]
  },
  {
   "cell_type": "code",
   "execution_count": 51,
   "id": "bb457b19-07e4-4c9d-8376-e75abf91362b",
   "metadata": {},
   "outputs": [],
   "source": [
    "l3=[1,2,3,4,5,6,7,8,9,10]"
   ]
  },
  {
   "cell_type": "code",
   "execution_count": 53,
   "id": "a3e648e5-a64c-48af-8847-53c159659bec",
   "metadata": {},
   "outputs": [
    {
     "data": {
      "text/plain": [
       "['1', '2', '3', '4', '5', '6', '7', '8', '9', '10']"
      ]
     },
     "execution_count": 53,
     "metadata": {},
     "output_type": "execute_result"
    }
   ],
   "source": [
    "list(map(lambda x:str(x) , l3))"
   ]
  },
  {
   "cell_type": "code",
   "execution_count": 54,
   "id": "34f5b777-7406-49db-b7a0-834e72d7e85f",
   "metadata": {},
   "outputs": [],
   "source": [
    "# Q4. Write a python program using reduce function to compute the product of a list containing numbers from 1 to 25."
   ]
  },
  {
   "cell_type": "code",
   "execution_count": 67,
   "id": "efc0d278-b25a-44f2-9414-d835a712578c",
   "metadata": {},
   "outputs": [],
   "source": [
    "from functools import reduce"
   ]
  },
  {
   "cell_type": "code",
   "execution_count": 70,
   "id": "ad131c52-6f43-46a8-897e-c31fab75fd89",
   "metadata": {},
   "outputs": [],
   "source": [
    "l4=list(range(1,26))"
   ]
  },
  {
   "cell_type": "code",
   "execution_count": 71,
   "id": "0d939047-a681-4053-b83c-337f4845f41c",
   "metadata": {},
   "outputs": [
    {
     "data": {
      "text/plain": [
       "15511210043330985984000000"
      ]
     },
     "execution_count": 71,
     "metadata": {},
     "output_type": "execute_result"
    }
   ],
   "source": [
    "reduce(lambda x,y :x*y, l4)"
   ]
  },
  {
   "cell_type": "code",
   "execution_count": 72,
   "id": "dfcb04eb-0ca6-47e1-a925-1798e2158a40",
   "metadata": {},
   "outputs": [],
   "source": [
    "# Q5. Write a python program to filter the numbers in a given list that are divisible by 2 and 3 using the filter function."
   ]
  },
  {
   "cell_type": "code",
   "execution_count": 82,
   "id": "3c590e46-adde-4076-b4e1-97fe01329fd5",
   "metadata": {},
   "outputs": [],
   "source": [
    "l5=[2,3,6,9,27,60,90,120,55,46]"
   ]
  },
  {
   "cell_type": "code",
   "execution_count": 93,
   "id": "ecc7c9c3-e30b-4112-adbf-f37adad4b2c0",
   "metadata": {},
   "outputs": [],
   "source": [
    "def divi(n):\n",
    "    if n%3 == 0 and n%2 == 0:\n",
    "        return n"
   ]
  },
  {
   "cell_type": "code",
   "execution_count": 94,
   "id": "abe5ddef-d63e-4313-9447-44b2b16bb3ca",
   "metadata": {},
   "outputs": [
    {
     "data": {
      "text/plain": [
       "[6, 60, 90, 120]"
      ]
     },
     "execution_count": 94,
     "metadata": {},
     "output_type": "execute_result"
    }
   ],
   "source": [
    "list(filter(lambda x: divi(x), l5))"
   ]
  },
  {
   "cell_type": "code",
   "execution_count": 95,
   "id": "18ce7f77-e9fa-442e-8603-2dbb54c08af3",
   "metadata": {},
   "outputs": [],
   "source": [
    "# Q6. Write a python program to find palindromes in the given list of strings using lambda and filter function."
   ]
  },
  {
   "cell_type": "code",
   "execution_count": 105,
   "id": "8b5eab3a-0424-4f4a-ac1e-877411b94eb7",
   "metadata": {},
   "outputs": [],
   "source": [
    "l6=['python', 'php', 'aba', 'radar', 'level']"
   ]
  },
  {
   "cell_type": "code",
   "execution_count": 108,
   "id": "970d45da-72af-4f3a-955b-e119e66f2785",
   "metadata": {},
   "outputs": [
    {
     "data": {
      "text/plain": [
       "['php', 'aba', 'radar', 'level']"
      ]
     },
     "execution_count": 108,
     "metadata": {},
     "output_type": "execute_result"
    }
   ],
   "source": [
    "list(filter(lambda x: (x =='' .join(reversed(x))), l6))"
   ]
  }
 ],
 "metadata": {
  "kernelspec": {
   "display_name": "Python 3 (ipykernel)",
   "language": "python",
   "name": "python3"
  },
  "language_info": {
   "codemirror_mode": {
    "name": "ipython",
    "version": 3
   },
   "file_extension": ".py",
   "mimetype": "text/x-python",
   "name": "python",
   "nbconvert_exporter": "python",
   "pygments_lexer": "ipython3",
   "version": "3.10.8"
  }
 },
 "nbformat": 4,
 "nbformat_minor": 5
}
