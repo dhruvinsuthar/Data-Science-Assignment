{
 "cells": [
  {
   "cell_type": "code",
   "execution_count": 1,
   "metadata": {},
   "outputs": [],
   "source": [
    "# Importing necessary libraries\n",
    "import numpy as np\n",
    "import scipy.stats as stats\n"
   ]
  },
  {
   "cell_type": "code",
   "execution_count": 4,
   "metadata": {},
   "outputs": [],
   "source": [
    "# Q1: Difference between t-test and z-test\n",
    "# A t-test is used when the sample size is small (n < 30) or when the population standard deviation is unknown.\n",
    "# A z-test is used when the sample size is large (n ≥ 30) or when the population standard deviation is known.\n",
    "# Example scenario for t-test: A researcher wants to test if the average weight of a sample of 25 students is different\n",
    "# from the population mean weight of 60 kg.\n",
    "# Example scenario for z-test: A researcher wants to test if the average height of a large sample of 1000 people is different\n",
    "# from the population mean height of 170 cm.\n"
   ]
  },
  {
   "cell_type": "code",
   "execution_count": 5,
   "metadata": {},
   "outputs": [],
   "source": [
    "# Q2: One-tailed vs. Two-tailed tests\n",
    "# A one-tailed test checks if the sample mean is greater than or less than the population mean.\n",
    "# A two-tailed test checks if the sample mean is significantly different from the population mean, without specifying the direction.\n"
   ]
  },
  {
   "cell_type": "code",
   "execution_count": 7,
   "metadata": {},
   "outputs": [],
   "source": [
    "# Q3: Type 1 and Type 2 errors in hypothesis testing\n",
    "# Type 1 error: False positive. Rejecting the null hypothesis when it is actually true.\n",
    "# Type 2 error: False negative. Failing to reject the null hypothesis when it is actually false.\n",
    "# Example Type 1 error: A test shows that a new drug is effective when it is actually not.\n",
    "# Example Type 2 error: A test fails to show that a new drug is effective when it actually is."
   ]
  },
  {
   "cell_type": "code",
   "execution_count": 10,
   "metadata": {},
   "outputs": [
    {
     "data": {
      "text/plain": [
       "0.475"
      ]
     },
     "execution_count": 10,
     "metadata": {},
     "output_type": "execute_result"
    }
   ],
   "source": [
    "# Q4: Bayes's theorem\n",
    "# Bayes's theorem provides a way to update the probability of a hypothesis based on new evidence.\n",
    "# Formula: P(H|E) = (P(E|H) * P(H)) / P(E)\n",
    "# Example: If the probability of a person having a disease is 0.1 (P(H) = 0.1), and the test for the disease\n",
    "# has a 95% accuracy (P(E|H) = 0.95), and the probability of a positive test result is 0.2 (P(E) = 0.2),\n",
    "# what is the probability that the person has the disease given a positive test result?\n",
    "\n",
    "# Applying Bayes' theorem:\n",
    "P_H = 0.1  # Prior probability of the hypothesis (disease)\n",
    "P_E_given_H = 0.95  # Probability of evidence given hypothesis (test accuracy)\n",
    "P_E = 0.2  # Probability of evidence (test result)\n",
    "\n",
    "P_H_given_E = (P_E_given_H * P_H) / P_E\n",
    "P_H_given_E  # Probability of disease given positive test result\n"
   ]
  },
  {
   "cell_type": "code",
   "execution_count": 11,
   "metadata": {},
   "outputs": [
    {
     "data": {
      "text/plain": [
       "(np.float64(48.04003601545995), np.float64(51.95996398454005))"
      ]
     },
     "execution_count": 11,
     "metadata": {},
     "output_type": "execute_result"
    }
   ],
   "source": [
    "# Q5: Confidence Interval\n",
    "# A confidence interval is a range of values that is likely to contain the true population parameter with a certain level of confidence.\n",
    "# Formula: CI = sample mean ± (Z or t score * standard error)\n",
    "\n",
    "# Example: A sample has a mean of 50, a standard deviation of 5, and a sample size of 25. Calculate the 95% confidence interval.\n",
    "\n",
    "mean = 50\n",
    "std_dev = 5\n",
    "n = 25\n",
    "confidence_level = 0.95\n",
    "\n",
    "# Calculate standard error\n",
    "std_error = std_dev / np.sqrt(n)\n",
    "\n",
    "# Z-value for 95% confidence level (for normal distribution)\n",
    "z_value = stats.norm.ppf(1 - (1 - confidence_level) / 2)\n",
    "\n",
    "# Calculate the confidence interval\n",
    "CI_lower = mean - (z_value * std_error)\n",
    "CI_upper = mean + (z_value * std_error)\n",
    "CI_lower, CI_upper  # Confidence interval\n"
   ]
  },
  {
   "cell_type": "code",
   "execution_count": 12,
   "metadata": {},
   "outputs": [
    {
     "data": {
      "text/plain": [
       "0.36000000000000004"
      ]
     },
     "execution_count": 12,
     "metadata": {},
     "output_type": "execute_result"
    }
   ],
   "source": [
    "# Q6: Bayes' Theorem application (sample problem)\n",
    "# Problem: A company has a 20% chance of hiring someone (P(H) = 0.2), and a 90% chance of a successful interview\n",
    "# (P(E|H) = 0.9) with 50% overall success rate (P(E) = 0.5).\n",
    "P_H = 0.2\n",
    "P_E_given_H = 0.9\n",
    "P_E = 0.5\n",
    "\n",
    "P_H_given_E = (P_E_given_H * P_H) / P_E\n",
    "P_H_given_E  # Probability of hiring given a successful interview"
   ]
  },
  {
   "cell_type": "code",
   "execution_count": 13,
   "metadata": {},
   "outputs": [
    {
     "data": {
      "text/plain": [
       "(np.float64(48.210805856282846), np.float64(51.789194143717154))"
      ]
     },
     "execution_count": 13,
     "metadata": {},
     "output_type": "execute_result"
    }
   ],
   "source": [
    "# Q7: 95% confidence interval for a sample with mean 50 and standard deviation 5\n",
    "mean = 50\n",
    "std_dev = 5\n",
    "n = 30  # Example sample size\n",
    "\n",
    "std_error = std_dev / np.sqrt(n)\n",
    "z_value = stats.norm.ppf(1 - (1 - 0.95) / 2)\n",
    "\n",
    "CI_lower = mean - (z_value * std_error)\n",
    "CI_upper = mean + (z_value * std_error)\n",
    "CI_lower, CI_upper  # Confidence interval"
   ]
  },
  {
   "cell_type": "code",
   "execution_count": 14,
   "metadata": {},
   "outputs": [
    {
     "data": {
      "text/plain": [
       "(np.float64(1.3859038243496777), np.float64(0.3098975161522808))"
      ]
     },
     "execution_count": 14,
     "metadata": {},
     "output_type": "execute_result"
    }
   ],
   "source": [
    "# Q8: Margin of error and sample size effect\n",
    "# The margin of error (ME) decreases as the sample size increases, reducing the uncertainty.\n",
    "# Formula: ME = Z * (std_dev / sqrt(n))\n",
    "\n",
    "# Example: Larger sample size (n=1000) will result in smaller margin of error compared to smaller sample size (n=50)\n",
    "n_1 = 50\n",
    "n_2 = 1000\n",
    "\n",
    "std_error_1 = std_dev / np.sqrt(n_1)\n",
    "std_error_2 = std_dev / np.sqrt(n_2)\n",
    "\n",
    "margin_of_error_1 = z_value * std_error_1\n",
    "margin_of_error_2 = z_value * std_error_2\n",
    "\n",
    "margin_of_error_1, margin_of_error_2  # Margin of error for both sample sizes"
   ]
  },
  {
   "cell_type": "code",
   "execution_count": 15,
   "metadata": {},
   "outputs": [
    {
     "data": {
      "text/plain": [
       "1.0"
      ]
     },
     "execution_count": 15,
     "metadata": {},
     "output_type": "execute_result"
    }
   ],
   "source": [
    "# Q9: Z-score calculation for a data point\n",
    "value = 75\n",
    "mean = 70\n",
    "std_dev = 5\n",
    "\n",
    "z_score = (value - mean) / std_dev\n",
    "z_score  # Z-score"
   ]
  },
  {
   "cell_type": "code",
   "execution_count": 16,
   "metadata": {},
   "outputs": [
    {
     "data": {
      "text/plain": [
       "(np.float64(16.970562748477143), np.float64(2.0095752371292397))"
      ]
     },
     "execution_count": 16,
     "metadata": {},
     "output_type": "execute_result"
    }
   ],
   "source": [
    "# Q10: t-test for drug effectiveness\n",
    "# Null hypothesis: The drug has no effect, so the mean weight loss is 0.\n",
    "# t = (sample mean - population mean) / (sample std deviation / sqrt(sample size))\n",
    "\n",
    "mean_weight_loss = 6\n",
    "std_dev_loss = 2.5\n",
    "n = 50\n",
    "population_mean = 0  # Null hypothesis\n",
    "\n",
    "t_statistic = (mean_weight_loss - population_mean) / (std_dev_loss / np.sqrt(n))\n",
    "\n",
    "# t-value for 95% confidence level and 49 degrees of freedom\n",
    "t_critical = stats.t.ppf(0.975, df=n-1)\n",
    "\n",
    "# Check if t_statistic is greater than t_critical to reject null hypothesis\n",
    "t_statistic, t_critical"
   ]
  },
  {
   "cell_type": "code",
   "execution_count": 17,
   "metadata": {},
   "outputs": [
    {
     "data": {
      "text/plain": [
       "(np.float64(0.6081925393809212), np.float64(0.6918074606190788))"
      ]
     },
     "execution_count": 17,
     "metadata": {},
     "output_type": "execute_result"
    }
   ],
   "source": [
    "# Q11: 95% confidence interval for job satisfaction\n",
    "p_hat = 0.65  # Proportion of satisfied people\n",
    "n = 500  # Sample size\n",
    "\n",
    "# Standard error for proportions\n",
    "std_error = np.sqrt((p_hat * (1 - p_hat)) / n)\n",
    "\n",
    "# Z-value for 95% confidence level\n",
    "z_value = stats.norm.ppf(1 - (1 - 0.95) / 2)\n",
    "\n",
    "CI_lower = p_hat - (z_value * std_error)\n",
    "CI_upper = p_hat + (z_value * std_error)\n",
    "CI_lower, CI_upper  # Confidence interval for the proportion"
   ]
  },
  {
   "cell_type": "code",
   "execution_count": 18,
   "metadata": {},
   "outputs": [
    {
     "data": {
      "text/plain": [
       "(np.float64(2.10386061995483), np.float64(2.663286953537658))"
      ]
     },
     "execution_count": 18,
     "metadata": {},
     "output_type": "execute_result"
    }
   ],
   "source": [
    "# Q12: t-test for two independent samples (Teaching methods)\n",
    "mean_A = 85\n",
    "std_dev_A = 6\n",
    "n_A = 30\n",
    "mean_B = 82\n",
    "std_dev_B = 5\n",
    "n_B = 30\n",
    "\n",
    "# t-statistic for two independent samples\n",
    "pooled_std_dev = np.sqrt(((n_A - 1) * std_dev_A**2 + (n_B - 1) * std_dev_B**2) / (n_A + n_B - 2))\n",
    "t_statistic = (mean_A - mean_B) / (pooled_std_dev * np.sqrt(1/n_A + 1/n_B))\n",
    "\n",
    "# t-value for significance level of 0.01\n",
    "t_critical = stats.t.ppf(1 - 0.01 / 2, df=n_A + n_B - 2)\n",
    "t_statistic, t_critical  # Compare t-statistic with t-critical"
   ]
  },
  {
   "cell_type": "code",
   "execution_count": 19,
   "metadata": {},
   "outputs": [
    {
     "data": {
      "text/plain": [
       "(np.float64(63.13906055411732), np.float64(66.86093944588268))"
      ]
     },
     "execution_count": 19,
     "metadata": {},
     "output_type": "execute_result"
    }
   ],
   "source": [
    "# Q13: 90% confidence interval for population mean\n",
    "sample_mean = 65\n",
    "population_mean = 60\n",
    "std_dev = 8\n",
    "n = 50\n",
    "\n",
    "std_error = std_dev / np.sqrt(n)\n",
    "z_value = stats.norm.ppf(1 - (1 - 0.90) / 2)\n",
    "\n",
    "CI_lower = sample_mean - (z_value * std_error)\n",
    "CI_upper = sample_mean + (z_value * std_error)\n",
    "CI_lower, CI_upper  # Confidence interval"
   ]
  },
  {
   "cell_type": "code",
   "execution_count": 20,
   "metadata": {},
   "outputs": [
    {
     "data": {
      "text/plain": [
       "(np.float64(27.386127875258307), np.float64(1.6991270265334972))"
      ]
     },
     "execution_count": 20,
     "metadata": {},
     "output_type": "execute_result"
    }
   ],
   "source": [
    "# Q14: t-test for caffeine effect on reaction time\n",
    "mean_reaction_time = 0.25\n",
    "std_dev_reaction_time = 0.05\n",
    "n = 30\n",
    "population_mean = 0  # Null hypothesis\n",
    "\n",
    "t_statistic = (mean_reaction_time - population_mean) / (std_dev_reaction_time / np.sqrt(n))\n",
    "\n",
    "# t-value for 90% confidence level\n",
    "t_critical = stats.t.ppf(0.95, df=n-1)\n",
    "t_statistic, t_critical  # Compare t-statistic with t-critical"
   ]
  },
  {
   "cell_type": "code",
   "execution_count": null,
   "metadata": {},
   "outputs": [],
   "source": []
  }
 ],
 "metadata": {
  "kernelspec": {
   "display_name": "Python 3",
   "language": "python",
   "name": "python3"
  },
  "language_info": {
   "codemirror_mode": {
    "name": "ipython",
    "version": 3
   },
   "file_extension": ".py",
   "mimetype": "text/x-python",
   "name": "python",
   "nbconvert_exporter": "python",
   "pygments_lexer": "ipython3",
   "version": "3.11.9"
  }
 },
 "nbformat": 4,
 "nbformat_minor": 2
}
