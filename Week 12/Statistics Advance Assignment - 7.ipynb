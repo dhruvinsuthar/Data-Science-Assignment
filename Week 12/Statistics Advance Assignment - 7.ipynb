{
 "cells": [
  {
   "cell_type": "code",
   "execution_count": 1,
   "metadata": {},
   "outputs": [],
   "source": [
    "# Importing necessary libraries\n",
    "import scipy.stats as stats\n",
    "import numpy as np\n",
    "import matplotlib.pyplot as plt\n",
    "import pandas as pd\n"
   ]
  },
  {
   "cell_type": "code",
   "execution_count": 2,
   "metadata": {},
   "outputs": [
    {
     "name": "stdout",
     "output_type": "stream",
     "text": [
      "\n",
      "Q1: Variance Ratio Test: (np.float64(0.5183833884513586), np.float64(0.04104516834804084))\n"
     ]
    }
   ],
   "source": [
    "# Q1: Function to calculate F-value and p-value for variance ratio test\n",
    "def variance_ratio_test(array1, array2):\n",
    "    f_value = np.var(array1, ddof=1) / np.var(array2, ddof=1)\n",
    "    dfn = len(array1) - 1\n",
    "    dfd = len(array2) - 1\n",
    "    p_value = stats.f.cdf(f_value, dfn, dfd)\n",
    "    return f_value, p_value\n",
    "\n",
    "# Example usage for Q1\n",
    "array1 = np.random.normal(10, 2, 30)\n",
    "array2 = np.random.normal(10, 3, 30)\n",
    "print(\"\\nQ1: Variance Ratio Test:\", variance_ratio_test(array1, array2))"
   ]
  },
  {
   "cell_type": "code",
   "execution_count": 3,
   "metadata": {},
   "outputs": [
    {
     "name": "stdout",
     "output_type": "stream",
     "text": [
      "\n",
      "Q2: Critical F-value: 2.7736713751990805\n"
     ]
    }
   ],
   "source": [
    "# Q2: Function to return critical F-value for a two-tailed test\n",
    "def critical_f_value(alpha, dfn, dfd):\n",
    "    f_critical = stats.f.ppf(1 - alpha / 2, dfn, dfd)\n",
    "    return f_critical\n",
    "\n",
    "# Example usage for Q2\n",
    "print(\"\\nQ2: Critical F-value:\", critical_f_value(0.05, 10, 20))"
   ]
  },
  {
   "cell_type": "code",
   "execution_count": 4,
   "metadata": {},
   "outputs": [
    {
     "name": "stdout",
     "output_type": "stream",
     "text": [
      "\n",
      "Q3: F-Test on Samples: (np.float64(0.44316123518693307), 29, 29, np.float64(0.016023627011647345))\n"
     ]
    }
   ],
   "source": [
    "# Q3: Generate random samples and perform F-test\n",
    "def f_test_samples():\n",
    "    sample1 = np.random.normal(50, 5, 30)\n",
    "    sample2 = np.random.normal(50, 7, 30)\n",
    "    f_value, p_value = variance_ratio_test(sample1, sample2)\n",
    "    return f_value, len(sample1) - 1, len(sample2) - 1, p_value\n",
    "\n",
    "# Example usage for Q3\n",
    "print(\"\\nQ3: F-Test on Samples:\", f_test_samples())"
   ]
  },
  {
   "cell_type": "code",
   "execution_count": 5,
   "metadata": {},
   "outputs": [
    {
     "name": "stdout",
     "output_type": "stream",
     "text": [
      "\n",
      "Q4: F-value: 0.6666666666666666 , p-value: 0.25619489936789996\n"
     ]
    }
   ],
   "source": [
    "# Q4: Conduct an F-test for given variances and sample sizes\n",
    "var1, var2 = 10, 15\n",
    "n1, n2 = 12, 12\n",
    "f_value = var1 / var2\n",
    "p_value = stats.f.cdf(f_value, n1 - 1, n2 - 1)\n",
    "print(\"\\nQ4: F-value:\", f_value, \", p-value:\", p_value)\n"
   ]
  },
  {
   "cell_type": "code",
   "execution_count": 6,
   "metadata": {},
   "outputs": [
    {
     "name": "stdout",
     "output_type": "stream",
     "text": [
      "\n",
      "Q5: F-value: 1.2 , p-value: 0.6706345317182756\n"
     ]
    }
   ],
   "source": [
    "# Q5: F-test for manufacturer claim\n",
    "sample_variance = 0.006\n",
    "claimed_variance = 0.005\n",
    "n = 25\n",
    "f_value = sample_variance / claimed_variance\n",
    "p_value = stats.f.cdf(f_value, n - 1, n - 1)\n",
    "print(\"\\nQ5: F-value:\", f_value, \", p-value:\", p_value)"
   ]
  },
  {
   "cell_type": "code",
   "execution_count": 7,
   "metadata": {},
   "outputs": [
    {
     "name": "stdout",
     "output_type": "stream",
     "text": [
      "\n",
      "Q6: Mean and Variance of F-distribution: (1.1111111111111112, 0.43209876543209874)\n"
     ]
    }
   ],
   "source": [
    "\n",
    "# Q6: Calculate mean and variance of F-distribution\n",
    "def f_distribution_mean_variance(dfn, dfd):\n",
    "    mean = dfd / (dfd - 2) if dfd > 2 else np.nan\n",
    "    variance = (2 * (dfd**2) * (dfn + dfd - 2)) / (dfn * (dfd - 2)**2 * (dfd - 4)) if dfd > 4 else np.nan\n",
    "    return mean, variance\n",
    "\n",
    "# Example usage for Q6\n",
    "print(\"\\nQ6: Mean and Variance of F-distribution:\", f_distribution_mean_variance(10, 20))"
   ]
  },
  {
   "cell_type": "code",
   "execution_count": 8,
   "metadata": {},
   "outputs": [
    {
     "name": "stdout",
     "output_type": "stream",
     "text": [
      "\n",
      "Q7: F-value: 1.25 , p-value: 0.6583902808707024\n"
     ]
    }
   ],
   "source": [
    "# Q7: F-test for sample variances\n",
    "sample1_var = 25\n",
    "sample2_var = 20\n",
    "n1, n2 = 10, 15\n",
    "f_value = sample1_var / sample2_var\n",
    "p_value = stats.f.cdf(f_value, n1 - 1, n2 - 1)\n",
    "print(\"\\nQ7: F-value:\", f_value, \", p-value:\", p_value)\n"
   ]
  },
  {
   "cell_type": "code",
   "execution_count": 9,
   "metadata": {},
   "outputs": [
    {
     "name": "stdout",
     "output_type": "stream",
     "text": [
      "\n",
      "Q8: F-value: 1.4551907719609583 , p-value: 0.6512592126031258\n"
     ]
    }
   ],
   "source": [
    "# Q8: F-test for restaurant waiting times\n",
    "data_a = [24, 25, 28, 23, 22, 20, 27]\n",
    "data_b = [31, 33, 35, 30, 32, 36]\n",
    "f_value, p_value = variance_ratio_test(data_a, data_b)\n",
    "print(\"\\nQ8: F-value:\", f_value, \", p-value:\", p_value)"
   ]
  },
  {
   "cell_type": "code",
   "execution_count": 10,
   "metadata": {},
   "outputs": [
    {
     "name": "stdout",
     "output_type": "stream",
     "text": [
      "\n",
      "Q9: F-value: 1.9442622950819677 , p-value: 0.7584478225464656\n"
     ]
    }
   ],
   "source": [
    "# Q9: F-test for student test scores\n",
    "group_a = [80, 85, 90, 92, 87, 83]\n",
    "group_b = [75, 78, 82, 79, 81, 84]\n",
    "f_value, p_value = variance_ratio_test(group_a, group_b)\n",
    "print(\"\\nQ9: F-value:\", f_value, \", p-value:\", p_value)"
   ]
  },
  {
   "cell_type": "code",
   "execution_count": null,
   "metadata": {},
   "outputs": [],
   "source": []
  }
 ],
 "metadata": {
  "kernelspec": {
   "display_name": "Python 3",
   "language": "python",
   "name": "python3"
  },
  "language_info": {
   "codemirror_mode": {
    "name": "ipython",
    "version": 3
   },
   "file_extension": ".py",
   "mimetype": "text/x-python",
   "name": "python",
   "nbconvert_exporter": "python",
   "pygments_lexer": "ipython3",
   "version": "3.11.9"
  }
 },
 "nbformat": 4,
 "nbformat_minor": 2
}
