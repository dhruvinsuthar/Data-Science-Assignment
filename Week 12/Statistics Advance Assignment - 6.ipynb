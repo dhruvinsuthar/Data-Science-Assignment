{
 "cells": [
  {
   "cell_type": "code",
   "execution_count": 1,
   "metadata": {},
   "outputs": [],
   "source": [
    "# Importing necessary libraries\n",
    "import scipy.stats as stats\n",
    "import numpy as np\n",
    "import matplotlib.pyplot as plt\n",
    "import pandas as pd\n",
    "\n",
    "# Q1: Explain the assumptions required to use ANOVA and examples of violations.\n",
    "# Assumptions:\n",
    "# 1. Independence: Observations are independent of each other.\n",
    "# 2. Normality: Data within each group should follow a normal distribution.\n",
    "# 3. Homogeneity of variances: Variance across groups should be equal.\n",
    "#\n",
    "# Examples of Violations:\n",
    "# - Independence: Sampling the same individuals multiple times without accounting for the repeated measures.\n",
    "# - Normality: Skewed or bimodal distributions.\n",
    "# - Homogeneity of variances: Group variances differ significantly."
   ]
  },
  {
   "cell_type": "code",
   "execution_count": 2,
   "metadata": {},
   "outputs": [],
   "source": [
    "\n",
    "# Q2: Three types of ANOVA and their usage.\n",
    "# 1. One-way ANOVA: Compares means of three or more independent groups.\n",
    "# 2. Two-way ANOVA: Examines the effect of two independent variables and their interaction.\n",
    "# 3. Repeated measures ANOVA: Used when the same subjects are measured multiple times under different conditions."
   ]
  },
  {
   "cell_type": "code",
   "execution_count": 3,
   "metadata": {},
   "outputs": [],
   "source": [
    "# Q3: Partitioning of variance in ANOVA.\n",
    "# - Total Sum of Squares (SST): Total variance in the data.\n",
    "# - Explained Sum of Squares (SSE): Variance explained by the groups.\n",
    "# - Residual Sum of Squares (SSR): Variance within groups (unexplained).\n",
    "# Importance: Helps understand how much variation is due to group differences versus random error."
   ]
  },
  {
   "cell_type": "code",
   "execution_count": 4,
   "metadata": {},
   "outputs": [
    {
     "name": "stdout",
     "output_type": "stream",
     "text": [
      "\n",
      "Q4: SST: 848.1492999393902 , SSE: 2.5795191522161005 , SSR: 845.5697807871741\n"
     ]
    }
   ],
   "source": [
    "# Q4: Calculate SST, SSE, and SSR in a one-way ANOVA using Python.\n",
    "# Example Data\n",
    "np.random.seed(0)\n",
    "data = {\n",
    "    'Group': ['A'] * 10 + ['B'] * 10 + ['C'] * 10,\n",
    "    'Value': np.random.normal(20, 5, 10).tolist() + \\\n",
    "             np.random.normal(22, 5, 10).tolist() + \\\n",
    "             np.random.normal(24, 5, 10).tolist()\n",
    "}\n",
    "df = pd.DataFrame(data)\n",
    "\n",
    "# Calculate SST, SSE, SSR\n",
    "grand_mean = df['Value'].mean()\n",
    "SST = ((df['Value'] - grand_mean)**2).sum()\n",
    "SSE = df.groupby('Group')['Value'].mean().apply(lambda x: (x - grand_mean)**2).sum() * len(df['Group'].unique())\n",
    "SSR = SST - SSE\n",
    "print(\"\\nQ4: SST:\", SST, \", SSE:\", SSE, \", SSR:\", SSR)"
   ]
  },
  {
   "cell_type": "code",
   "execution_count": 6,
   "metadata": {},
   "outputs": [
    {
     "name": "stdout",
     "output_type": "stream",
     "text": [
      "\n",
      "Q5: Two-Way ANOVA Table:\n",
      "                                sum_sq    df          F    PR(>F)\n",
      "C(Software)                561.398507   2.0  10.840016  0.000442\n",
      "C(Experience)               37.458344   1.0   1.446563  0.240812\n",
      "C(Software):C(Experience)   19.614183   2.0   0.378729  0.688751\n",
      "Residual                   621.473464  24.0        NaN       NaN\n"
     ]
    }
   ],
   "source": [
    "\n",
    "# Q5: Calculate main effects and interaction effects in a two-way ANOVA using Python.\n",
    "# Example Data\n",
    "data = {\n",
    "    'Software': ['A', 'B', 'C'] * 10,\n",
    "    'Experience': ['Novice'] * 15 + ['Experienced'] * 15,\n",
    "    'Time': np.random.normal(30, 5, 30)\n",
    "}\n",
    "df2 = pd.DataFrame(data)\n",
    "\n",
    "df2['Time'] += (df2['Software'].apply(lambda x: 5 if x == 'A' else (0 if x == 'B' else -5)) +\n",
    "                df2['Experience'].apply(lambda x: 2 if x == 'Novice' else -2))\n",
    "\n",
    "import statsmodels.api as sm\n",
    "from statsmodels.formula.api import ols\n",
    "model = ols('Time ~ C(Software) + C(Experience) + C(Software):C(Experience)', data=df2).fit()\n",
    "anova_table = sm.stats.anova_lm(model, typ=2)\n",
    "print(\"\\nQ5: Two-Way ANOVA Table:\\n\", anova_table)\n"
   ]
  },
  {
   "cell_type": "code",
   "execution_count": 7,
   "metadata": {},
   "outputs": [],
   "source": [
    "# Q6: Interpretation of one-way ANOVA results.\n",
    "# F-statistic = 5.23, p-value = 0.02\n",
    "# Interpretation: Since p-value < 0.05, we reject the null hypothesis and conclude significant differences exist between the groups."
   ]
  },
  {
   "cell_type": "code",
   "execution_count": 8,
   "metadata": {},
   "outputs": [],
   "source": [
    "# Q7: Handling missing data in repeated measures ANOVA.\n",
    "# - Methods: Mean imputation, last observation carried forward, or multiple imputation.\n",
    "# - Consequences: Can introduce bias or reduce power.\n"
   ]
  },
  {
   "cell_type": "code",
   "execution_count": 9,
   "metadata": {},
   "outputs": [],
   "source": [
    "# Q8: Common post-hoc tests after ANOVA.\n",
    "# - Tukey's HSD: Used for pairwise comparisons when group sizes are equal.\n",
    "# - Bonferroni: Controls for Type I error in multiple comparisons.\n",
    "# Example: Use post-hoc if ANOVA indicates significant differences."
   ]
  },
  {
   "cell_type": "code",
   "execution_count": 10,
   "metadata": {},
   "outputs": [
    {
     "name": "stdout",
     "output_type": "stream",
     "text": [
      "\n",
      "Q9: One-Way ANOVA Table:\n",
      "              sum_sq    df          F    PR(>F)\n",
      "C(Diet)   25.363054   2.0  14.373581  0.000013\n",
      "Residual  41.467173  47.0        NaN       NaN\n"
     ]
    }
   ],
   "source": [
    "# Q9: Conduct one-way ANOVA for mean weight loss.\n",
    "data = {\n",
    "    'Diet': ['A'] * 17 + ['B'] * 17 + ['C'] * 16,\n",
    "    'WeightLoss': np.random.normal(5, 1, 17).tolist() +\n",
    "                  np.random.normal(6, 1, 17).tolist() +\n",
    "                  np.random.normal(7, 1, 16).tolist()\n",
    "}\n",
    "df3 = pd.DataFrame(data)\n",
    "model = ols('WeightLoss ~ C(Diet)', data=df3).fit()\n",
    "anova_table = sm.stats.anova_lm(model, typ=2)\n",
    "print(\"\\nQ9: One-Way ANOVA Table:\\n\", anova_table)"
   ]
  },
  {
   "cell_type": "code",
   "execution_count": 11,
   "metadata": {},
   "outputs": [
    {
     "name": "stdout",
     "output_type": "stream",
     "text": [
      "\n",
      "Q10: Two-Way ANOVA Table:\n",
      "                                sum_sq    df         F    PR(>F)\n",
      "C(Software)                450.099554   2.0  8.662103  0.001473\n",
      "C(Experience)              178.468900   1.0  6.869218  0.014978\n",
      "C(Software):C(Experience)   27.567488   2.0  0.530532  0.595032\n",
      "Residual                   623.543116  24.0       NaN       NaN\n"
     ]
    }
   ],
   "source": [
    "# Q10: Conduct two-way ANOVA for task completion time.\n",
    "data = {\n",
    "    'Software': ['A', 'B', 'C'] * 10,\n",
    "    'Experience': ['Novice'] * 15 + ['Experienced'] * 15,\n",
    "    'Time': np.random.normal(30, 5, 30)\n",
    "}\n",
    "df4 = pd.DataFrame(data)\n",
    "\n",
    "df4['Time'] += (df4['Software'].apply(lambda x: 5 if x == 'A' else (0 if x == 'B' else -5)) +\n",
    "                df4['Experience'].apply(lambda x: 2 if x == 'Novice' else -2))\n",
    "\n",
    "model = ols('Time ~ C(Software) + C(Experience) + C(Software):C(Experience)', data=df4).fit()\n",
    "anova_table = sm.stats.anova_lm(model, typ=2)\n",
    "print(\"\\nQ10: Two-Way ANOVA Table:\\n\", anova_table)\n"
   ]
  },
  {
   "cell_type": "code",
   "execution_count": 12,
   "metadata": {},
   "outputs": [
    {
     "name": "stdout",
     "output_type": "stream",
     "text": [
      "\n",
      "Q11: Two-Sample T-Test: t-statistic: -1.3268959154906732 , p-value: 0.18762653197722945\n"
     ]
    }
   ],
   "source": [
    "# Q11: Conduct two-sample t-test for test scores.\n",
    "control = np.random.normal(70, 10, 50)\n",
    "experimental = np.random.normal(75, 10, 50)\n",
    "\n",
    "t_stat, p_val = stats.ttest_ind(control, experimental)\n",
    "print(\"\\nQ11: Two-Sample T-Test: t-statistic:\", t_stat, \", p-value:\", p_val)"
   ]
  },
  {
   "cell_type": "code",
   "execution_count": 13,
   "metadata": {},
   "outputs": [
    {
     "name": "stdout",
     "output_type": "stream",
     "text": [
      "\n",
      "Q12: Repeated Measures ANOVA:\n",
      "                Anova\n",
      "===================================\n",
      "      F Value Num DF  Den DF Pr > F\n",
      "-----------------------------------\n",
      "Store  9.8662 2.0000 18.0000 0.0013\n",
      "===================================\n",
      "\n"
     ]
    }
   ],
   "source": [
    "# Q12: Conduct repeated measures ANOVA for sales data.\n",
    "data = {\n",
    "    'Store': ['A'] * 10 + ['B'] * 10 + ['C'] * 10,\n",
    "    'Day': list(range(10)) * 3,\n",
    "    'Sales': np.random.normal(100, 10, 10).tolist() +\n",
    "             np.random.normal(110, 10, 10).tolist() +\n",
    "             np.random.normal(120, 10, 10).tolist()\n",
    "}\n",
    "df5 = pd.DataFrame(data)\n",
    "\n",
    "from statsmodels.stats.anova import AnovaRM\n",
    "rm_anova = AnovaRM(df5, 'Sales', 'Day', within=['Store']).fit()\n",
    "print(\"\\nQ12: Repeated Measures ANOVA:\\n\", rm_anova)"
   ]
  },
  {
   "cell_type": "code",
   "execution_count": null,
   "metadata": {},
   "outputs": [],
   "source": []
  }
 ],
 "metadata": {
  "kernelspec": {
   "display_name": "Python 3",
   "language": "python",
   "name": "python3"
  },
  "language_info": {
   "codemirror_mode": {
    "name": "ipython",
    "version": 3
   },
   "file_extension": ".py",
   "mimetype": "text/x-python",
   "name": "python",
   "nbconvert_exporter": "python",
   "pygments_lexer": "ipython3",
   "version": "3.11.9"
  }
 },
 "nbformat": 4,
 "nbformat_minor": 2
}
