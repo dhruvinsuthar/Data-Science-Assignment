{
 "cells": [
  {
   "cell_type": "markdown",
   "metadata": {},
   "source": [
    "Q1"
   ]
  },
  {
   "cell_type": "markdown",
   "metadata": {},
   "source": [
    "Multithreading in Python is a way to run multiple threads (smaller tasks) simultaneously within a program. It allows you to perform multiple operations at once, which can be useful for tasks like handling multiple user requests or performing time-consuming operations without freezing the program. The module used to handle threads in Python is called the threading module."
   ]
  },
  {
   "cell_type": "markdown",
   "metadata": {},
   "source": [
    "Q2"
   ]
  },
  {
   "cell_type": "markdown",
   "metadata": {},
   "source": [
    "The threading module is used to create and manage threads in Python. It allows you to run code in parallel, improving efficiency for certain tasks.\n",
    "\n",
    "activeCount() function returns the number of currently active threads.\n",
    "\n",
    "currentThread() returns the thread object for the thread that is currently executing.\n",
    "\n",
    "enumerate() function returns a list of all active threads in the program."
   ]
  },
  {
   "cell_type": "markdown",
   "metadata": {},
   "source": [
    "Q3"
   ]
  },
  {
   "cell_type": "markdown",
   "metadata": {},
   "source": [
    "run() is the method that contains the code you want a thread to execute. It’s typically overridden in a subclass of Thread but can be used directly in simpler cases.\n",
    "\n",
    "start() method starts the thread’s activity. It triggers the run() method to begin execution in a separate thread.\n",
    "\n",
    "join() method waits for a thread to finish its task before continuing with the rest of the program. If you call join() on a thread, the main program will pause until that thread is done.\n",
    "\n",
    "isAlive() function checks if a thread is still running. It returns True if the thread is still alive and False if it has finished."
   ]
  },
  {
   "cell_type": "markdown",
   "metadata": {},
   "source": [
    "Q4"
   ]
  },
  {
   "cell_type": "code",
   "execution_count": 2,
   "metadata": {},
   "outputs": [
    {
     "name": "stdout",
     "output_type": "stream",
     "text": [
      "Squares: [1, 4, 9, 16, 25]\n",
      "Cubes: [1, 8, 27, 64, 125]\n"
     ]
    }
   ],
   "source": [
    "import threading\n",
    "\n",
    "def print_squares():\n",
    "    squares = [i ** 2 for i in range(1, 6)]\n",
    "    print(\"Squares:\", squares)\n",
    "\n",
    "def print_cubes():\n",
    "    cubes = [i ** 3 for i in range(1, 6)]\n",
    "    print(\"Cubes:\", cubes)\n",
    "\n",
    "thread1 = threading.Thread(target=print_squares)\n",
    "thread2 = threading.Thread(target=print_cubes)\n",
    "\n",
    "thread1.start()\n",
    "thread2.start()\n",
    "\n",
    "thread1.join()\n",
    "thread2.join()\n"
   ]
  },
  {
   "cell_type": "markdown",
   "metadata": {},
   "source": [
    "Q5"
   ]
  },
  {
   "cell_type": "markdown",
   "metadata": {},
   "source": [
    "Multithreading has some clear advantages. It can improve performance by allowing multiple tasks to run at the same time, especially useful in I/O-bound tasks like reading files or handling multiple user requests. It also makes a program more responsive because it can perform background tasks without blocking the main flow.\n",
    "\n",
    "However, there are also disadvantages. Multithreading can make a program more complex, especially when managing shared resources. It can lead to issues like deadlocks and race conditions if threads aren’t properly managed. Additionally, Python’s Global Interpreter Lock (GIL) can limit the effectiveness of multithreading in CPU-bound tasks, as it allows only one thread to execute Python bytecode at a time."
   ]
  },
  {
   "cell_type": "markdown",
   "metadata": {},
   "source": [
    "Q6"
   ]
  },
  {
   "cell_type": "markdown",
   "metadata": {},
   "source": [
    "A deadlock occurs when two or more threads are blocked forever because they are each waiting for the other to release a resource. For example, one thread holds lock A and waits for lock B, while another thread holds lock B and waits for lock A. Both threads end up stuck in this waiting state forever.\n",
    "\n",
    "A race condition happens when two or more threads access shared data at the same time and at least one of them modifies the data. This can lead to unpredictable results, as the outcome depends on the order in which the threads execute. Proper synchronization (like using locks) is needed to prevent race conditions."
   ]
  },
  {
   "cell_type": "markdown",
   "metadata": {},
   "source": []
  }
 ],
 "metadata": {
  "kernelspec": {
   "display_name": "Python 3",
   "language": "python",
   "name": "python3"
  },
  "language_info": {
   "codemirror_mode": {
    "name": "ipython",
    "version": 3
   },
   "file_extension": ".py",
   "mimetype": "text/x-python",
   "name": "python",
   "nbconvert_exporter": "python",
   "pygments_lexer": "ipython3",
   "version": "3.12.4"
  }
 },
 "nbformat": 4,
 "nbformat_minor": 2
}
