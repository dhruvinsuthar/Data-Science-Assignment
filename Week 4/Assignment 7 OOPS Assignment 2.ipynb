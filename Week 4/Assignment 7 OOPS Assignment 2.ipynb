{
 "cells": [
  {
   "cell_type": "code",
   "execution_count": 1,
   "id": "b3ce721d-0494-413a-8b9c-2d7f911f4cf3",
   "metadata": {},
   "outputs": [],
   "source": [
    "# Q1. What is Abstraction in OOps? Explain with an example."
   ]
  },
  {
   "cell_type": "code",
   "execution_count": 2,
   "id": "257f3736-7d79-46a0-9299-59fdba15a35a",
   "metadata": {},
   "outputs": [],
   "source": [
    "# Abstraction is the concept of hiding unnecessary details and only showing essential information."
   ]
  },
  {
   "cell_type": "code",
   "execution_count": 9,
   "id": "b559b5b9-4060-4db8-aaef-cce1a27b181a",
   "metadata": {},
   "outputs": [],
   "source": [
    "from abc import abstractmethod\n",
    "class pwskills:\n",
    "    @abstractmethod\n",
    "    def fees(self):\n",
    "        pass\n",
    "\n",
    "class data_science(pwskills):\n",
    "    def fees(self):\n",
    "        print(3500)\n",
    "        \n",
    "class web_dev(pwskills):\n",
    "    def fees(self):\n",
    "        print(3200)"
   ]
  },
  {
   "cell_type": "code",
   "execution_count": 11,
   "id": "4d44708e-6946-4eb8-bf37-af90774ba93f",
   "metadata": {},
   "outputs": [],
   "source": [
    "ds=data_science()\n",
    "wd=web_dev()"
   ]
  },
  {
   "cell_type": "code",
   "execution_count": 13,
   "id": "de7194ea-eaf5-4319-ae10-63c3d0aeb088",
   "metadata": {},
   "outputs": [
    {
     "name": "stdout",
     "output_type": "stream",
     "text": [
      "3500\n"
     ]
    }
   ],
   "source": [
    "ds.fees()"
   ]
  },
  {
   "cell_type": "code",
   "execution_count": 15,
   "id": "bc37562b-190f-408a-87ab-9db1dbca8b13",
   "metadata": {},
   "outputs": [
    {
     "name": "stdout",
     "output_type": "stream",
     "text": [
      "3200\n"
     ]
    }
   ],
   "source": [
    "wd.fees()"
   ]
  },
  {
   "cell_type": "code",
   "execution_count": 16,
   "id": "b8e2e1d3-ec3e-437e-896b-1c9b6646cb23",
   "metadata": {},
   "outputs": [],
   "source": [
    "# Q2. Differentiate between Abstraction and Encapsulation. Explain with an example."
   ]
  },
  {
   "cell_type": "code",
   "execution_count": 17,
   "id": "82b70ebf-b9aa-4ecc-a98c-522734a81a99",
   "metadata": {},
   "outputs": [],
   "source": [
    "# abstraction hides unwanted things and shows essential things while encapsulation pack the informartion and either it hides or showas but done on full data"
   ]
  },
  {
   "cell_type": "code",
   "execution_count": 28,
   "id": "e417adb8-39b6-4007-84a3-deba44e29780",
   "metadata": {},
   "outputs": [],
   "source": [
    "#this is encapculation example\n",
    "#while above is abtraction\n",
    "class pwskills:\n",
    "    def __init__(self,fees):\n",
    "        self.fees = fees\n",
    "        \n",
    "    def data_science(self):\n",
    "        return self.fees\n",
    "    \n",
    "    def set_fees(self, fees):\n",
    "        if fees>=3500:\n",
    "            self.fees = fees\n",
    "        else:\n",
    "            pass"
   ]
  },
  {
   "cell_type": "code",
   "execution_count": 29,
   "id": "5c9eeb4c-0313-4fba-9034-76e955fbd6c0",
   "metadata": {},
   "outputs": [],
   "source": [
    "pw=pwskills(3500)"
   ]
  },
  {
   "cell_type": "code",
   "execution_count": 30,
   "id": "3d60a99a-ca04-4931-9cca-56624ec6ad90",
   "metadata": {},
   "outputs": [],
   "source": [
    "pw.set_fees(4000)"
   ]
  },
  {
   "cell_type": "code",
   "execution_count": 31,
   "id": "680a003a-5bdc-474f-8be0-607abbd927d7",
   "metadata": {},
   "outputs": [
    {
     "data": {
      "text/plain": [
       "4000"
      ]
     },
     "execution_count": 31,
     "metadata": {},
     "output_type": "execute_result"
    }
   ],
   "source": [
    "pw.data_science()"
   ]
  },
  {
   "cell_type": "code",
   "execution_count": 32,
   "id": "917c97cc-a8d1-4f2f-86bf-b560251b0d95",
   "metadata": {},
   "outputs": [],
   "source": [
    "# Q3. What is abc module in python? Why is it used?"
   ]
  },
  {
   "cell_type": "code",
   "execution_count": 33,
   "id": "89d397f5-4a8c-433d-9264-50aff7e847b2",
   "metadata": {},
   "outputs": [],
   "source": [
    "# abc is abtract base class is use to deifne wheather the clss is abtract or not \n",
    "# it is use to implemant the abtraction in class"
   ]
  },
  {
   "cell_type": "code",
   "execution_count": 34,
   "id": "6a00fa67-9c4f-4c84-9291-45fbea1df019",
   "metadata": {},
   "outputs": [],
   "source": [
    "# Q4. How can we achieve data abstraction?"
   ]
  },
  {
   "cell_type": "code",
   "execution_count": 35,
   "id": "336ef662-eb9d-4d83-a1a6-db731ec78c11",
   "metadata": {},
   "outputs": [],
   "source": [
    "# data abstraction can be achieved by defining abtract method in class and it helps to hide unnecessary data "
   ]
  },
  {
   "cell_type": "code",
   "execution_count": 36,
   "id": "40ae7a7f-18e1-4c3d-b3a7-aeb4611faccf",
   "metadata": {},
   "outputs": [],
   "source": [
    "# Q5. Can we create an instance of an abstract class? Explain your answer."
   ]
  },
  {
   "cell_type": "code",
   "execution_count": 37,
   "id": "94c527c6-7cca-404a-9386-59c035fb2d5f",
   "metadata": {},
   "outputs": [],
   "source": [
    "# no we cant create insatnce of abstrat class as abstrcat class dont provide all information like it hides unnecessary data "
   ]
  }
 ],
 "metadata": {
  "kernelspec": {
   "display_name": "Python 3 (ipykernel)",
   "language": "python",
   "name": "python3"
  },
  "language_info": {
   "codemirror_mode": {
    "name": "ipython",
    "version": 3
   },
   "file_extension": ".py",
   "mimetype": "text/x-python",
   "name": "python",
   "nbconvert_exporter": "python",
   "pygments_lexer": "ipython3",
   "version": "3.10.8"
  }
 },
 "nbformat": 4,
 "nbformat_minor": 5
}
