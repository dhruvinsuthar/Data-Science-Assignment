{
 "cells": [
  {
   "cell_type": "code",
   "execution_count": 1,
   "id": "a4174155-deb2-4895-be3d-5ca7bf7114fd",
   "metadata": {},
   "outputs": [],
   "source": [
    "# Q1, Create a vehicle class with an init method having instance variables as name_of_vehicle, max_speed and average_of_vehicle."
   ]
  },
  {
   "cell_type": "code",
   "execution_count": 4,
   "id": "347365a9-628b-4f5e-a1e1-fe3a96f766e1",
   "metadata": {},
   "outputs": [],
   "source": [
    "class vehicle:\n",
    "    def __init__(self,name_of_vehicle,max_speed,average_of_vehicle):\n",
    "        self.name_of_vehicle = name_of_vheicle\n",
    "        self.max_speed = max_speed\n",
    "        self.average_of_vehicle = average_of_vehicle"
   ]
  },
  {
   "cell_type": "code",
   "execution_count": 5,
   "id": "3b58028f-ed1f-4080-a496-35a71451453a",
   "metadata": {},
   "outputs": [],
   "source": [
    "# Q2. Create a child class car from the vehicle class created in Que 1, which will inherit the vehicle class. Create a method named seating_capacity which takes capacity as an argument and returns the name of the vehicle and its seating capacity."
   ]
  },
  {
   "cell_type": "code",
   "execution_count": 6,
   "id": "81272b03-69bf-4850-83ff-23f1fcd98051",
   "metadata": {},
   "outputs": [],
   "source": [
    "class car(vehicle):\n",
    "    def seating_capacity(self,capacity):\n",
    "        return self.name_of_vehicle , capacity"
   ]
  },
  {
   "cell_type": "code",
   "execution_count": 7,
   "id": "1fcc0843-9f16-449c-b5d6-ac2c0ac161d6",
   "metadata": {},
   "outputs": [],
   "source": [
    "# Q3. What is multiple inheritance? Write a python code to demonstrate multiple inheritance."
   ]
  },
  {
   "cell_type": "code",
   "execution_count": 11,
   "id": "c082ee5b-e573-4e3f-a1a6-72b1fc33aadb",
   "metadata": {},
   "outputs": [],
   "source": [
    "# Multiple inheritance is ntohing but having a child class under more than 1 parent class"
   ]
  },
  {
   "cell_type": "code",
   "execution_count": 19,
   "id": "ba5a6674-2765-496e-8457-f7e011235ba7",
   "metadata": {},
   "outputs": [],
   "source": [
    "class parent:\n",
    "    def parent(self):\n",
    "        print(\"this is from parent 1\")\n",
    "        \n",
    "class parent2:\n",
    "    def parent2(self):\n",
    "        print(\"this is from parent 2\")\n",
    "\n",
    "class child(parent , parent2):\n",
    "    def child(self):\n",
    "        print(\"this is from child\")"
   ]
  },
  {
   "cell_type": "code",
   "execution_count": 20,
   "id": "6f4c193f-9f20-4ec2-b9e2-7e4b82aa26d8",
   "metadata": {},
   "outputs": [],
   "source": [
    "# Q4. What are getter and setter in python? Create a class and create a getter and a setter method in this class."
   ]
  },
  {
   "cell_type": "code",
   "execution_count": 1,
   "id": "e8f3fd8b-e24d-46ce-8c89-2094a7a71193",
   "metadata": {},
   "outputs": [],
   "source": [
    "# getter are use to get or aceess the particular value or attribute\n",
    "# while setter is use to modify the value or attribute of class"
   ]
  },
  {
   "cell_type": "code",
   "execution_count": 46,
   "id": "980a6a82-e6f2-48d6-8917-233f8f09db21",
   "metadata": {},
   "outputs": [],
   "source": [
    "class data_science:\n",
    "    \n",
    "    def __init__(self, course_price):\n",
    "        self.__course_price = course_price\n",
    "    \n",
    "    @property\n",
    "    def get_course_price(self):\n",
    "        return self.__course_price\n",
    "        \n",
    "    @get_course_price.setter    \n",
    "    def modify_course_price(self, price):\n",
    "        self.__course_price = price"
   ]
  },
  {
   "cell_type": "code",
   "execution_count": 47,
   "id": "72c83d16-c476-410e-a50a-05782f08e655",
   "metadata": {},
   "outputs": [],
   "source": [
    "ds = data_science(1000)"
   ]
  },
  {
   "cell_type": "code",
   "execution_count": 48,
   "id": "5b9acd90-ea85-4c46-bc5e-06c43b6cba74",
   "metadata": {},
   "outputs": [
    {
     "data": {
      "text/plain": [
       "1000"
      ]
     },
     "execution_count": 48,
     "metadata": {},
     "output_type": "execute_result"
    }
   ],
   "source": [
    "ds.get_course_price"
   ]
  },
  {
   "cell_type": "code",
   "execution_count": 50,
   "id": "de543f7a-f1b2-469a-89b8-9a38ecd03bd9",
   "metadata": {},
   "outputs": [],
   "source": [
    "ds.modify_course_price= 3500"
   ]
  },
  {
   "cell_type": "code",
   "execution_count": 51,
   "id": "7b09bfba-e58f-4299-8db4-7e267e60a611",
   "metadata": {},
   "outputs": [
    {
     "data": {
      "text/plain": [
       "3500"
      ]
     },
     "execution_count": 51,
     "metadata": {},
     "output_type": "execute_result"
    }
   ],
   "source": [
    "ds.get_course_price"
   ]
  },
  {
   "cell_type": "code",
   "execution_count": 52,
   "id": "5e75d6fd-3a61-43c3-a95e-d8d73f64a255",
   "metadata": {},
   "outputs": [],
   "source": [
    "# Q5.What is method overriding in python? Write a python code to demonstrate method overriding."
   ]
  },
  {
   "cell_type": "code",
   "execution_count": 53,
   "id": "eaf2d35b-09d7-479c-be54-4c618c5cb464",
   "metadata": {},
   "outputs": [],
   "source": [
    "# method overriding is nothing but having the method of parent class but still calls out the child function"
   ]
  },
  {
   "cell_type": "code",
   "execution_count": 55,
   "id": "d78039e9-9769-497a-9e77-7e97f9b45f90",
   "metadata": {},
   "outputs": [],
   "source": [
    "class data_science:\n",
    "    \n",
    "    def price(self):\n",
    "        print(\"Price of Data Science Course is 3500\")\n",
    "        \n",
    "class Web_dev(data_science):\n",
    "    \n",
    "    def price(self):\n",
    "        print(\"Price of Web Dev Course is 3500\")"
   ]
  },
  {
   "cell_type": "code",
   "execution_count": 61,
   "id": "07081e78-5677-4e81-843e-a6300aaafe6e",
   "metadata": {},
   "outputs": [],
   "source": [
    "wd = Web_dev()"
   ]
  },
  {
   "cell_type": "code",
   "execution_count": 63,
   "id": "59f18277-f24b-45c5-9bf2-9e881b34c518",
   "metadata": {},
   "outputs": [
    {
     "name": "stdout",
     "output_type": "stream",
     "text": [
      "Price of Web Dev Course is 3500\n"
     ]
    }
   ],
   "source": [
    "wd.price()"
   ]
  }
 ],
 "metadata": {
  "kernelspec": {
   "display_name": "Python 3 (ipykernel)",
   "language": "python",
   "name": "python3"
  },
  "language_info": {
   "codemirror_mode": {
    "name": "ipython",
    "version": 3
   },
   "file_extension": ".py",
   "mimetype": "text/x-python",
   "name": "python",
   "nbconvert_exporter": "python",
   "pygments_lexer": "ipython3",
   "version": "3.10.8"
  }
 },
 "nbformat": 4,
 "nbformat_minor": 5
}
