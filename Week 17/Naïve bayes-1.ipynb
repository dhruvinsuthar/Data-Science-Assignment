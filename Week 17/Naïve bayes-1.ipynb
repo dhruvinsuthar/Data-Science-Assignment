{
 "cells": [
  {
   "cell_type": "markdown",
   "metadata": {},
   "source": [
    "Bayes' theorem is a mathematical formula used to calculate the probability of an event based on prior knowledge of related events. It connects prior probability, likelihood, and posterior probability."
   ]
  },
  {
   "cell_type": "markdown",
   "metadata": {},
   "source": [
    "Formula is P(A|B) = [P(B|A)*P(A)]/P(B)\n",
    "\n",
    "Where:\n",
    "\n",
    "P(A|B) = Posterior probability of A given B.\n",
    "P(B|A) = Likelihood of B given A.\n",
    "P(A) = Prior probability of A.\n",
    "P(B) = Probability of B"
   ]
  },
  {
   "cell_type": "markdown",
   "metadata": {},
   "source": [
    "Bayes' theorem is widely used in spam filtering, medical diagnosis, machine learning, and risk assessment. For example, it helps estimate the probability of an email being spam based on words it contains."
   ]
  },
  {
   "cell_type": "markdown",
   "metadata": {},
   "source": [
    "Bayes' theorem is a way to compute conditional probability by flipping the condition. It calculates the probability of one event occurring given the occurrence of another."
   ]
  },
  {
   "cell_type": "markdown",
   "metadata": {},
   "source": [
    "Gaussian Naive Bayes: For continuous data (e.g., normally distributed features).\n",
    "\n",
    "Multinomial Naive Bayes: For discrete data like word counts or frequency.\n",
    "\n",
    "Bernoulli Naive Bayes: For binary data or features indicating presence/absence."
   ]
  },
  {
   "cell_type": "code",
   "execution_count": 1,
   "metadata": {},
   "outputs": [
    {
     "name": "stdout",
     "output_type": "stream",
     "text": [
      "{'A'}\n"
     ]
    }
   ],
   "source": [
    "from sklearn.naive_bayes import MultinomialNB\n",
    "import numpy as np\n",
    "\n",
    "X = np.array([\n",
    "    [1, 1], [1, 2], [1, 3], [1, 4],\n",
    "    [2, 1], [2, 2], [2, 3], [2, 4],\n",
    "    [3, 1], [3, 2], [3, 3], [3, 4]\n",
    "])\n",
    "y = np.array([\n",
    "    'A', 'A', 'A', 'A',\n",
    "    'B', 'B', 'B', 'B',\n",
    "    'A', 'A', 'A', 'B'\n",
    "])\n",
    "\n",
    "X1_counts = np.array([3, 3, 4, 4, 3, 3, 3, 3, 2, 2, 1, 2])\n",
    "X2_counts = np.array([4, 3, 3, 3, 2, 2, 2, 3, 4, 3, 3, 3])\n",
    "\n",
    "nb = MultinomialNB()\n",
    "nb.fit(X, y)\n",
    "\n",
    "new_instance = np.array([[3, 4]])\n",
    "\n",
    "prediction = nb.predict(new_instance)\n",
    "print({prediction[0]})"
   ]
  },
  {
   "cell_type": "code",
   "execution_count": null,
   "metadata": {},
   "outputs": [],
   "source": []
  }
 ],
 "metadata": {
  "kernelspec": {
   "display_name": "Python 3",
   "language": "python",
   "name": "python3"
  },
  "language_info": {
   "codemirror_mode": {
    "name": "ipython",
    "version": 3
   },
   "file_extension": ".py",
   "mimetype": "text/x-python",
   "name": "python",
   "nbconvert_exporter": "python",
   "pygments_lexer": "ipython3",
   "version": "3.12.4"
  }
 },
 "nbformat": 4,
 "nbformat_minor": 2
}
