{
 "cells": [
  {
   "cell_type": "markdown",
   "metadata": {},
   "source": [
    "Q1"
   ]
  },
  {
   "cell_type": "markdown",
   "metadata": {},
   "source": [
    "Web scraping is the process of extracting data from websites using automated tools or scripts. It involves fetching the HTML of a web page, parsing it, and extracting specific information. It is often used when data is not available in a structured format like an API or database.\n",
    "\n",
    "Web scraping is used to gather large amounts of data from websites where manual extraction would be time-consuming or impractical. It allows for automation of the data extraction process, making it faster and more efficient.\n",
    "\n",
    "Web Scraping is Used in Market Research(Scraping competitor websites to gather pricing, product information), Job Listings(Collecting job postings from job boards), Financial Data(Extracting stock prices, news)"
   ]
  },
  {
   "cell_type": "markdown",
   "metadata": {},
   "source": [
    "Q2"
   ]
  },
  {
   "cell_type": "markdown",
   "metadata": {},
   "source": [
    "Manual Copy-Paste: The simplest, though labor-intensive method, where you copy information from a website and paste it elsewhere.\n",
    "\n",
    "HTML Parsing: Parsing HTML code using libraries like BeautifulSoup or lxml to extract specific elements from a web page (e.g., titles, prices).\n",
    "\n",
    "Using Web Scraping Libraries: Libraries like BeautifulSoup, Scrapy, and Selenium can automate scraping tasks and allow for more advanced extraction techniques. These libraries can handle HTML parsing, making HTTP requests, and managing cookies and sessions.\n",
    "\n",
    "APIs: Some websites provide APIs that allow structured access to their data, which can be an alternative to scraping.\n",
    "\n",
    "Headless Browsers: Tools like Selenium or Puppeteer that automate browsing a website and scraping data from dynamically loaded pages that rely on JavaScript."
   ]
  },
  {
   "cell_type": "markdown",
   "metadata": {},
   "source": [
    "Q3"
   ]
  },
  {
   "cell_type": "markdown",
   "metadata": {},
   "source": [
    "BeautifulSoup is a Python library used for web scraping. It is specifically designed for parsing HTML and XML documents, making it easy to extract data from web pages.\n",
    "\n",
    "BeautifulSoup simplifies navigating and searching through complex HTML code. It can be used to extract elements like text, links, images, and tables from HTML documents. It works with other libraries, such as requests, to fetch HTML pages and then process them for extracting meaningful data."
   ]
  },
  {
   "cell_type": "markdown",
   "metadata": {},
   "source": [
    "Q4"
   ]
  },
  {
   "cell_type": "markdown",
   "metadata": {},
   "source": [
    "Flask is used in web scraping projects to create a web-based interface or a REST API that interacts with the web scraping logic. It allows you to provide a user-friendly interface for people to trigger scraping tasks, view results, or input URLs to be scraped."
   ]
  },
  {
   "cell_type": "markdown",
   "metadata": {},
   "source": [
    "Q5"
   ]
  },
  {
   "cell_type": "markdown",
   "metadata": {},
   "source": [
    "In a web scraping project, several AWS services can be used to manage different aspects of the system. AWS EC2 provides scalable compute resources to run the scraping scripts or host a Flask app. AWS Lambda can be used for serverless execution, allowing you to trigger scraping tasks without managing servers. AWS S3 is ideal for storing scraped data in files like JSON or CSV. If you need structured storage, AWS RDS can store the data in a relational database. AWS CloudWatch helps monitor the performance of your instances or functions, logging events and errors. AWS API Gateway can manage API requests if you expose your scraping functionality as an API, and AWS IAM ensures secure access control to the resources."
   ]
  },
  {
   "cell_type": "markdown",
   "metadata": {},
   "source": []
  }
 ],
 "metadata": {
  "language_info": {
   "name": "python"
  }
 },
 "nbformat": 4,
 "nbformat_minor": 2
}
