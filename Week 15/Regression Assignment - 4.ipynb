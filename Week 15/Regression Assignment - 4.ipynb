{
 "cells": [
  {
   "cell_type": "code",
   "execution_count": 1,
   "metadata": {},
   "outputs": [],
   "source": [
    "# Q1. What is Lasso Regression, and how does it differ from other regression techniques?\n",
    "# A1. Lasso Regression (Least Absolute Shrinkage and Selection Operator) is a linear regression technique that adds an L1 regularization penalty (the absolute value of the coefficients) to the cost function. \n",
    "# Unlike Ridge Regression, Lasso can shrink some coefficients to exactly zero, effectively performing feature selection. This makes it particularly useful in high-dimensional datasets."
   ]
  },
  {
   "cell_type": "code",
   "execution_count": 2,
   "metadata": {},
   "outputs": [],
   "source": [
    "# Q2. What is the main advantage of using Lasso Regression in feature selection?\n",
    "# A2. The main advantage of Lasso Regression is its ability to automatically select features by shrinking irrelevant or less important coefficients to exactly zero. \n",
    "# This simplifies the model and reduces the risk of overfitting by focusing only on the most relevant predictors."
   ]
  },
  {
   "cell_type": "code",
   "execution_count": 3,
   "metadata": {},
   "outputs": [],
   "source": [
    "# Q3. How do you interpret the coefficients of a Lasso Regression model?\n",
    "# A3. The coefficients in Lasso Regression represent the change in the dependent variable for a one-unit change in the independent variable, \n",
    "# while keeping other variables constant. Coefficients that are shrunk to zero indicate that the corresponding features are not contributing to the model.\n",
    "\n"
   ]
  },
  {
   "cell_type": "code",
   "execution_count": 4,
   "metadata": {},
   "outputs": [],
   "source": [
    "# Q4. What are the tuning parameters that can be adjusted in Lasso Regression, and how do they affect the model's performance?\n",
    "# A4. The main tuning parameter in Lasso Regression is the regularization parameter (lambda). \n",
    "# - A higher lambda increases regularization strength, shrinking more coefficients to zero and simplifying the model.\n",
    "# - A lower lambda reduces regularization, retaining more features but increasing the risk of overfitting.\n",
    "# Optimal lambda values are typically chosen using cross-validation."
   ]
  },
  {
   "cell_type": "code",
   "execution_count": 5,
   "metadata": {},
   "outputs": [],
   "source": [
    "# Q5. Can Lasso Regression be used for non-linear regression problems? If yes, how?\n",
    "# A5. Lasso Regression can be adapted for non-linear problems by combining it with polynomial features or kernel methods. \n",
    "# For instance, by transforming the input features into polynomial terms, Lasso can model non-linear relationships while still performing feature selection.\n",
    "\n",
    "# Q6. What is the difference between Ridge Regression and Lasso Regression?\n",
    "# A6. The key differences between Ridge and Lasso Regression are:\n",
    "# - Ridge adds an L2 penalty (squared coefficients), while Lasso adds an L1 penalty (absolute coefficients).\n",
    "# - Ridge shrinks coefficients but does not set them to zero, retaining all features.\n",
    "# - Lasso shrinks some coefficients to exactly zero, performing feature selection.\n",
    "# - Ridge is better suited for datasets where all predictors are relevant, while Lasso is preferred for sparse datasets with irrelevant features."
   ]
  },
  {
   "cell_type": "code",
   "execution_count": 6,
   "metadata": {},
   "outputs": [],
   "source": [
    "# Q7. Can Lasso Regression handle multicollinearity in the input features? If yes, how?\n",
    "# A7. Yes, Lasso Regression can handle multicollinearity by shrinking the coefficients of correlated features. \n",
    "# However, it may arbitrarily select one feature from a group of correlated features, which could lead to instability in the selected predictors.\n",
    "\n",
    "# Q8. How do you choose the optimal value of the regularization parameter (lambda) in Lasso Regression?\n",
    "# A8. The optimal value of lambda is chosen using cross-validation. \n",
    "# A range of lambda values is tested, and the one that minimizes the validation error is selected. \n",
    "# Techniques like grid search or randomized search can be used to efficiently find the best lambda value."
   ]
  },
  {
   "cell_type": "code",
   "execution_count": null,
   "metadata": {},
   "outputs": [],
   "source": []
  }
 ],
 "metadata": {
  "kernelspec": {
   "display_name": "Python 3",
   "language": "python",
   "name": "python3"
  },
  "language_info": {
   "codemirror_mode": {
    "name": "ipython",
    "version": 3
   },
   "file_extension": ".py",
   "mimetype": "text/x-python",
   "name": "python",
   "nbconvert_exporter": "python",
   "pygments_lexer": "ipython3",
   "version": "3.11.9"
  }
 },
 "nbformat": 4,
 "nbformat_minor": 2
}
