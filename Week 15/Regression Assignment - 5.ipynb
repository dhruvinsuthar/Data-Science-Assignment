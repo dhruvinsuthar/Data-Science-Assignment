{
 "cells": [
  {
   "cell_type": "code",
   "execution_count": 1,
   "metadata": {},
   "outputs": [],
   "source": [
    "# Q1. What is Elastic Net Regression and how does it differ from other regression techniques?\n",
    "# A1. Elastic Net Regression combines the penalties of Lasso (L1) and Ridge (L2) regression. \n",
    "# It introduces two regularization parameters, alpha and lambda, to balance between L1 and L2 penalties. \n",
    "# This makes it suitable for scenarios where there are correlated features and where feature selection is required, offering flexibility over pure Lasso or Ridge techniques."
   ]
  },
  {
   "cell_type": "code",
   "execution_count": 8,
   "metadata": {},
   "outputs": [
    {
     "name": "stdout",
     "output_type": "stream",
     "text": [
      "Optimal Alpha: 0.01\n",
      "Optimal L1 Ratio: 0.9\n"
     ]
    }
   ],
   "source": [
    "# Q2. How do you choose the optimal values of the regularization parameters for Elastic Net Regression?\n",
    "# A2. The optimal values of the regularization parameters (alpha and lambda) are selected using cross-validation. \n",
    "# Below is an example code snippet for grid search to find optimal alpha and lambda:\n",
    "# ```python\n",
    "from sklearn.linear_model import ElasticNetCV\n",
    "from sklearn.datasets import make_regression\n",
    "\n",
    "# Generate synthetic data\n",
    "data, target = make_regression(n_samples=100, n_features=10, noise=0.1, random_state=42)\n",
    "\n",
    "# Perform cross-validation\n",
    "elastic_net_cv = ElasticNetCV(l1_ratio=[0.1, 0.5, 0.9], alphas=[0.01, 0.1, 1, 10], cv=5)\n",
    "elastic_net_cv.fit(data, target)\n",
    "\n",
    "# Output optimal parameters\n",
    "print(f\"Optimal Alpha: {elastic_net_cv.alpha_}\")\n",
    "print(f\"Optimal L1 Ratio: {elastic_net_cv.l1_ratio_}\")\n",
    "# ```"
   ]
  },
  {
   "cell_type": "code",
   "execution_count": 9,
   "metadata": {},
   "outputs": [],
   "source": [
    "# Q3. What are the advantages and disadvantages of Elastic Net Regression?\n",
    "# A3. \n",
    "# Advantages:\n",
    "# - Handles multicollinearity well by combining L1 and L2 penalties.\n",
    "# - Performs feature selection by shrinking some coefficients to zero (L1 effect).\n",
    "# - Retains correlated features by distributing penalties among them (L2 effect).\n",
    "# \n",
    "# Disadvantages:\n",
    "# - Requires tuning of two hyperparameters, increasing computational cost.\n",
    "# - More complex than standalone Lasso or Ridge regression."
   ]
  },
  {
   "cell_type": "code",
   "execution_count": 10,
   "metadata": {},
   "outputs": [],
   "source": [
    "# Q4. What are some common use cases for Elastic Net Regression?\n",
    "# A4. Common use cases include:\n",
    "# - High-dimensional datasets where the number of predictors exceeds the number of observations.\n",
    "# - Situations with multicollinearity among predictors.\n",
    "# - Feature selection tasks combined with robust prediction performance."
   ]
  },
  {
   "cell_type": "code",
   "execution_count": 5,
   "metadata": {},
   "outputs": [],
   "source": [
    "# Q5. How do you interpret the coefficients in Elastic Net Regression?\n",
    "# A5. Coefficients in Elastic Net Regression represent the change in the dependent variable for a one-unit change in the independent variable, \n",
    "# while keeping other variables constant. Shrunk coefficients indicate less importance, and coefficients set to zero indicate irrelevant features.\n"
   ]
  },
  {
   "cell_type": "code",
   "execution_count": 13,
   "metadata": {},
   "outputs": [],
   "source": [
    "# Q6. How do you handle missing values when using Elastic Net Regression?\n",
    "# A6. Missing values can be handled using imputation techniques before applying Elastic Net Regression. \n",
    "# Example:\n",
    "# ```python\n",
    "from sklearn.impute import SimpleImputer\n",
    "\n",
    "# Impute missing values with mean\n",
    "imputer = SimpleImputer(strategy='mean')\n",
    "data_imputed = imputer.fit_transform(data)\n",
    "\n",
    "# Other imputation techniques, such as KNN or iterative imputation, can also be used depending on the data."
   ]
  },
  {
   "cell_type": "code",
   "execution_count": 14,
   "metadata": {},
   "outputs": [
    {
     "name": "stdout",
     "output_type": "stream",
     "text": [
      "Selected Features: [0 1 2 3 4 5 6 7 8 9]\n"
     ]
    }
   ],
   "source": [
    "# Q7. How do you use Elastic Net Regression for feature selection?\n",
    "# A7. Elastic Net performs feature selection by shrinking irrelevant coefficients to zero due to its L1 penalty component. \n",
    "# Example code for feature selection:\n",
    "# ```python\n",
    "import numpy as np\n",
    "\n",
    "# Fit Elastic Net model\n",
    "elastic_net = ElasticNetCV(l1_ratio=0.5, alphas=[0.1, 1, 10], cv=5)\n",
    "elastic_net.fit(data, target)\n",
    "\n",
    "# Identify selected features\n",
    "selected_features = np.where(elastic_net.coef_ != 0)[0]\n",
    "print(f\"Selected Features: {selected_features}\")"
   ]
  },
  {
   "cell_type": "code",
   "execution_count": 15,
   "metadata": {},
   "outputs": [],
   "source": [
    "# Q8. How do you pickle and unpickle a trained Elastic Net Regression model in Python?\n",
    "# A8. To pickle a trained model:\n",
    "# ```python\n",
    "import pickle\n",
    "\n",
    "# Save model to file\n",
    "with open('elastic_net_model.pkl', 'wb') as f:\n",
    "    pickle.dump(elastic_net, f)\n",
    "\n",
    "# Load model from file\n",
    "with open('elastic_net_model.pkl', 'rb') as f:\n",
    "    loaded_model = pickle.load(f)\n"
   ]
  },
  {
   "cell_type": "code",
   "execution_count": 16,
   "metadata": {},
   "outputs": [],
   "source": [
    "# Q9. What is the purpose of pickling a model in machine learning?\n",
    "# A9. The purpose of pickling a model is to save its state, including learned parameters, to a file. \n",
    "# This enables reloading the model later without retraining, saving time and computational resources. \n",
    "# It is particularly useful for deploying models in production environments or sharing them across teams.\n"
   ]
  },
  {
   "cell_type": "code",
   "execution_count": null,
   "metadata": {},
   "outputs": [],
   "source": []
  }
 ],
 "metadata": {
  "kernelspec": {
   "display_name": "Python 3",
   "language": "python",
   "name": "python3"
  },
  "language_info": {
   "codemirror_mode": {
    "name": "ipython",
    "version": 3
   },
   "file_extension": ".py",
   "mimetype": "text/x-python",
   "name": "python",
   "nbconvert_exporter": "python",
   "pygments_lexer": "ipython3",
   "version": "3.11.9"
  }
 },
 "nbformat": 4,
 "nbformat_minor": 2
}
