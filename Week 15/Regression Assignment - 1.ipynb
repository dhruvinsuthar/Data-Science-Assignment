{
 "cells": [
  {
   "cell_type": "code",
   "execution_count": 2,
   "metadata": {},
   "outputs": [],
   "source": [
    "# Q1. Explain the difference between simple linear regression and multiple linear regression. Provide an example of each.\n",
    "# A1. Simple linear regression involves one independent variable and one dependent variable. For example, predicting house price based on square footage is simple linear regression. \n",
    "# On the other hand, multiple linear regression involves multiple independent variables. For instance, predicting house price based on square footage, number of bedrooms, and location."
   ]
  },
  {
   "cell_type": "code",
   "execution_count": 3,
   "metadata": {},
   "outputs": [],
   "source": [
    "# Q2. Discuss the assumptions of linear regression. How can you check whether these assumptions hold in a given dataset?\n",
    "# A2. The key assumptions of linear regression are:\n",
    "# - Linearity: The relationship between independent and dependent variables should be linear.\n",
    "# - Independence: Observations should be independent of each other.\n",
    "# - Homoscedasticity: The variance of residuals should be constant.\n",
    "# - Normality of residuals: Residuals should follow a normal distribution.\n",
    "# - No multicollinearity: Independent variables should not be highly correlated.\n",
    "# \n",
    "# These assumptions can be checked using:\n",
    "# - Scatter plots for linearity.\n",
    "# - Durbin-Watson test for independence.\n",
    "# - Residual plots for homoscedasticity.\n",
    "# - Q-Q plots for normality.\n",
    "# - Variance Inflation Factor (VIF) for multicollinearity."
   ]
  },
  {
   "cell_type": "code",
   "execution_count": 4,
   "metadata": {},
   "outputs": [],
   "source": [
    "# Q3. How do you interpret the slope and intercept in a linear regression model? Provide an example using a real-world scenario.\n",
    "# A3. In a linear regression model:\n",
    "# - The slope represents the change in the dependent variable for a one-unit change in the independent variable.\n",
    "# - The intercept is the value of the dependent variable when the independent variable is zero.\n",
    "# \n",
    "# Example: Predicting salary based on years of experience. If the slope is 5000, it means the salary increases by $5000 for every additional year of experience. If the intercept is 30000, it means the starting salary (with zero years of experience) is $30,000."
   ]
  },
  {
   "cell_type": "code",
   "execution_count": 5,
   "metadata": {},
   "outputs": [],
   "source": [
    "# Q4. Explain the concept of gradient descent. How is it used in machine learning?\n",
    "# A4. Gradient descent is an optimization algorithm used to minimize the cost function of a machine learning model. \n",
    "# It works by iteratively updating the model parameters in the direction of the negative gradient of the cost function. This helps in finding the optimal parameters that minimize the error between predictions and actual values."
   ]
  },
  {
   "cell_type": "code",
   "execution_count": 6,
   "metadata": {},
   "outputs": [],
   "source": [
    "# Q5. Describe the multiple linear regression model. How does it differ from simple linear regression?\n",
    "# A5. A multiple linear regression model predicts the dependent variable based on two or more independent variables. \n",
    "# It differs from simple linear regression, which involves only one independent variable. The additional predictors in multiple linear regression help capture more complex relationships and improve model accuracy."
   ]
  },
  {
   "cell_type": "code",
   "execution_count": 7,
   "metadata": {},
   "outputs": [],
   "source": [
    "# Q6. Explain the concept of multicollinearity in multiple linear regression. How can you detect and address this issue?\n",
    "# A6. Multicollinearity occurs when independent variables are highly correlated with each other, leading to unreliable coefficient estimates. \n",
    "# It can be detected using:\n",
    "# - Variance Inflation Factor (VIF): VIF values greater than 5 or 10 indicate high multicollinearity.\n",
    "# - Correlation matrix: High correlations between variables suggest multicollinearity.\n",
    "# \n",
    "# To address multicollinearity:\n",
    "# - Remove one of the correlated variables.\n",
    "# - Combine correlated variables into a single feature.\n",
    "# - Use regularization techniques like Ridge or Lasso regression."
   ]
  },
  {
   "cell_type": "code",
   "execution_count": 8,
   "metadata": {},
   "outputs": [],
   "source": [
    "# Q7. Describe the polynomial regression model. How is it different from linear regression?\n",
    "# A7. Polynomial regression models the relationship between variables as an nth-degree polynomial. \n",
    "# It allows for capturing non-linear relationships, whereas linear regression assumes a straight-line relationship between variables. For example, polynomial regression can model curves and trends that cannot be captured by linear regression.\n"
   ]
  },
  {
   "cell_type": "code",
   "execution_count": 9,
   "metadata": {},
   "outputs": [],
   "source": [
    "# Q8. What are the advantages and disadvantages of polynomial regression compared to linear regression? In what situations would you prefer to use polynomial regression?\n",
    "# A8. Advantages of polynomial regression:\n",
    "# - Captures non-linear relationships.\n",
    "# - Provides better model fit for curved data.\n",
    "# \n",
    "# Disadvantages:\n",
    "# - Prone to overfitting, especially with high-degree polynomials.\n",
    "# - Sensitive to outliers.\n",
    "# \n",
    "# Polynomial regression is preferred when the relationship between variables is non-linear and cannot be adequately captured by a straight line.\n"
   ]
  },
  {
   "cell_type": "code",
   "execution_count": null,
   "metadata": {},
   "outputs": [],
   "source": []
  }
 ],
 "metadata": {
  "kernelspec": {
   "display_name": "Python 3",
   "language": "python",
   "name": "python3"
  },
  "language_info": {
   "codemirror_mode": {
    "name": "ipython",
    "version": 3
   },
   "file_extension": ".py",
   "mimetype": "text/x-python",
   "name": "python",
   "nbconvert_exporter": "python",
   "pygments_lexer": "ipython3",
   "version": "3.11.9"
  }
 },
 "nbformat": 4,
 "nbformat_minor": 2
}
