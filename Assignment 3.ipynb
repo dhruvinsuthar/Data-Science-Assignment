{
 "cells": [
  {
   "cell_type": "code",
   "execution_count": 1,
   "id": "4a4b5081-0f7c-4bbf-a6b3-35d6f2916c39",
   "metadata": {},
   "outputs": [],
   "source": [
    "# Q1. Which keyword is used to create a function? Create a function to return a list of odd numbers in the range of 1 to 25."
   ]
  },
  {
   "cell_type": "code",
   "execution_count": 2,
   "id": "5659bdb1-f42d-427d-9fde-3f729b0e3cd3",
   "metadata": {},
   "outputs": [],
   "source": [
    "# def keyword is used for creating functions"
   ]
  },
  {
   "cell_type": "code",
   "execution_count": 8,
   "id": "2a958b97-3038-4ccd-9cc0-6a4135efc2c5",
   "metadata": {},
   "outputs": [],
   "source": [
    "def odd():\n",
    "    l1=[]\n",
    "    for i in range(1,26):\n",
    "        if i%2 != 0:\n",
    "            l1.append(i)\n",
    "    return l1"
   ]
  },
  {
   "cell_type": "code",
   "execution_count": 9,
   "id": "9effea18-c723-45e6-b43d-33f83859e0d5",
   "metadata": {},
   "outputs": [
    {
     "data": {
      "text/plain": [
       "[1, 3, 5, 7, 9, 11, 13, 15, 17, 19, 21, 23, 25]"
      ]
     },
     "execution_count": 9,
     "metadata": {},
     "output_type": "execute_result"
    }
   ],
   "source": [
    "odd()"
   ]
  },
  {
   "cell_type": "code",
   "execution_count": 10,
   "id": "ca8acf60-201c-4067-a1ee-41e1e4f5284b",
   "metadata": {},
   "outputs": [],
   "source": [
    "# Q2. Why *args and **kwargs is used in some functions? Create a function each for *args and **kwargs to demonstrate their use."
   ]
  },
  {
   "cell_type": "code",
   "execution_count": 11,
   "id": "c9986075-97ed-443b-a955-a101f3271ecd",
   "metadata": {},
   "outputs": [],
   "source": [
    "# *args use in function so all the input given are in tuple form and likewise for **kwargs are taken in dictonary form"
   ]
  },
  {
   "cell_type": "code",
   "execution_count": 12,
   "id": "b0d92df9-f01d-4b23-ab6e-9f2eea95aaa3",
   "metadata": {},
   "outputs": [],
   "source": [
    "def args(*args):\n",
    "    print(args)"
   ]
  },
  {
   "cell_type": "code",
   "execution_count": 13,
   "id": "c1068204-9349-4d9f-beb8-7576ec239c57",
   "metadata": {},
   "outputs": [
    {
     "name": "stdout",
     "output_type": "stream",
     "text": [
      "(1, 6, 3, 0.5, 'Dhruvin')\n"
     ]
    }
   ],
   "source": [
    "args(1,6,3,0.5,\"Dhruvin\")"
   ]
  },
  {
   "cell_type": "code",
   "execution_count": 3,
   "id": "262e8a28-279d-44af-b50c-bbf0d310d1cf",
   "metadata": {},
   "outputs": [],
   "source": [
    "def kwargs_para(**kwargs):\n",
    "    print(kwargs)"
   ]
  },
  {
   "cell_type": "code",
   "execution_count": 6,
   "id": "f8b36860-0c07-47ba-82a3-b1e1def71cf2",
   "metadata": {},
   "outputs": [
    {
     "name": "stdout",
     "output_type": "stream",
     "text": [
      "{'a': 1, 'b': 23, 'c': 'Dhruvin'}\n"
     ]
    }
   ],
   "source": [
    "kwargs_para(a=1,b=23,c=\"Dhruvin\")"
   ]
  },
  {
   "cell_type": "code",
   "execution_count": 8,
   "id": "522889d4-6e10-4c91-bbee-2d47db843de4",
   "metadata": {},
   "outputs": [],
   "source": [
    "# Q3. What is an iterator in python? Name the method used to initialise the iterator object and the method used for iteration. Use these methods to print the first five elements of the given list [2, 4, 6, 8, 10, 12, 14,16, 18, 20]."
   ]
  },
  {
   "cell_type": "code",
   "execution_count": 14,
   "id": "567a0d33-98f7-42e2-b2e6-20574f366a84",
   "metadata": {},
   "outputs": [],
   "source": [
    "# iterator is an keyword through which we can call out the values from list or anything but in a step by step method also it doesnt take memory coz the value it output is been clear by memory when get print\n",
    "# methods ar iter(),map(),filter() and next() "
   ]
  },
  {
   "cell_type": "code",
   "execution_count": 61,
   "id": "55f9d128-07d1-4b56-afb6-70c0e20ebf85",
   "metadata": {},
   "outputs": [],
   "source": [
    "l2 = [2,4,6,8,10,12,14,16,18,20]"
   ]
  },
  {
   "cell_type": "code",
   "execution_count": 80,
   "id": "d393ad28-5c74-491c-981e-16963fd2e41f",
   "metadata": {},
   "outputs": [
    {
     "data": {
      "text/plain": [
       "[2, 4, 6, 8, 10]"
      ]
     },
     "execution_count": 80,
     "metadata": {},
     "output_type": "execute_result"
    }
   ],
   "source": [
    "l2mod=[]\n",
    "a=iter(l2)\n",
    "for i in range(5):\n",
    "    b=next(a)\n",
    "    l2mod.append(b)\n",
    "l2mod"
   ]
  },
  {
   "cell_type": "code",
   "execution_count": 81,
   "id": "0428d02f-c776-418a-b5af-987f9155f912",
   "metadata": {},
   "outputs": [],
   "source": [
    "# Q4. What is a generator function in python? Why yield keyword is used? Give an example of a generator function."
   ]
  },
  {
   "cell_type": "code",
   "execution_count": 83,
   "id": "726930cc-1947-47eb-b276-893645dfcfad",
   "metadata": {},
   "outputs": [],
   "source": [
    "# genraor is use to iterate the values in a sequential order and makes it faster as it doesnt use the memory for all outputs"
   ]
  },
  {
   "cell_type": "code",
   "execution_count": 84,
   "id": "d95ef350-4fef-48c6-a21b-4c4461fb12b9",
   "metadata": {},
   "outputs": [],
   "source": [
    "# yeild is same as return keyword but for generator functions"
   ]
  },
  {
   "cell_type": "code",
   "execution_count": 91,
   "id": "4034c633-08fa-4fc2-bd30-47630acf5849",
   "metadata": {},
   "outputs": [],
   "source": [
    "def counttill(n):\n",
    "    for i in range(n+1):\n",
    "        yield i"
   ]
  },
  {
   "cell_type": "code",
   "execution_count": 87,
   "id": "23ed5197-7c46-42cb-be07-45683536d65d",
   "metadata": {},
   "outputs": [
    {
     "data": {
      "text/plain": [
       "generator"
      ]
     },
     "execution_count": 87,
     "metadata": {},
     "output_type": "execute_result"
    }
   ],
   "source": [
    "type(counttill(5))"
   ]
  },
  {
   "cell_type": "code",
   "execution_count": 92,
   "id": "e6537a9d-bd2a-4f46-99e1-c6be1d908ea7",
   "metadata": {},
   "outputs": [
    {
     "name": "stdout",
     "output_type": "stream",
     "text": [
      "0\n",
      "1\n",
      "2\n",
      "3\n",
      "4\n",
      "5\n",
      "6\n",
      "7\n",
      "8\n",
      "9\n",
      "10\n"
     ]
    }
   ],
   "source": [
    "for i in counttill(10):\n",
    "    print(i)"
   ]
  },
  {
   "cell_type": "code",
   "execution_count": 93,
   "id": "7820c5b3-0335-434f-9e38-16e84654ecd4",
   "metadata": {},
   "outputs": [],
   "source": [
    "# Q5. Create a generator function for prime numbers less than 1000. Use the next() method to print the first 20 prime numbers."
   ]
  },
  {
   "cell_type": "code",
   "execution_count": 212,
   "id": "7587d6e1-f77c-471f-8ada-4ec3f25a3d1c",
   "metadata": {},
   "outputs": [],
   "source": [
    "def primen():\n",
    "    for i in range(1,1001):\n",
    "        if (i**.5)/int(i**.5) == 1:\n",
    "            yield i"
   ]
  },
  {
   "cell_type": "code",
   "execution_count": 225,
   "id": "f9c0b625-4e7d-481d-9c28-ddffcdf35e0a",
   "metadata": {},
   "outputs": [
    {
     "data": {
      "text/plain": [
       "[1,\n",
       " 4,\n",
       " 9,\n",
       " 16,\n",
       " 25,\n",
       " 36,\n",
       " 49,\n",
       " 64,\n",
       " 81,\n",
       " 100,\n",
       " 121,\n",
       " 144,\n",
       " 169,\n",
       " 196,\n",
       " 225,\n",
       " 256,\n",
       " 289,\n",
       " 324,\n",
       " 361,\n",
       " 400]"
      ]
     },
     "execution_count": 225,
     "metadata": {},
     "output_type": "execute_result"
    }
   ],
   "source": [
    "primesort=[]\n",
    "a=iter(primen())\n",
    "count = 0\n",
    "for i in primen():\n",
    "    count = count+1\n",
    "    b=next(a)\n",
    "    primesort.append(b)\n",
    "    if count == 20:\n",
    "        break\n",
    "\n",
    "primesort"
   ]
  },
  {
   "cell_type": "code",
   "execution_count": 226,
   "id": "e991eedf-53b9-43f1-9846-a714efe639b9",
   "metadata": {},
   "outputs": [],
   "source": [
    "# Q6. Write a python program to print the first 10 Fibonacci numbers using a while loop."
   ]
  },
  {
   "cell_type": "code",
   "execution_count": 256,
   "id": "6f908b88-b2ee-4c16-8ab5-7096225f73c3",
   "metadata": {},
   "outputs": [],
   "source": [
    "def fib():\n",
    "    a,b=0,1\n",
    "    while True:\n",
    "        yield a\n",
    "        a,b=b,a+b"
   ]
  },
  {
   "cell_type": "code",
   "execution_count": 257,
   "id": "92f85686-d3fe-4f0a-8243-b404022597c6",
   "metadata": {},
   "outputs": [
    {
     "name": "stdout",
     "output_type": "stream",
     "text": [
      "0\n",
      "1\n",
      "1\n",
      "2\n",
      "3\n",
      "5\n",
      "8\n",
      "13\n",
      "21\n",
      "34\n"
     ]
    }
   ],
   "source": [
    "fib=fib()\n",
    "for i in range(10):\n",
    "    print(next(fib))"
   ]
  },
  {
   "cell_type": "code",
   "execution_count": 258,
   "id": "4cadeffb-b9f1-4801-8e96-9ac1aded2d53",
   "metadata": {},
   "outputs": [],
   "source": [
    "# Q7. Write a List Comprehension to iterate through the given string: ‘pwskills’. Expected output: ['p', 'w', 's', 'k', 'i', 'l', 'l', 's']"
   ]
  },
  {
   "cell_type": "code",
   "execution_count": 263,
   "id": "419cba49-5a15-4dc1-8728-36704972c20f",
   "metadata": {},
   "outputs": [],
   "source": [
    "pw=\"pwskills\""
   ]
  },
  {
   "cell_type": "code",
   "execution_count": 270,
   "id": "eee1f7eb-ec75-440c-b533-24e001617c0f",
   "metadata": {},
   "outputs": [
    {
     "data": {
      "text/plain": [
       "['p', 'w', 's', 'k', 'i', 'l', 'l', 's']"
      ]
     },
     "execution_count": 270,
     "metadata": {},
     "output_type": "execute_result"
    }
   ],
   "source": [
    "list(filter(lambda x:x,pw))"
   ]
  },
  {
   "cell_type": "code",
   "execution_count": 282,
   "id": "9a65583b-386b-4a21-bd11-cb21b29b94f9",
   "metadata": {},
   "outputs": [],
   "source": [
    "# Q8. Write a python program to check whether a given number is Palindrome or not using a while loop."
   ]
  },
  {
   "cell_type": "code",
   "execution_count": 294,
   "id": "8e61881d-2a5a-4f34-a553-bf3c2f550f25",
   "metadata": {},
   "outputs": [],
   "source": [
    "def palin(og):\n",
    "    reverse = 0\n",
    "    n=og\n",
    "    while n>0:\n",
    "        a=n%10\n",
    "        reverse = (reverse*10)+a\n",
    "        n=n//10\n",
    "    if og==reverse:\n",
    "        print(\"Palindrome\")\n",
    "    else:\n",
    "        print(\"Not a Palindrome\")"
   ]
  },
  {
   "cell_type": "code",
   "execution_count": 298,
   "id": "ab6991e4-15aa-4b98-af48-904c9122a20c",
   "metadata": {},
   "outputs": [
    {
     "name": "stdout",
     "output_type": "stream",
     "text": [
      "Palindrome\n"
     ]
    }
   ],
   "source": [
    "palin(484)"
   ]
  },
  {
   "cell_type": "code",
   "execution_count": 299,
   "id": "b22ac2ce-0b14-4212-b40f-74d3678b6db2",
   "metadata": {},
   "outputs": [],
   "source": [
    "# Q9. Write a code to print odd numbers from 1 to 100 using list comprehension."
   ]
  },
  {
   "cell_type": "code",
   "execution_count": 322,
   "id": "5fd0045f-15be-4753-b7b1-12781f9cbb7b",
   "metadata": {},
   "outputs": [
    {
     "data": {
      "text/plain": [
       "[1,\n",
       " 3,\n",
       " 5,\n",
       " 7,\n",
       " 9,\n",
       " 11,\n",
       " 13,\n",
       " 15,\n",
       " 17,\n",
       " 19,\n",
       " 21,\n",
       " 23,\n",
       " 25,\n",
       " 27,\n",
       " 29,\n",
       " 31,\n",
       " 33,\n",
       " 35,\n",
       " 37,\n",
       " 39,\n",
       " 41,\n",
       " 43,\n",
       " 45,\n",
       " 47,\n",
       " 49,\n",
       " 51,\n",
       " 53,\n",
       " 55,\n",
       " 57,\n",
       " 59,\n",
       " 61,\n",
       " 63,\n",
       " 65,\n",
       " 67,\n",
       " 69,\n",
       " 71,\n",
       " 73,\n",
       " 75,\n",
       " 77,\n",
       " 79,\n",
       " 81,\n",
       " 83,\n",
       " 85,\n",
       " 87,\n",
       " 89,\n",
       " 91,\n",
       " 93,\n",
       " 95,\n",
       " 97,\n",
       " 99]"
      ]
     },
     "execution_count": 322,
     "metadata": {},
     "output_type": "execute_result"
    }
   ],
   "source": [
    "list(filter(lambda x:x%2!=0,range(0,101)))"
   ]
  }
 ],
 "metadata": {
  "kernelspec": {
   "display_name": "Python 3 (ipykernel)",
   "language": "python",
   "name": "python3"
  },
  "language_info": {
   "codemirror_mode": {
    "name": "ipython",
    "version": 3
   },
   "file_extension": ".py",
   "mimetype": "text/x-python",
   "name": "python",
   "nbconvert_exporter": "python",
   "pygments_lexer": "ipython3",
   "version": "3.10.8"
  }
 },
 "nbformat": 4,
 "nbformat_minor": 5
}
