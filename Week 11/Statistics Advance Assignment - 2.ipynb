{
 "cells": [
  {
   "cell_type": "code",
   "execution_count": 1,
   "metadata": {},
   "outputs": [],
   "source": [
    "# Q1. What are the Probability Mass Function (PMF) and Probability Density Function (PDF)?\n",
    "# PMF describes the probability distribution for discrete random variables, giving probabilities for specific outcomes.\n",
    "# PDF applies to continuous random variables, providing relative likelihoods, with probabilities derived from areas under the curve.\n",
    "# Example: PMF - Number of heads in 3 coin flips. PDF - Heights of students in a class.\n"
   ]
  },
  {
   "cell_type": "code",
   "execution_count": 2,
   "metadata": {},
   "outputs": [],
   "source": [
    "# Q2. What is Cumulative Density Function (CDF)?\n",
    "# CDF gives the probability that a random variable is less than or equal to a specific value.\n",
    "# Example: Finding the probability that a student's height is less than 170 cm.\n",
    "# Usage: CDF helps in determining cumulative probabilities for decision-making."
   ]
  },
  {
   "cell_type": "code",
   "execution_count": 3,
   "metadata": {},
   "outputs": [],
   "source": [
    "# Q3. Examples of Normal Distribution:\n",
    "# Examples: Heights, weights, exam scores.\n",
    "# Parameters:\n",
    "# - Mean (μ): Central value.\n",
    "# - Standard Deviation (σ): Spread of data.\n",
    "# Shape:\n",
    "# - Symmetrical bell curve.\n",
    "# - Higher σ means wider spread."
   ]
  },
  {
   "cell_type": "code",
   "execution_count": 4,
   "metadata": {},
   "outputs": [],
   "source": [
    "# Q4. Importance of Normal Distribution:\n",
    "# - Basis for statistical tests.\n",
    "# - Central Limit Theorem relies on it.\n",
    "# Examples:\n",
    "# 1. IQ scores.\n",
    "# 2. Blood pressure measurements.\n",
    "# 3. Stock market returns."
   ]
  },
  {
   "cell_type": "code",
   "execution_count": 5,
   "metadata": {},
   "outputs": [],
   "source": [
    "# Q5. Bernoulli Distribution:\n",
    "# - Models binary outcomes (success/failure).\n",
    "# Example: Coin flip (Head/Tail).\n",
    "# Difference:\n",
    "# - Bernoulli: Single trial.\n",
    "# - Binomial: Multiple independent Bernoulli trials."
   ]
  },
  {
   "cell_type": "code",
   "execution_count": 6,
   "metadata": {},
   "outputs": [
    {
     "name": "stdout",
     "output_type": "stream",
     "text": [
      "Probability: 0.15865525393145707\n"
     ]
    }
   ],
   "source": [
    "# Q6. Probability for a Normal Distribution:\n",
    "import scipy.stats as stats\n",
    "\n",
    "mean = 50\n",
    "std_dev = 10\n",
    "value = 60\n",
    "z_score = (value - mean) / std_dev\n",
    "probability = 1 - stats.norm.cdf(z_score)\n",
    "print(f\"Probability: {probability}\")\n"
   ]
  },
  {
   "cell_type": "code",
   "execution_count": 7,
   "metadata": {},
   "outputs": [],
   "source": [
    "# Q7. Uniform Distribution:\n",
    "# - All outcomes are equally likely.\n",
    "# Example: Rolling a fair die."
   ]
  },
  {
   "cell_type": "code",
   "execution_count": 8,
   "metadata": {},
   "outputs": [],
   "source": [
    "# Q8. Z-score:\n",
    "# - Measures how far a value is from the mean in terms of standard deviations.\n",
    "# Importance:\n",
    "# - Standardizes different datasets.\n",
    "# - Helps in identifying outliers.\n"
   ]
  },
  {
   "cell_type": "code",
   "execution_count": 9,
   "metadata": {},
   "outputs": [],
   "source": [
    "# Q9. Central Limit Theorem:\n",
    "# - For large samples, the sampling distribution of the mean approaches normality, regardless of population distribution.\n",
    "# Significance:\n",
    "# - Enables hypothesis testing.\n",
    "# - Simplifies statistical analysis."
   ]
  },
  {
   "cell_type": "code",
   "execution_count": 10,
   "metadata": {},
   "outputs": [],
   "source": [
    "# Q10. Assumptions of Central Limit Theorem:\n",
    "# 1. Samples are independent.\n",
    "# 2. Sample size is sufficiently large (n > 30).\n",
    "# 3. Data is randomly sampled."
   ]
  },
  {
   "cell_type": "code",
   "execution_count": null,
   "metadata": {},
   "outputs": [],
   "source": []
  }
 ],
 "metadata": {
  "kernelspec": {
   "display_name": "Python 3",
   "language": "python",
   "name": "python3"
  },
  "language_info": {
   "codemirror_mode": {
    "name": "ipython",
    "version": 3
   },
   "file_extension": ".py",
   "mimetype": "text/x-python",
   "name": "python",
   "nbconvert_exporter": "python",
   "pygments_lexer": "ipython3",
   "version": "3.11.9"
  }
 },
 "nbformat": 4,
 "nbformat_minor": 2
}
