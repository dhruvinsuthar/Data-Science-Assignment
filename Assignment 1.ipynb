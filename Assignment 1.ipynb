{
 "cells": [
  {
   "cell_type": "code",
   "execution_count": 21,
   "id": "4d782a8d-a296-4519-b800-9e9f5a36b4ac",
   "metadata": {},
   "outputs": [],
   "source": [
    "#Create one variable containing following type of data"
   ]
  },
  {
   "cell_type": "code",
   "execution_count": 1,
   "id": "ffbf7dfe-dc8f-4212-815d-09e9a107dc50",
   "metadata": {},
   "outputs": [],
   "source": [
    "a=\"dhruvin\""
   ]
  },
  {
   "cell_type": "code",
   "execution_count": 4,
   "id": "7fc3d1f3-0f47-42b3-9eb0-6142f11a261e",
   "metadata": {},
   "outputs": [],
   "source": [
    "b=[1,4,'dhruv',6+7j]"
   ]
  },
  {
   "cell_type": "code",
   "execution_count": 6,
   "id": "525df0de-72ac-4382-b871-8d281a19fa41",
   "metadata": {},
   "outputs": [],
   "source": [
    "c=23.45"
   ]
  },
  {
   "cell_type": "code",
   "execution_count": 8,
   "id": "3eb11c65-ea0e-480c-ba09-c6a5fe99ce42",
   "metadata": {},
   "outputs": [],
   "source": [
    "d=(2,7,'surf',9,True)"
   ]
  },
  {
   "cell_type": "code",
   "execution_count": 20,
   "id": "39930fa5-1321-42ff-9191-80bd396eb383",
   "metadata": {},
   "outputs": [],
   "source": [
    "#Given are some following variables containing data"
   ]
  },
  {
   "cell_type": "code",
   "execution_count": 11,
   "id": "64975bd3-28a6-4c6b-b0c9-64bcba041b3b",
   "metadata": {},
   "outputs": [],
   "source": [
    "var1 = ''"
   ]
  },
  {
   "cell_type": "code",
   "execution_count": 12,
   "id": "9cdc5327-3734-44ce-a467-53c554438ad6",
   "metadata": {},
   "outputs": [
    {
     "data": {
      "text/plain": [
       "str"
      ]
     },
     "execution_count": 12,
     "metadata": {},
     "output_type": "execute_result"
    }
   ],
   "source": [
    "type(var1)"
   ]
  },
  {
   "cell_type": "code",
   "execution_count": 13,
   "id": "c5b97fb0-dbb3-4e14-85c5-b24e8ad307bf",
   "metadata": {},
   "outputs": [],
   "source": [
    "var2 ='[ DS , ML , Python]'"
   ]
  },
  {
   "cell_type": "code",
   "execution_count": 14,
   "id": "ddcacbb7-a902-42f1-8507-dacd1157b016",
   "metadata": {},
   "outputs": [
    {
     "data": {
      "text/plain": [
       "str"
      ]
     },
     "execution_count": 14,
     "metadata": {},
     "output_type": "execute_result"
    }
   ],
   "source": [
    "type(var2)"
   ]
  },
  {
   "cell_type": "code",
   "execution_count": 15,
   "id": "a0947544-9a92-4c8a-9cd7-2dea5ae6a7e5",
   "metadata": {},
   "outputs": [],
   "source": [
    "var3 = ['DS','ML','Python']"
   ]
  },
  {
   "cell_type": "code",
   "execution_count": 16,
   "id": "05509f0e-7f6a-49e3-aa8f-db556f66cea7",
   "metadata": {},
   "outputs": [
    {
     "data": {
      "text/plain": [
       "list"
      ]
     },
     "execution_count": 16,
     "metadata": {},
     "output_type": "execute_result"
    }
   ],
   "source": [
    "type(var3)"
   ]
  },
  {
   "cell_type": "code",
   "execution_count": 17,
   "id": "45ba65c3-1e11-49a6-bcea-08fa1ea37ea6",
   "metadata": {},
   "outputs": [],
   "source": [
    "var4=1"
   ]
  },
  {
   "cell_type": "code",
   "execution_count": 18,
   "id": "03c3bb51-74ec-456a-9f41-2b466c094cbf",
   "metadata": {},
   "outputs": [
    {
     "data": {
      "text/plain": [
       "int"
      ]
     },
     "execution_count": 18,
     "metadata": {},
     "output_type": "execute_result"
    }
   ],
   "source": [
    "type(var4)"
   ]
  },
  {
   "cell_type": "code",
   "execution_count": 19,
   "id": "f029e75a-eff3-4673-9397-f11d16b7deb8",
   "metadata": {},
   "outputs": [],
   "source": [
    "#Explain the use of the following operators using an example"
   ]
  },
  {
   "cell_type": "code",
   "execution_count": 23,
   "id": "8e53e43f-e3db-40d8-9d74-f5b64c217d7b",
   "metadata": {},
   "outputs": [],
   "source": [
    "a=5"
   ]
  },
  {
   "cell_type": "code",
   "execution_count": 24,
   "id": "fb0b5c24-cf3e-4c54-9806-1ce00ae3c2a8",
   "metadata": {},
   "outputs": [],
   "source": [
    "b=2"
   ]
  },
  {
   "cell_type": "code",
   "execution_count": 25,
   "id": "d8299a62-f5ac-4867-a6e5-1459b808cae0",
   "metadata": {},
   "outputs": [
    {
     "data": {
      "text/plain": [
       "2.5"
      ]
     },
     "execution_count": 25,
     "metadata": {},
     "output_type": "execute_result"
    }
   ],
   "source": [
    "a/b"
   ]
  },
  {
   "cell_type": "code",
   "execution_count": 26,
   "id": "86113822-89fc-443d-8beb-7358ecb5c477",
   "metadata": {},
   "outputs": [
    {
     "data": {
      "text/plain": [
       "1"
      ]
     },
     "execution_count": 26,
     "metadata": {},
     "output_type": "execute_result"
    }
   ],
   "source": [
    "a%b"
   ]
  },
  {
   "cell_type": "code",
   "execution_count": 27,
   "id": "4a7a04bb-eb27-4909-93f6-3527708cf34c",
   "metadata": {},
   "outputs": [
    {
     "data": {
      "text/plain": [
       "2"
      ]
     },
     "execution_count": 27,
     "metadata": {},
     "output_type": "execute_result"
    }
   ],
   "source": [
    "a//b"
   ]
  },
  {
   "cell_type": "code",
   "execution_count": 28,
   "id": "8d46422c-8a1d-46ae-be95-a2ce15f55847",
   "metadata": {},
   "outputs": [
    {
     "data": {
      "text/plain": [
       "25"
      ]
     },
     "execution_count": 28,
     "metadata": {},
     "output_type": "execute_result"
    }
   ],
   "source": [
    "a**b"
   ]
  },
  {
   "cell_type": "code",
   "execution_count": 1,
   "id": "4c36b8c3-3daf-4e75-968d-624f63bebdc3",
   "metadata": {},
   "outputs": [],
   "source": [
    "#Q4. Create a list of length 10 of your choice containing multiple types of data. Using for loop print the element and its data type."
   ]
  },
  {
   "cell_type": "code",
   "execution_count": 39,
   "id": "5c3968f9-c25c-48b9-b241-a6d860540855",
   "metadata": {},
   "outputs": [],
   "source": [
    "l=[1,3,45,2,5.53,True,'Dhruvin',\"Suthar\",53,False]\n",
    "i=1"
   ]
  },
  {
   "cell_type": "code",
   "execution_count": 40,
   "id": "d76ee9ae-51d3-443c-b305-e6cc93698f8e",
   "metadata": {},
   "outputs": [
    {
     "name": "stdout",
     "output_type": "stream",
     "text": [
      "<class 'int'>\n",
      "<class 'int'>\n",
      "<class 'int'>\n",
      "<class 'int'>\n",
      "<class 'float'>\n",
      "<class 'bool'>\n",
      "<class 'str'>\n",
      "<class 'str'>\n",
      "<class 'int'>\n",
      "<class 'bool'>\n"
     ]
    }
   ],
   "source": [
    "for i in l:\n",
    "    print(type(i))"
   ]
  },
  {
   "cell_type": "code",
   "execution_count": 45,
   "id": "fb1ff61a-fdb0-49f0-934e-bc5d78d3db44",
   "metadata": {},
   "outputs": [],
   "source": [
    "# Q5. Using a while loop, verify if the number A is purely divisible by number B and if so then how manytimes it can be divisible."
   ]
  },
  {
   "cell_type": "code",
   "execution_count": 43,
   "id": "4a62b47f-9739-4ba6-b7f4-69cb06c06c75",
   "metadata": {},
   "outputs": [],
   "source": [
    "A = 10\n",
    "B = 5"
   ]
  },
  {
   "cell_type": "code",
   "execution_count": 44,
   "id": "0c4f7712-a2fc-4e38-b74c-bd77f4dd420b",
   "metadata": {},
   "outputs": [
    {
     "name": "stdout",
     "output_type": "stream",
     "text": [
      "Time it can be divisible  2\n"
     ]
    }
   ],
   "source": [
    "if A%B == 0:\n",
    "    print(\"Time it can be divisible \",A//B)\n",
    "else:\n",
    "    print(\"Its not purely divisible\")"
   ]
  },
  {
   "cell_type": "code",
   "execution_count": 46,
   "id": "5a680c10-b082-4f0b-96f3-4e6be3c57c57",
   "metadata": {},
   "outputs": [],
   "source": [
    "#Q6. Create a list containing 25 int type data. Using for loop and if-else condition print if the element isdivisible by 3 or not."
   ]
  },
  {
   "cell_type": "code",
   "execution_count": 51,
   "id": "7f7bf89d-d6ba-49b1-98ab-75166ee68319",
   "metadata": {},
   "outputs": [],
   "source": [
    "list=[1,2,3,4,5,6,7,8,9,10,11,12,13,14,15,16,17,18,19,20,21,22,23,24,25]"
   ]
  },
  {
   "cell_type": "code",
   "execution_count": 59,
   "id": "1f426e31-9d7a-48d7-bbb5-b2f1b60fb20b",
   "metadata": {},
   "outputs": [
    {
     "name": "stdout",
     "output_type": "stream",
     "text": [
      "Not Divisible by 3 -->  1\n",
      "Not Divisible by 3 -->  2\n",
      "Divisible by 3 -->  3\n",
      "Not Divisible by 3 -->  4\n",
      "Not Divisible by 3 -->  5\n",
      "Divisible by 3 -->  6\n",
      "Not Divisible by 3 -->  7\n",
      "Not Divisible by 3 -->  8\n",
      "Divisible by 3 -->  9\n",
      "Not Divisible by 3 -->  10\n",
      "Not Divisible by 3 -->  11\n",
      "Divisible by 3 -->  12\n",
      "Not Divisible by 3 -->  13\n",
      "Not Divisible by 3 -->  14\n",
      "Divisible by 3 -->  15\n",
      "Not Divisible by 3 -->  16\n",
      "Not Divisible by 3 -->  17\n",
      "Divisible by 3 -->  18\n",
      "Not Divisible by 3 -->  19\n",
      "Not Divisible by 3 -->  20\n",
      "Divisible by 3 -->  21\n",
      "Not Divisible by 3 -->  22\n",
      "Not Divisible by 3 -->  23\n",
      "Divisible by 3 -->  24\n",
      "Not Divisible by 3 -->  25\n"
     ]
    }
   ],
   "source": [
    "for i in list:\n",
    "    if i%3==0:\n",
    "        print(\"Divisible by 3 --> \",i)\n",
    "    else:\n",
    "        print(\"Not Divisible by 3 --> \",i)"
   ]
  },
  {
   "cell_type": "code",
   "execution_count": 60,
   "id": "0a42f962-e3bd-41ba-9b1c-bfc663baad3f",
   "metadata": {},
   "outputs": [],
   "source": [
    "#Q7. What do you understand about mutable and immutable data types? Give examples for both showingthis property."
   ]
  },
  {
   "cell_type": "code",
   "execution_count": 61,
   "id": "ad6d562a-e0e7-42d7-aa65-966a123aad17",
   "metadata": {},
   "outputs": [],
   "source": [
    "mutable=[1,2,3,4,5]"
   ]
  },
  {
   "cell_type": "code",
   "execution_count": 62,
   "id": "c6dd8072-879f-49c8-9d89-b54e9dad0248",
   "metadata": {},
   "outputs": [],
   "source": [
    "immutable=(6,7,8,9,0)"
   ]
  },
  {
   "cell_type": "code",
   "execution_count": 63,
   "id": "a3d24105-1a4a-40e4-af28-e173cb84ea31",
   "metadata": {},
   "outputs": [],
   "source": [
    "mutable[1]=\"changed\""
   ]
  },
  {
   "cell_type": "code",
   "execution_count": 64,
   "id": "93de9848-1940-4d5b-9af4-58e978374788",
   "metadata": {},
   "outputs": [
    {
     "data": {
      "text/plain": [
       "[1, 'changed', 3, 4, 5]"
      ]
     },
     "execution_count": 64,
     "metadata": {},
     "output_type": "execute_result"
    }
   ],
   "source": [
    "mutable"
   ]
  },
  {
   "cell_type": "code",
   "execution_count": 66,
   "id": "d078d8d9-afbd-42c6-8741-bc4538873eed",
   "metadata": {},
   "outputs": [
    {
     "ename": "SyntaxError",
     "evalue": "cannot assign to function call here. Maybe you meant '==' instead of '='? (2018362751.py, line 1)",
     "output_type": "error",
     "traceback": [
      "\u001b[0;36m  Cell \u001b[0;32mIn[66], line 1\u001b[0;36m\u001b[0m\n\u001b[0;31m    immutable(1)=\"Cant changed and throws error\"\u001b[0m\n\u001b[0m    ^\u001b[0m\n\u001b[0;31mSyntaxError\u001b[0m\u001b[0;31m:\u001b[0m cannot assign to function call here. Maybe you meant '==' instead of '='?\n"
     ]
    }
   ],
   "source": [
    "immutable(1)=\"Cant changed and throws error\""
   ]
  },
  {
   "cell_type": "code",
   "execution_count": null,
   "id": "34b23cbd-58e7-4cab-80d0-1941c930e167",
   "metadata": {},
   "outputs": [],
   "source": []
  }
 ],
 "metadata": {
  "kernelspec": {
   "display_name": "Python 3 (ipykernel)",
   "language": "python",
   "name": "python3"
  },
  "language_info": {
   "codemirror_mode": {
    "name": "ipython",
    "version": 3
   },
   "file_extension": ".py",
   "mimetype": "text/x-python",
   "name": "python",
   "nbconvert_exporter": "python",
   "pygments_lexer": "ipython3",
   "version": "3.10.8"
  }
 },
 "nbformat": 4,
 "nbformat_minor": 5
}
