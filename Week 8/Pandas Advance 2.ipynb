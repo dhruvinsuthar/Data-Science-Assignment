{
 "cells": [
  {
   "cell_type": "code",
   "execution_count": 2,
   "metadata": {},
   "outputs": [],
   "source": [
    "import pandas as pd\n",
    "\n",
    "course_name = ['Data Science', 'Machine Learning', 'Big Data', 'Data Engineer']\n",
    "duration = [2, 3, 6, 4]\n",
    "df = pd.DataFrame(data={'course_name': course_name, 'duration': duration})"
   ]
  },
  {
   "cell_type": "markdown",
   "metadata": {},
   "source": [
    "Q1"
   ]
  },
  {
   "cell_type": "code",
   "execution_count": 3,
   "metadata": {},
   "outputs": [
    {
     "name": "stdout",
     "output_type": "stream",
     "text": [
      "course_name    Machine Learning\n",
      "duration                      3\n",
      "Name: 1, dtype: object\n"
     ]
    }
   ],
   "source": [
    "second_row = df.iloc[1]\n",
    "print(second_row)"
   ]
  },
  {
   "cell_type": "markdown",
   "metadata": {},
   "source": [
    "Q2"
   ]
  },
  {
   "cell_type": "markdown",
   "metadata": {},
   "source": [
    "iloc: Selects rows/columns by integer index positions (zero-based).\n",
    "\n",
    "loc: Selects rows/columns by labels (or index names)."
   ]
  },
  {
   "cell_type": "markdown",
   "metadata": {},
   "source": [
    "Q3"
   ]
  },
  {
   "cell_type": "code",
   "execution_count": 5,
   "metadata": {},
   "outputs": [
    {
     "name": "stdout",
     "output_type": "stream",
     "text": [
      "        course_name  duration\n",
      "3     Data Engineer         4\n",
      "0      Data Science         2\n",
      "1  Machine Learning         3\n",
      "2          Big Data         6\n"
     ]
    }
   ],
   "source": [
    "reindex = [3, 0, 1, 2]\n",
    "new_df = df.reindex(reindex)\n",
    "print(new_df)"
   ]
  },
  {
   "cell_type": "code",
   "execution_count": 7,
   "metadata": {},
   "outputs": [
    {
     "name": "stdout",
     "output_type": "stream",
     "text": [
      "Loc:\n",
      " course_name    Big Data\n",
      "duration              6\n",
      "Name: 2, dtype: object\n",
      "\n",
      "Iloc:\n",
      " course_name    Machine Learning\n",
      "duration                      3\n",
      "Name: 1, dtype: object\n"
     ]
    }
   ],
   "source": [
    "print(\"Loc:\\n\", new_df.loc[2])\n",
    "print(\"\\nIloc:\\n\", new_df.iloc[2])"
   ]
  },
  {
   "cell_type": "code",
   "execution_count": 8,
   "metadata": {},
   "outputs": [],
   "source": [
    "import pandas as pd\n",
    "import numpy as np\n",
    "columns = ['column_1', 'column_2', 'column_3', 'column_4', 'column_5', 'column_6']\n",
    "indices = [1,2,3,4,5,6]\n",
    "#Creating a dataframe:\n",
    "df1 = pd.DataFrame(np.random.rand(6,6), columns = columns, index = indices)"
   ]
  },
  {
   "cell_type": "markdown",
   "metadata": {},
   "source": [
    "Q4"
   ]
  },
  {
   "cell_type": "code",
   "execution_count": 10,
   "metadata": {},
   "outputs": [
    {
     "data": {
      "text/plain": [
       "column_1    0.377908\n",
       "column_2    0.427478\n",
       "column_3    0.331460\n",
       "column_4    0.509854\n",
       "column_5    0.471984\n",
       "column_6    0.445237\n",
       "dtype: float64"
      ]
     },
     "execution_count": 10,
     "metadata": {},
     "output_type": "execute_result"
    }
   ],
   "source": [
    "column_means = df1.mean()\n",
    "column_means"
   ]
  },
  {
   "cell_type": "code",
   "execution_count": 12,
   "metadata": {},
   "outputs": [
    {
     "data": {
      "text/plain": [
       "0.23294584716964406"
      ]
     },
     "execution_count": 12,
     "metadata": {},
     "output_type": "execute_result"
    }
   ],
   "source": [
    "std_column_2 = df1['column_2'].std()\n",
    "std_column_2"
   ]
  },
  {
   "cell_type": "markdown",
   "metadata": {},
   "source": [
    "Q5"
   ]
  },
  {
   "cell_type": "code",
   "execution_count": 14,
   "metadata": {},
   "outputs": [
    {
     "name": "stdout",
     "output_type": "stream",
     "text": [
      "   column_1      column_2  column_3  column_4  column_5  column_6\n",
      "1  0.012369      0.389145  0.026752  0.971592  0.615779  0.279156\n",
      "2  0.623973  string_value  0.200409  0.435158  0.514462  0.639722\n",
      "3  0.023462      0.356969  0.766702  0.161010  0.347355  0.929518\n",
      "4  0.788898      0.059149  0.111448  0.367132  0.097302  0.293154\n",
      "5  0.289191      0.609982  0.211106  0.453120  0.833900  0.448340\n",
      "6  0.529557      0.412807  0.672343  0.671115  0.423109  0.081531\n"
     ]
    }
   ],
   "source": [
    "df1.loc[2, 'column_2'] = 'string_value'\n",
    "print(df1)"
   ]
  },
  {
   "cell_type": "code",
   "execution_count": 15,
   "metadata": {},
   "outputs": [
    {
     "name": "stdout",
     "output_type": "stream",
     "text": [
      "unsupported operand type(s) for +: 'float' and 'str'\n"
     ]
    }
   ],
   "source": [
    "try:\n",
    "    mean_column_2 = df1['column_2'].mean()\n",
    "    print(mean_column_2)\n",
    "except Exception as e:\n",
    "    print(e)"
   ]
  },
  {
   "cell_type": "markdown",
   "metadata": {},
   "source": [
    "After replacing a numerical value with a string, the column_2 data type changes to object. Pandas cannot calculate the mean of mixed data types (numerical and string).\n",
    "\n",
    "Attempting to calculate the mean of such a column will raise a TypeError, as strings cannot be included in numerical operations."
   ]
  },
  {
   "cell_type": "markdown",
   "metadata": {},
   "source": [
    "Q6"
   ]
  },
  {
   "cell_type": "markdown",
   "metadata": {},
   "source": [
    "A window function in Pandas refers to operations that are applied over a sliding or rolling window of rows or time periods in a DataFrame or Series. These functions help compute aggregate values, trends, or summaries over a specific \"window size.\"\n",
    "\n",
    "Types of Windows Functions in Pandas:\n",
    "Rolling Window: Used to calculate a rolling statistic, like a moving average or sum.\n",
    "\n",
    "Expanding Window: Includes all rows from the start of the data up to the current point.\n",
    "\n",
    "Exponentially Weighted Window: Assigns exponentially decreasing weights to older observations.\n",
    "\n",
    "Aggregate Window Functions: Allows custom aggregation functions like sum, mean, std, etc., to be applied over windows.\n",
    "\n",
    "Time-Based Windows: Used with time series data to group and aggregate over time periods (e.g., days, weeks)."
   ]
  },
  {
   "cell_type": "markdown",
   "metadata": {},
   "source": [
    "Q7"
   ]
  },
  {
   "cell_type": "code",
   "execution_count": 17,
   "metadata": {},
   "outputs": [
    {
     "name": "stdout",
     "output_type": "stream",
     "text": [
      "Current Month: 12\n",
      "Current Year: 2024\n"
     ]
    }
   ],
   "source": [
    "import pandas as pd\n",
    "\n",
    "current_date = pd.Timestamp.now()\n",
    "current_month = current_date.month\n",
    "current_year = current_date.year\n",
    "\n",
    "print(\"Current Month:\", current_month)\n",
    "print(\"Current Year:\", current_year)"
   ]
  },
  {
   "cell_type": "markdown",
   "metadata": {},
   "source": [
    "Q8"
   ]
  },
  {
   "cell_type": "code",
   "execution_count": 18,
   "metadata": {},
   "outputs": [
    {
     "name": "stdout",
     "output_type": "stream",
     "text": [
      "\n",
      "Difference between the two dates:\n",
      "Days: 16102\n",
      "Hours: 386448\n",
      "Minutes: 0\n"
     ]
    }
   ],
   "source": [
    "import pandas as pd\n",
    "\n",
    "def calculate_date_difference():\n",
    "    date1 = input(\"Enter the first date (YYYY-MM-DD): \")\n",
    "    date2 = input(\"Enter the second date (YYYY-MM-DD): \")\n",
    "\n",
    "    date1 = pd.Timestamp(date1)\n",
    "    date2 = pd.Timestamp(date2)\n",
    "\n",
    "    time_delta = abs(date2 - date1)\n",
    "\n",
    "    days = time_delta.days\n",
    "    seconds = time_delta.total_seconds()\n",
    "    hours = seconds // 3600\n",
    "    minutes = (seconds % 3600) // 60\n",
    "\n",
    "    print(f\"\\nDifference between the two dates:\")\n",
    "    print(f\"Days: {days}\")\n",
    "    print(f\"Hours: {int(hours)}\")\n",
    "    print(f\"Minutes: {int(minutes)}\")\n",
    "\n",
    "calculate_date_difference()"
   ]
  },
  {
   "cell_type": "markdown",
   "metadata": {},
   "source": [
    "Q9"
   ]
  },
  {
   "cell_type": "code",
   "execution_count": 25,
   "metadata": {},
   "outputs": [
    {
     "name": "stdout",
     "output_type": "stream",
     "text": [
      "      Name Category\n",
      "1      Bob      Low\n",
      "0    Alice   Medium\n",
      "3    David   Medium\n",
      "2  Charlie     High\n"
     ]
    }
   ],
   "source": [
    "import pandas as pd\n",
    "\n",
    "data = {\n",
    "    'Name': ['Alice', 'Bob', 'Charlie', 'David'],\n",
    "    'Category': ['Medium', 'Low', 'High', 'Medium']\n",
    "}\n",
    "df = pd.DataFrame(data)\n",
    "df.to_csv('sample_data.csv', index=False)\n",
    "\n",
    "df = pd.read_csv('sample_data.csv')\n",
    "category_order = ['Low', 'Medium', 'High']\n",
    "df['Category'] = pd.Categorical(df['Category'], categories=category_order, ordered=True)\n",
    "sorted_df = df.sort_values(by='Category')\n",
    "print(sorted_df)"
   ]
  },
  {
   "cell_type": "markdown",
   "metadata": {},
   "source": [
    "Q10"
   ]
  },
  {
   "cell_type": "code",
   "execution_count": 26,
   "metadata": {},
   "outputs": [
    {
     "data": {
      "image/png": "[encoded data removed]",
      "text/plain": [
       "<Figure size 1000x600 with 1 Axes>"
      ]
     },
     "metadata": {},
     "output_type": "display_data"
    }
   ],
   "source": [
    "import pandas as pd\n",
    "import matplotlib.pyplot as plt\n",
    "\n",
    "data = {\n",
    "    'Date': ['2024-01-01', '2024-01-02', '2024-01-01', '2024-01-02'],\n",
    "    'Product_Category': ['A', 'A', 'B', 'B'],\n",
    "    'Sales': [100, 150, 200, 250]\n",
    "}\n",
    "df = pd.DataFrame(data)\n",
    "df.to_csv('sales_data.csv', index=False)\n",
    "\n",
    "df = pd.read_csv('sales_data.csv')\n",
    "df['Date'] = pd.to_datetime(df['Date'])\n",
    "sales_data = df.groupby(['Date', 'Product_Category'])['Sales'].sum().unstack(fill_value=0)\n",
    "sales_data.plot(kind='bar', stacked=True, figsize=(10, 6))\n",
    "plt.title(\"Sales by Category\")\n",
    "plt.xlabel(\"Date\")\n",
    "plt.ylabel(\"Sales\")\n",
    "plt.legend(title=\"Category\")\n",
    "plt.tight_layout()\n",
    "plt.show()"
   ]
  },
  {
   "cell_type": "markdown",
   "metadata": {},
   "source": [
    "Q11"
   ]
  },
  {
   "cell_type": "code",
   "execution_count": 28,
   "metadata": {},
   "outputs": [
    {
     "name": "stdout",
     "output_type": "stream",
     "text": [
      "+-----------+-------+\n",
      "| Statistic | Value |\n",
      "+-----------+-------+\n",
      "|    Mean   |  83.5 |\n",
      "|   Median  |  85.0 |\n",
      "|    Mode   |   85  |\n",
      "+-----------+-------+\n"
     ]
    }
   ],
   "source": [
    "import pandas as pd\n",
    "from prettytable import PrettyTable\n",
    "\n",
    "data = {\n",
    "    'Student ID': [1, 2, 3, 4, 5, 6, 7, 8, 9, 10],\n",
    "    'Test Score': [85, 90, 80, 75, 85, 82, 78, 85, 90, 85]\n",
    "}\n",
    "df = pd.DataFrame(data)\n",
    "df.to_csv('student_data.csv', index=False)\n",
    "\n",
    "df = pd.read_csv('student_data.csv')\n",
    "\n",
    "mean = df['Test Score'].mean()\n",
    "median = df['Test Score'].median()\n",
    "mode = ', '.join(map(str, df['Test Score'].mode().tolist()))\n",
    "\n",
    "table = PrettyTable()\n",
    "table.field_names = [\"Statistic\", \"Value\"]\n",
    "table.add_row([\"Mean\", round(mean, 2)])\n",
    "table.add_row([\"Median\", median])\n",
    "table.add_row([\"Mode\", mode])\n",
    "\n",
    "print(table)"
   ]
  },
  {
   "cell_type": "code",
   "execution_count": null,
   "metadata": {},
   "outputs": [],
   "source": []
  }
 ],
 "metadata": {
  "kernelspec": {
   "display_name": "Python 3",
   "language": "python",
   "name": "python3"
  },
  "language_info": {
   "codemirror_mode": {
    "name": "ipython",
    "version": 3
   },
   "file_extension": ".py",
   "mimetype": "text/x-python",
   "name": "python",
   "nbconvert_exporter": "python",
   "pygments_lexer": "ipython3",
   "version": "3.12.4"
  }
 },
 "nbformat": 4,
 "nbformat_minor": 2
}
