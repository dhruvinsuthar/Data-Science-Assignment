{
 "cells": [
  {
   "cell_type": "code",
   "execution_count": 1,
   "id": "22de7aeb-d0a1-4567-8f1f-74763640b9d1",
   "metadata": {},
   "outputs": [],
   "source": [
    "# Q1. Explain Class and Object with respect to Object-Oriented Programming. Give a suitable example."
   ]
  },
  {
   "cell_type": "code",
   "execution_count": 2,
   "id": "e33f6638-22f1-443a-ba50-d679a0bd3fe0",
   "metadata": {},
   "outputs": [],
   "source": [
    "# class is nothing but defining properties of object\n",
    "# while object define the attributes of methods"
   ]
  },
  {
   "cell_type": "code",
   "execution_count": 3,
   "id": "ac8eac0a-a304-42f0-b905-bf867bd92624",
   "metadata": {},
   "outputs": [],
   "source": [
    "class car:\n",
    "    def __init__(self,speed,name):\n",
    "        self.__speed = speed\n",
    "        self.__name = name\n",
    "        \n",
    "    def speed(self):\n",
    "        return self.__speed\n",
    "    \n",
    "    def name(self):\n",
    "        return self.__name"
   ]
  },
  {
   "cell_type": "code",
   "execution_count": 6,
   "id": "4f9a347a-52a3-4fdc-a929-71f81b353aa1",
   "metadata": {},
   "outputs": [],
   "source": [
    "toyota = car(250,'supra')"
   ]
  },
  {
   "cell_type": "code",
   "execution_count": 9,
   "id": "f005484f-9b6b-4490-bdf9-87673d1ac6d2",
   "metadata": {},
   "outputs": [
    {
     "data": {
      "text/plain": [
       "'supra'"
      ]
     },
     "execution_count": 9,
     "metadata": {},
     "output_type": "execute_result"
    }
   ],
   "source": [
    "toyota.name()"
   ]
  },
  {
   "cell_type": "code",
   "execution_count": 10,
   "id": "2b683a5d-2ca3-42a8-901c-df013adb0e87",
   "metadata": {},
   "outputs": [
    {
     "data": {
      "text/plain": [
       "250"
      ]
     },
     "execution_count": 10,
     "metadata": {},
     "output_type": "execute_result"
    }
   ],
   "source": [
    "toyota.speed()"
   ]
  },
  {
   "cell_type": "code",
   "execution_count": 11,
   "id": "85b77664-5090-4004-b0a6-b0ebb04c0269",
   "metadata": {},
   "outputs": [],
   "source": [
    "# Q2. Name the four pillars of OOPs."
   ]
  },
  {
   "cell_type": "code",
   "execution_count": 12,
   "id": "a052207e-5de0-4ce9-979f-a8a338a59898",
   "metadata": {},
   "outputs": [],
   "source": [
    "# Abstraction, Pholimorphism, Inheritence, Encapsulation"
   ]
  },
  {
   "cell_type": "code",
   "execution_count": 13,
   "id": "7109da4e-549b-4864-88f8-a7914ccf70ff",
   "metadata": {},
   "outputs": [],
   "source": [
    "# Q3. Explain why the __init__() function is used. Give a suitable example."
   ]
  },
  {
   "cell_type": "code",
   "execution_count": 14,
   "id": "d8dd625c-ab83-47cd-ba80-aaefa022edb5",
   "metadata": {},
   "outputs": [],
   "source": [
    "# it is use to initialize the attribute or value give for the class for further applications"
   ]
  },
  {
   "cell_type": "code",
   "execution_count": 23,
   "id": "86b328de-4a4a-4635-8139-947c28695755",
   "metadata": {},
   "outputs": [],
   "source": [
    "class school:\n",
    "    def __init__(self,name):\n",
    "        self.name = name\n",
    "    \n",
    "    def school_name(self):\n",
    "        return self.name"
   ]
  },
  {
   "cell_type": "code",
   "execution_count": 24,
   "id": "a4a61975-62e2-4608-99e5-44872f137b26",
   "metadata": {},
   "outputs": [],
   "source": [
    "my_school = school('svm')"
   ]
  },
  {
   "cell_type": "code",
   "execution_count": 26,
   "id": "6083f571-37d5-4cc9-9892-91dca2470730",
   "metadata": {},
   "outputs": [
    {
     "data": {
      "text/plain": [
       "'svm'"
      ]
     },
     "execution_count": 26,
     "metadata": {},
     "output_type": "execute_result"
    }
   ],
   "source": [
    "my_school.school_name()"
   ]
  },
  {
   "cell_type": "code",
   "execution_count": 27,
   "id": "91c73a4d-09a8-4adb-88e1-e2b7082906aa",
   "metadata": {},
   "outputs": [],
   "source": [
    "# Q4. Why self is used in OOPs?"
   ]
  },
  {
   "cell_type": "code",
   "execution_count": 28,
   "id": "8a7544cf-ad71-4253-86df-f7b0d1221291",
   "metadata": {},
   "outputs": [],
   "source": [
    "# self is use for instance allowing us to use the atribute of the methods"
   ]
  },
  {
   "cell_type": "code",
   "execution_count": 29,
   "id": "38081cfd-661f-411b-83a8-f26a66f2afba",
   "metadata": {},
   "outputs": [],
   "source": [
    "# Q5. What is inheritance? Give an example for each type of inheritance."
   ]
  },
  {
   "cell_type": "code",
   "execution_count": 31,
   "id": "63de7d26-b8f8-40b1-8e36-154f6f12e025",
   "metadata": {},
   "outputs": [],
   "source": [
    "# inheritance is a concept use to derived the propety from class  to class\n",
    "# it is use to take propetu from one class to another\n",
    "# there  are 4 type of inheritence single, mutiple, multilevel, hierarchical"
   ]
  },
  {
   "cell_type": "code",
   "execution_count": 32,
   "id": "7efe1d0c-d2da-4bf0-a9d9-cf7e9d485ee9",
   "metadata": {},
   "outputs": [
    {
     "name": "stdout",
     "output_type": "stream",
     "text": [
      "c1\n"
     ]
    }
   ],
   "source": [
    "# single inheritance\n",
    "class p1:\n",
    "    def fees(self):\n",
    "        print(\"p1\")\n",
    "        \n",
    "class c1(p1):\n",
    "    def fees(self):\n",
    "        print(\"c1\")\n",
    "        \n",
    "dtry = c1()\n",
    "dtry.fees()"
   ]
  },
  {
   "cell_type": "code",
   "execution_count": 36,
   "id": "7cafd0f9-3112-44c5-bc8f-f7395fd9b576",
   "metadata": {},
   "outputs": [
    {
     "name": "stdout",
     "output_type": "stream",
     "text": [
      "c1\n"
     ]
    }
   ],
   "source": [
    "# multiple inheritance\n",
    "class p1:\n",
    "    def fees(self):\n",
    "        print(\"p1\")\n",
    "\n",
    "class p2:\n",
    "    def fees(self):\n",
    "        print(\"p2\")\n",
    "        \n",
    "class c1(p1,p2):\n",
    "    def fees(self):\n",
    "        print(\"c1\")\n",
    "        \n",
    "etry = c1()\n",
    "etry.fees()"
   ]
  },
  {
   "cell_type": "code",
   "execution_count": 38,
   "id": "6002e1cb-a7af-4a7f-8ae4-c08d9ba36d56",
   "metadata": {},
   "outputs": [
    {
     "name": "stdout",
     "output_type": "stream",
     "text": [
      "p2\n"
     ]
    }
   ],
   "source": [
    "# multilevel inheritance\n",
    "class p1:\n",
    "    def fees(self):\n",
    "        print(\"p1\")\n",
    "\n",
    "class p2(p1):\n",
    "    def fees_p2(self):\n",
    "        print(\"p2\")\n",
    "        \n",
    "class c1(p2):\n",
    "    def fees(self):\n",
    "        print(\"c1\")\n",
    "        \n",
    "ftry = c1()\n",
    "ftry.fees_p2()"
   ]
  },
  {
   "cell_type": "code",
   "execution_count": 40,
   "id": "738a5243-400f-45eb-8b3c-4fce98b3e45e",
   "metadata": {},
   "outputs": [
    {
     "name": "stdout",
     "output_type": "stream",
     "text": [
      "p1\n"
     ]
    }
   ],
   "source": [
    "# hierarchical inheritance\n",
    "class p1:\n",
    "    def fees_p1(self):\n",
    "        print(\"p1\")\n",
    "\n",
    "class p2(p1):\n",
    "    def fees_p2(self):\n",
    "        print(\"p2\")\n",
    "        \n",
    "class c1(p1):\n",
    "    def fees(self):\n",
    "        print(\"c1\")\n",
    "        \n",
    "gtry = c1()\n",
    "gtry.fees_p1()"
   ]
  }
 ],
 "metadata": {
  "kernelspec": {
   "display_name": "Python 3 (ipykernel)",
   "language": "python",
   "name": "python3"
  },
  "language_info": {
   "codemirror_mode": {
    "name": "ipython",
    "version": 3
   },
   "file_extension": ".py",
   "mimetype": "text/x-python",
   "name": "python",
   "nbconvert_exporter": "python",
   "pygments_lexer": "ipython3",
   "version": "3.10.8"
  }
 },
 "nbformat": 4,
 "nbformat_minor": 5
}
