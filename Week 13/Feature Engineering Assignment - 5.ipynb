{
 "cells": [
  {
   "cell_type": "code",
   "execution_count": 1,
   "metadata": {},
   "outputs": [],
   "source": [
    "import pandas as pd\n",
    "import numpy as np\n",
    "from scipy.stats import pearsonr, spearmanr"
   ]
  },
  {
   "cell_type": "code",
   "execution_count": 2,
   "metadata": {},
   "outputs": [
    {
     "name": "stdout",
     "output_type": "stream",
     "text": [
      "Q1: Pearson correlation coefficient: 1.0\n"
     ]
    }
   ],
   "source": [
    "# Q1: Pearson Correlation Coefficient for Study Time and Exam Scores\n",
    "# Example data for demonstration\n",
    "study_time = [2, 3, 4, 5, 6]  # hours spent studying\n",
    "exam_scores = [50, 60, 70, 80, 90]  # corresponding exam scores\n",
    "\n",
    "# Calculate Pearson correlation coefficient\n",
    "pearson_corr, _ = pearsonr(study_time, exam_scores)\n",
    "print(\"Q1: Pearson correlation coefficient:\", pearson_corr)\n",
    "\n",
    "# Interpretation: The result will indicate the strength and direction of the linear relationship."
   ]
  },
  {
   "cell_type": "code",
   "execution_count": 3,
   "metadata": {},
   "outputs": [
    {
     "name": "stdout",
     "output_type": "stream",
     "text": [
      "Q2: Spearman's rank correlation: 0.9999999999999999\n"
     ]
    }
   ],
   "source": [
    "# Q2: Spearman's Rank Correlation for Sleep and Job Satisfaction\n",
    "# Example data\n",
    "sleep_hours = [6, 7, 8, 5, 4]  # hours of sleep per night\n",
    "job_satisfaction = [7, 8, 9, 6, 5]  # satisfaction scale (1-10)\n",
    "\n",
    "# Calculate Spearman's rank correlation\n",
    "spearman_corr, _ = spearmanr(sleep_hours, job_satisfaction)\n",
    "print(\"Q2: Spearman's rank correlation:\", spearman_corr)\n",
    "\n",
    "# Interpretation: The result will show how monotonic the relationship is."
   ]
  },
  {
   "cell_type": "code",
   "execution_count": 4,
   "metadata": {},
   "outputs": [
    {
     "name": "stdout",
     "output_type": "stream",
     "text": [
      "Q3: Pearson correlation coefficient (Exercise vs BMI): -0.3320526770508061\n",
      "Q3: Spearman's rank correlation (Exercise vs BMI): -0.3279231692677071\n"
     ]
    }
   ],
   "source": [
    "# Q3: Pearson and Spearman Correlation for Exercise and BMI\n",
    "# Example data\n",
    "exercise_hours = np.random.uniform(1, 10, 50)  # random hours of exercise per week\n",
    "bmi = np.random.uniform(18, 35, 50)  # random BMI values\n",
    "\n",
    "# Calculate Pearson correlation\n",
    "pearson_corr_ex_bmi, _ = pearsonr(exercise_hours, bmi)\n",
    "\n",
    "# Calculate Spearman correlation\n",
    "spearman_corr_ex_bmi, _ = spearmanr(exercise_hours, bmi)\n",
    "\n",
    "print(\"Q3: Pearson correlation coefficient (Exercise vs BMI):\", pearson_corr_ex_bmi)\n",
    "print(\"Q3: Spearman's rank correlation (Exercise vs BMI):\", spearman_corr_ex_bmi)\n",
    "\n",
    "# Comparison: Pearson captures linear relationships, while Spearman captures monotonic relationships."
   ]
  },
  {
   "cell_type": "code",
   "execution_count": 5,
   "metadata": {},
   "outputs": [
    {
     "ename": "NameError",
     "evalue": "name 'physical_activity' is not defined",
     "output_type": "error",
     "traceback": [
      "\u001b[1;31m---------------------------------------------------------------------------\u001b[0m",
      "\u001b[1;31mNameError\u001b[0m                                 Traceback (most recent call last)",
      "Cell \u001b[1;32mIn[5], line 6\u001b[0m\n\u001b[0;32m      3\u001b[0m tv_hours \u001b[38;5;241m=\u001b[39m np\u001b[38;5;241m.\u001b[39mrandom\u001b[38;5;241m.\u001b[39muniform(\u001b[38;5;241m1\u001b[39m, \u001b[38;5;241m8\u001b[39m, \u001b[38;5;241m50\u001b[39m)  \u001b[38;5;66;03m# random TV watching hours\\physical_activity = np.random.uniform(1, 7, 50)  # random physical activity scale\u001b[39;00m\n\u001b[0;32m      5\u001b[0m \u001b[38;5;66;03m# Calculate Pearson correlation\u001b[39;00m\n\u001b[1;32m----> 6\u001b[0m pearson_corr_tv_pa, _ \u001b[38;5;241m=\u001b[39m pearsonr(tv_hours, \u001b[43mphysical_activity\u001b[49m)\n\u001b[0;32m      7\u001b[0m \u001b[38;5;28mprint\u001b[39m(\u001b[38;5;124m\"\u001b[39m\u001b[38;5;124mQ4: Pearson correlation coefficient (TV hours vs Physical Activity):\u001b[39m\u001b[38;5;124m\"\u001b[39m, pearson_corr_tv_pa)\n\u001b[0;32m      9\u001b[0m \u001b[38;5;66;03m# Interpretation: Negative values indicate an inverse relationship.\u001b[39;00m\n",
      "\u001b[1;31mNameError\u001b[0m: name 'physical_activity' is not defined"
     ]
    }
   ],
   "source": [
    "# Q4: Pearson Correlation for TV Hours and Physical Activity\n",
    "# Example data\n",
    "tv_hours = np.random.uniform(1, 8, 50)  # random TV watching hours\\physical_activity = np.random.uniform(1, 7, 50)  # random physical activity scale\n",
    "\n",
    "# Calculate Pearson correlation\n",
    "pearson_corr_tv_pa, _ = pearsonr(tv_hours, physical_activity)\n",
    "print(\"Q4: Pearson correlation coefficient (TV hours vs Physical Activity):\", pearson_corr_tv_pa)\n",
    "\n",
    "# Interpretation: Negative values indicate an inverse relationship."
   ]
  },
  {
   "cell_type": "code",
   "execution_count": 6,
   "metadata": {},
   "outputs": [
    {
     "name": "stdout",
     "output_type": "stream",
     "text": [
      "Q5: Spearman's rank correlation (Age vs Soft Drink Preference): 0.8332380897952965\n"
     ]
    }
   ],
   "source": [
    "# Q5: Relationship Between Age and Soft Drink Preference\n",
    "# Soft drink preferences can't be directly correlated using Pearson/Spearman.\n",
    "# Encode soft drink preference as numerical values for demonstration.\n",
    "\n",
    "age = [25, 42, 37, 19, 31, 28]\n",
    "soft_drink = [1, 2, 3, 1, 2, 1]  # Encoding Coke:1, Pepsi:2, Mountain Dew:3\n",
    "\n",
    "spearman_corr_age_sd, _ = spearmanr(age, soft_drink)\n",
    "print(\"Q5: Spearman's rank correlation (Age vs Soft Drink Preference):\", spearman_corr_age_sd)"
   ]
  },
  {
   "cell_type": "code",
   "execution_count": 7,
   "metadata": {},
   "outputs": [
    {
     "name": "stdout",
     "output_type": "stream",
     "text": [
      "Q6: Pearson correlation coefficient (Sales Calls vs Sales Made): 0.20477612704871045\n"
     ]
    }
   ],
   "source": [
    "# Q6: Pearson Correlation for Sales Calls and Sales Made\n",
    "# Example data\n",
    "sales_calls = np.random.uniform(5, 20, 30)  # random daily sales calls\n",
    "sales_made = np.random.uniform(20, 100, 30)  # random weekly sales made\n",
    "\n",
    "# Calculate Pearson correlation\n",
    "pearson_corr_sales, _ = pearsonr(sales_calls, sales_made)\n",
    "print(\"Q6: Pearson correlation coefficient (Sales Calls vs Sales Made):\", pearson_corr_sales)\n",
    "\n",
    "# Instructions to Save and Upload the Notebook\n",
    "# Ensure to save this file as a Jupyter Notebook (.ipynb), upload it to GitHub, and share the public repository link as instructed."
   ]
  },
  {
   "cell_type": "code",
   "execution_count": null,
   "metadata": {},
   "outputs": [],
   "source": []
  }
 ],
 "metadata": {
  "kernelspec": {
   "display_name": "Python 3",
   "language": "python",
   "name": "python3"
  },
  "language_info": {
   "codemirror_mode": {
    "name": "ipython",
    "version": 3
   },
   "file_extension": ".py",
   "mimetype": "text/x-python",
   "name": "python",
   "nbconvert_exporter": "python",
   "pygments_lexer": "ipython3",
   "version": "3.11.9"
  }
 },
 "nbformat": 4,
 "nbformat_minor": 2
}
