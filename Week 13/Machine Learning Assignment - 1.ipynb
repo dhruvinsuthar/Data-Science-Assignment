{
 "cells": [
  {
   "cell_type": "code",
   "execution_count": 3,
   "metadata": {},
   "outputs": [],
   "source": [
    "# Q1: Explain the following with an example:\n",
    "# C) Artificial Intelligence (AI): AI is the simulation of human intelligence by machines. It includes tasks like problem-solving, decision-making, and language processing. Example: Virtual assistants like Siri and Alexa.\n",
    "# J) Machine Learning (ML): ML is a subset of AI that enables machines to learn patterns from data without being explicitly programmed. Example: Email spam filters.\n",
    "# I) Deep Learning (DL): DL is a subset of ML that uses neural networks with multiple layers to process large datasets. Example: Image recognition systems.\n",
    "\n",
    "# Q2: What is supervised learning? List some examples of supervised learning.\n",
    "# Supervised Learning: It involves training a model using labeled data, where the input and output are provided. Examples include:\n",
    "# - Linear Regression\n",
    "# - Logistic Regression\n",
    "# - Decision Trees\n",
    "# - Support Vector Machines (SVM)\n",
    "\n",
    "# Q3: What is unsupervised learning? List some examples of unsupervised learning.\n",
    "# Unsupervised Learning: It involves training a model using unlabeled data, and the algorithm groups or organizes data based on patterns. Examples include:\n",
    "# - K-Means Clustering: Groups data into clusters based on similarity.\n",
    "# - Hierarchical Clustering: Builds a hierarchy of clusters for analysis.\n",
    "# - Principal Component Analysis (PCA): Reduces dimensionality to find patterns.\n",
    "\n",
    "# Q4: What is the difference between AI, ML, DL, and DS?\n",
    "# - AI: Broad field that simulates human intelligence.\n",
    "# - ML: Subset of AI focused on learning from data.\n",
    "# - DL: Subset of ML that uses neural networks for complex tasks.\n",
    "# - DS (Data Science): Focuses on extracting insights from data using statistics, ML, and visualization.\n",
    "\n",
    "# Q5: What are the main differences between supervised, unsupervised, and semi-supervised learning?\n",
    "# - Supervised Learning: Uses labeled data (input-output pairs).\n",
    "# - Unsupervised Learning: Uses unlabeled data to find patterns.\n",
    "# - Semi-Supervised Learning: Combines both labeled and unlabeled data for training.\n",
    "\n",
    "# Q6: What is train, test and validation split? Explain the importance of each term.\n",
    "# - Training Set: Used to train the model.\n",
    "# - Validation Set: Used to tune hyperparameters and prevent overfitting.\n",
    "# - Test Set: Used to evaluate the model's final performance.\n",
    "\n",
    "# Q7: How can unsupervised learning be used in anomaly detection?\n",
    "# Unsupervised learning detects anomalies by identifying patterns that deviate significantly from the normal data distribution. Algorithms like K-Means and Isolation Forest are commonly used for this purpose.\n",
    "\n",
    "# Q8: List down some commonly used supervised learning algorithms and unsupervised learning algorithms.\n",
    "# Supervised Learning Algorithms:\n",
    "# - Linear Regression\n",
    "# - Logistic Regression\n",
    "# - Decision Trees\n",
    "# - Support Vector Machines (SVM)\n",
    "# - Neural Networks\n",
    "\n",
    "# Unsupervised Learning Algorithms:\n",
    "# - K-Means Clustering\n",
    "# - Hierarchical Clustering\n",
    "# - Principal Component Analysis (PCA)\n",
    "# - Autoencoders\n"
   ]
  },
  {
   "cell_type": "code",
   "execution_count": null,
   "metadata": {},
   "outputs": [],
   "source": []
  }
 ],
 "metadata": {
  "kernelspec": {
   "display_name": "Python 3",
   "language": "python",
   "name": "python3"
  },
  "language_info": {
   "codemirror_mode": {
    "name": "ipython",
    "version": 3
   },
   "file_extension": ".py",
   "mimetype": "text/x-python",
   "name": "python",
   "nbconvert_exporter": "python",
   "pygments_lexer": "ipython3",
   "version": "3.11.9"
  }
 },
 "nbformat": 4,
 "nbformat_minor": 2
}
