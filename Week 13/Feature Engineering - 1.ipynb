{
 "cells": [
  {
   "cell_type": "code",
   "execution_count": 1,
   "metadata": {},
   "outputs": [],
   "source": [
    "# Q1. What is the Filter method in feature selection, and how does it work?\n",
    "# The Filter method evaluates the relevance of features by examining their statistical properties, such as correlation with the target variable. It works independently of machine learning algorithms and selects features based on metrics like chi-square, ANOVA, and mutual information.\n",
    "\n",
    "# Q2. How does the Wrapper method differ from the Filter method in feature selection?\n",
    "# The Wrapper method uses a predictive model to evaluate feature subsets by training and testing the model iteratively. It selects features based on their performance, unlike the Filter method, which uses statistical measures.\n",
    "\n",
    "# Q3. What are some common techniques used in Embedded feature selection methods?\n",
    "# Common techniques include:\n",
    "# - Lasso (L1 regularization): Shrinks coefficients and selects important features.\n",
    "# - Ridge (L2 regularization): Reduces multicollinearity and improves generalization.\n",
    "# - Decision Trees and Random Forests: Provide feature importance scores based on splits.\n",
    "\n",
    "# Q4. What are some drawbacks of using the Filter method for feature selection?\n",
    "# Drawbacks include:\n",
    "# - Ignores feature dependencies and interactions.\n",
    "# - May select irrelevant features due to high correlation with the target variable but low predictive power.\n",
    "# - Does not consider the performance of the learning algorithm.\n",
    "\n",
    "# Q5. In which situations would you prefer using the Filter method over the Wrapper method for feature selection?\n",
    "# - When working with large datasets due to its computational efficiency.\n",
    "# - In scenarios requiring quick preprocessing steps before model training.\n",
    "# - When interpretability and simplicity are more important than model performance.\n",
    "\n",
    "# Q6. In a telecom company, you are working on a project to develop a predictive model for customer churn. You are unsure of which features to include in the model because the dataset contains several different ones. Describe how you would choose the most pertinent attributes for the model using the Filter Method.\n",
    "# Use correlation coefficients, chi-square tests, and mutual information to evaluate each feature's relevance to the target variable. Select features with high relevance scores and remove redundant or low-scoring features.\n",
    "\n",
    "# Q7. You are working on a project to predict the outcome of a soccer match. You have a large dataset with many features, including player statistics and team rankings. Explain how you would use the Embedded method to select the most relevant features for the model.\n",
    "# Train a model such as Lasso or Random Forest and extract feature importance scores. Use these scores to rank and select the most relevant features automatically during model training.\n",
    "\n",
    "# Q8. You are working on a project to predict the price of a house based on its features, such as size, location, and age. You have a limited number of features, and you want to ensure that you select the most important ones for the model. Explain how you would use the Wrapper method to select the best set of features for the predictor.\n",
    "# Use techniques like Recursive Feature Elimination (RFE) to test different subsets of features and evaluate model performance. Select the subset that gives the best performance based on evaluation metrics like accuracy or RMSE.\n"
   ]
  },
  {
   "cell_type": "code",
   "execution_count": null,
   "metadata": {},
   "outputs": [],
   "source": []
  }
 ],
 "metadata": {
  "kernelspec": {
   "display_name": "Python 3",
   "language": "python",
   "name": "python3"
  },
  "language_info": {
   "codemirror_mode": {
    "name": "ipython",
    "version": 3
   },
   "file_extension": ".py",
   "mimetype": "text/x-python",
   "name": "python",
   "nbconvert_exporter": "python",
   "pygments_lexer": "ipython3",
   "version": "3.11.9"
  }
 },
 "nbformat": 4,
 "nbformat_minor": 2
}
