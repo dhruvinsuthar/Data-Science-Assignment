{
 "cells": [
  {
   "cell_type": "code",
   "execution_count": 1,
   "metadata": {},
   "outputs": [],
   "source": [
    "# Q1. What is the difference between Ordinal Encoding and Label Encoding? Provide an example of when you might choose one over the other.\n",
    "# Ordinal Encoding is used for categorical variables that have a natural order (e.g., Low, Medium, High). It assigns an integer to each category based on its rank.\n",
    "# Label Encoding is used for categorical variables that do not have an inherent order. Each category is simply assigned a unique integer value.\n",
    "# Example: For a variable \"Size\" (Small, Medium, Large), Ordinal Encoding would assign 0, 1, 2. For a variable \"Color\" (Red, Green, Blue), Label Encoding would assign 0, 1, 2 without implying any order."
   ]
  },
  {
   "cell_type": "code",
   "execution_count": 2,
   "metadata": {},
   "outputs": [],
   "source": [
    "# Q2. Explain how Target Guided Ordinal Encoding works and provide an example of when you might use it in a machine learning project.\n",
    "# Target Guided Ordinal Encoding uses the relationship between the categorical variable and the target variable to assign ordinal values. Categories are ordered based on their mean target value.\n",
    "# Example: In a churn prediction project, for a \"Contract Type\" feature, categories like \"Month-to-Month\" and \"Two-Year\" can be ordered based on the average churn rate for each contract type."
   ]
  },
  {
   "cell_type": "code",
   "execution_count": 3,
   "metadata": {},
   "outputs": [],
   "source": [
    "# Q3. Define covariance and explain why it is important in statistical analysis. How is covariance calculated?\n",
    "# Covariance measures the relationship between two continuous variables and indicates the direction of their linear relationship.\n",
    "# It is important because it helps us understand how two variables change together (e.g., if one increases, does the other increase or decrease?).\n",
    "# Formula: Cov(X, Y) = Σ[(Xi - mean(X)) * (Yi - mean(Y))] / n"
   ]
  },
  {
   "cell_type": "code",
   "execution_count": 4,
   "metadata": {},
   "outputs": [
    {
     "name": "stdout",
     "output_type": "stream",
     "text": [
      "Color encoding: [2 1 0]\n",
      "Size encoding: [2 1 0]\n",
      "Material encoding: [2 0 1]\n"
     ]
    }
   ],
   "source": [
    "# Q4. For a dataset with the following categorical variables: Color (red, green, blue), Size (small, medium, large), and Material (wood, metal, plastic), perform label encoding using Python's scikit-learn library. Show your code and explain the output.\n",
    "from sklearn.preprocessing import LabelEncoder\n",
    "\n",
    "# Sample data\n",
    "color = ['red', 'green', 'blue']\n",
    "size = ['small', 'medium', 'large']\n",
    "material = ['wood', 'metal', 'plastic']\n",
    "\n",
    "# Initialize label encoder\n",
    "le = LabelEncoder()\n",
    "\n",
    "# Apply Label Encoding\n",
    "color_encoded = le.fit_transform(color)\n",
    "size_encoded = le.fit_transform(size)\n",
    "material_encoded = le.fit_transform(material)\n",
    "\n",
    "# Output\n",
    "print(f\"Color encoding: {color_encoded}\")\n",
    "print(f\"Size encoding: {size_encoded}\")\n",
    "print(f\"Material encoding: {material_encoded}\")\n",
    "\n",
    "# Output explanation:\n",
    "# The output will be arrays of integers representing the encoded values for each category in the respective categorical variables.\n"
   ]
  },
  {
   "cell_type": "code",
   "execution_count": 5,
   "metadata": {},
   "outputs": [
    {
     "name": "stdout",
     "output_type": "stream",
     "text": [
      "Covariance matrix:\n",
      "[[6.25e+01 6.25e+04 1.25e+01]\n",
      " [6.25e+04 6.25e+07 1.25e+04]\n",
      " [1.25e+01 1.25e+04 2.50e+00]]\n"
     ]
    }
   ],
   "source": [
    "# Q5. Calculate the covariance matrix for the following variables in a dataset: Age, Income, and Education level. Interpret the results.\n",
    "import numpy as np\n",
    "\n",
    "# Sample dataset\n",
    "age = np.array([25, 30, 35, 40, 45])\n",
    "income = np.array([30000, 35000, 40000, 45000, 50000])\n",
    "education_level = np.array([1, 2, 3, 4, 5])  # Ordinal encoding for education level: 1=High School, 2=Bachelor's, 3=Master's, 4=PhD, 5=Post-Doc\n",
    "\n",
    "# Covariance matrix\n",
    "data = np.array([age, income, education_level]).T\n",
    "cov_matrix = np.cov(data, rowvar=False)\n",
    "\n",
    "print(f\"Covariance matrix:\\n{cov_matrix}\")\n",
    "\n",
    "# Interpretation:\n",
    "# A positive covariance between two variables means they tend to increase together, while a negative covariance means one tends to increase as the other decreases.\n",
    "# The diagonal values show the variance for each variable, while the off-diagonal values show the covariance between pairs of variables.\n"
   ]
  },
  {
   "cell_type": "code",
   "execution_count": 6,
   "metadata": {},
   "outputs": [],
   "source": [
    "# Q6. You are working on a machine learning project with a dataset containing several categorical variables, including \"Gender\" (Male/Female), \"Education Level\" (High School/Bachelor's/Master's/PhD), and \"Employment Status\" (Unemployed/Part-Time/Full-Time). Which encoding method would you use for each variable, and why?\n",
    "# For \"Gender\" (Male/Female), I would use Label Encoding because there are only two categories and no inherent order.\n",
    "# For \"Education Level\" (High School/Bachelor's/Master's/PhD), I would use Ordinal Encoding since there is a natural order in the education levels.\n",
    "# For \"Employment Status\" (Unemployed/Part-Time/Full-Time), I would use One-Hot Encoding because the categories are distinct and do not have an inherent order.\n"
   ]
  },
  {
   "cell_type": "code",
   "execution_count": 7,
   "metadata": {},
   "outputs": [
    {
     "name": "stdout",
     "output_type": "stream",
     "text": [
      "Covariance matrix:\n",
      "[[ 7.300e+00 -2.475e+01 -1.350e+00  8.500e-01]\n",
      " [-2.475e+01  1.325e+02  7.000e+00 -8.250e+00]\n",
      " [-1.350e+00  7.000e+00  7.000e-01  5.000e-02]\n",
      " [ 8.500e-01 -8.250e+00  5.000e-02  1.700e+00]]\n"
     ]
    }
   ],
   "source": [
    "# Q7. You are analyzing a dataset with two continuous variables, \"Temperature\" and \"Humidity\", and two categorical variables, \"Weather Condition\" (Sunny/Cloudy/Rainy) and \"Wind Direction\" (North/South/East/West). Calculate the covariance between each pair of variables and interpret the results.\n",
    "temperature = np.array([30, 32, 28, 35, 33])\n",
    "humidity = np.array([80, 75, 90, 60, 85])\n",
    "weather_condition = np.array([1, 2, 3, 1, 2])  # Ordinal encoding: 1=Sunny, 2=Cloudy, 3=Rainy\n",
    "wind_direction = np.array([1, 2, 3, 4, 1])  # Ordinal encoding: 1=North, 2=South, 3=East, 4=West\n",
    "\n",
    "# Covariance calculation\n",
    "data = np.array([temperature, humidity, weather_condition, wind_direction]).T\n",
    "cov_matrix = np.cov(data, rowvar=False)\n",
    "\n",
    "print(f\"Covariance matrix:\\n{cov_matrix}\")\n",
    "\n",
    "# Interpretation:\n",
    "# The covariance matrix will show how the continuous variables (Temperature and Humidity) relate to each other, \n",
    "# and also the relationship between the continuous variables and the categorical ones (Weather Condition, Wind Direction).\n",
    "# Positive covariance means variables change in the same direction, while negative covariance means they change in opposite directions."
   ]
  },
  {
   "cell_type": "code",
   "execution_count": null,
   "metadata": {},
   "outputs": [],
   "source": []
  }
 ],
 "metadata": {
  "kernelspec": {
   "display_name": "Python 3",
   "language": "python",
   "name": "python3"
  },
  "language_info": {
   "codemirror_mode": {
    "name": "ipython",
    "version": 3
   },
   "file_extension": ".py",
   "mimetype": "text/x-python",
   "name": "python",
   "nbconvert_exporter": "python",
   "pygments_lexer": "ipython3",
   "version": "3.11.9"
  }
 },
 "nbformat": 4,
 "nbformat_minor": 2
}
