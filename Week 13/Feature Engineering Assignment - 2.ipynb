{
 "cells": [
  {
   "cell_type": "code",
   "execution_count": 1,
   "metadata": {},
   "outputs": [],
   "source": [
    "# Q1. What is Min-Max scaling, and how is it used in data preprocessing? Provide an example to illustrate its application.\n",
    "# Min-Max scaling transforms features to a fixed range, typically [0, 1] or [-1, 1], by subtracting the minimum value and dividing by the range. Example:\n",
    "# Original data: [10, 20, 30, 40, 50]\n",
    "# Scaled data to [0, 1]: [(x - 10) / (50 - 10)] => [0, 0.25, 0.5, 0.75, 1]"
   ]
  },
  {
   "cell_type": "code",
   "execution_count": 2,
   "metadata": {},
   "outputs": [],
   "source": [
    "# Q2. What is the Unit Vector technique in feature scaling, and how does it differ from Min-Max scaling? Provide an example to illustrate its application.\n",
    "# The Unit Vector technique scales data such that each data point is represented as a unit vector with length 1. Example:\n",
    "# Original vector: [3, 4]\n",
    "# Scaled vector: [3/5, 4/5] => [0.6, 0.8]\n",
    "# Difference: Unit vector scales data based on magnitude, while Min-Max normalizes within a specific range."
   ]
  },
  {
   "cell_type": "code",
   "execution_count": 3,
   "metadata": {},
   "outputs": [],
   "source": [
    "# Q3. What is PCA (Principle Component Analysis), and how is it used in dimensionality reduction? Provide an example to illustrate its application.\n",
    "# PCA reduces dimensionality by transforming features into uncorrelated principal components that capture maximum variance. Example:\n",
    "# Dataset with 3 features transformed into 2 principal components for simpler visualization while retaining most information."
   ]
  },
  {
   "cell_type": "code",
   "execution_count": 4,
   "metadata": {},
   "outputs": [],
   "source": [
    "# Q4. What is the relationship between PCA and Feature Extraction, and how can PCA be used for Feature Extraction? Provide an example to illustrate this concept.\n",
    "# PCA performs feature extraction by creating new features (principal components) that capture important data patterns. Example:\n",
    "# Given 10 correlated features, PCA can reduce them to 3 components that summarize the data while minimizing information loss."
   ]
  },
  {
   "cell_type": "code",
   "execution_count": 5,
   "metadata": {},
   "outputs": [],
   "source": [
    "# Q5. You are working on a project to build a recommendation system for a food delivery service. The dataset contains features such as price, rating, and delivery time. Explain how you would use Min-Max scaling to preprocess the data.\n",
    "# Normalize all features to a range [0, 1] using Min-Max scaling:\n",
    "# price = (price - min(price)) / (max(price) - min(price))\n",
    "# rating = (rating - min(rating)) / (max(rating) - min(rating))\n",
    "# delivery_time = (delivery_time - min(delivery_time)) / (max(delivery_time) - min(delivery_time))"
   ]
  },
  {
   "cell_type": "code",
   "execution_count": 6,
   "metadata": {},
   "outputs": [],
   "source": [
    "# Q6. You are working on a project to build a model to predict stock prices. The dataset contains many features, such as company financial data and market trends. Explain how you would use PCA to reduce the dimensionality of the dataset.\n",
    "# Apply PCA to transform correlated features into fewer components that capture most of the variance. Select the top components based on explained variance ratio for model input.\n",
    "\n",
    "# Q7. For a dataset containing the following values: [1, 5, 10, 15, 20], perform Min-Max scaling to transform the values to a range of -1 to 1.\n",
    "# Formula: scaled_x = 2 * ((x - min) / (max - min)) - 1\n",
    "# Result: [-1, -0.5, 0, 0.5, 1]\n"
   ]
  },
  {
   "cell_type": "code",
   "execution_count": 7,
   "metadata": {},
   "outputs": [],
   "source": [
    "# Q8. For a dataset containing the following features: [height, weight, age, gender, blood pressure], perform Feature Extraction using PCA. How many principal components would you choose to retain, and why?\n",
    "# Use PCA to determine the number of components by analyzing the explained variance ratio. Retain components that explain at least 95% of the variance for optimal feature extraction."
   ]
  },
  {
   "cell_type": "code",
   "execution_count": null,
   "metadata": {},
   "outputs": [],
   "source": []
  }
 ],
 "metadata": {
  "kernelspec": {
   "display_name": "Python 3",
   "language": "python",
   "name": "python3"
  },
  "language_info": {
   "codemirror_mode": {
    "name": "ipython",
    "version": 3
   },
   "file_extension": ".py",
   "mimetype": "text/x-python",
   "name": "python",
   "nbconvert_exporter": "python",
   "pygments_lexer": "ipython3",
   "version": "3.11.9"
  }
 },
 "nbformat": 4,
 "nbformat_minor": 2
}
