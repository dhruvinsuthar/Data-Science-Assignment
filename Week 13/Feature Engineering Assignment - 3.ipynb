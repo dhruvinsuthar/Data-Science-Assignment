{
 "cells": [
  {
   "cell_type": "code",
   "execution_count": 1,
   "metadata": {},
   "outputs": [],
   "source": [
    "# Q1. What is data encoding? How is it useful in data science?\n",
    "# Data encoding refers to the process of converting categorical data into a numerical format so that machine learning models can understand and process it. \n",
    "# It is useful in data science because most machine learning algorithms require numerical input and can't directly work with categorical data."
   ]
  },
  {
   "cell_type": "code",
   "execution_count": 2,
   "metadata": {},
   "outputs": [],
   "source": [
    "# Q2. What is nominal encoding? Provide an example of how you would use it in a real-world scenario.\n",
    "# Nominal encoding refers to assigning a unique number to each category in a nominal (unordered) categorical feature.\n",
    "# Example: In a dataset about animals, the column \"Color\" may have categories like \"Red,\" \"Blue,\" and \"Green.\" Nominal encoding could assign:\n",
    "# Red = 0, Blue = 1, Green = 2."
   ]
  },
  {
   "cell_type": "code",
   "execution_count": 3,
   "metadata": {},
   "outputs": [],
   "source": [
    "# Q3. In what situations is nominal encoding preferred over one-hot encoding? Provide a practical example.\n",
    "# Nominal encoding is preferred when the categorical variable has many levels (i.e., categories) and one-hot encoding would result in a large number of columns.\n",
    "# Example: A dataset about countries with 200+ unique values. Using nominal encoding would be more efficient than one-hot encoding.\n"
   ]
  },
  {
   "cell_type": "code",
   "execution_count": 4,
   "metadata": {},
   "outputs": [],
   "source": [
    "# Q4. Suppose you have a dataset containing categorical data with 5 unique values. Which encoding technique would you use to transform this data into a format suitable for machine learning algorithms? Explain why you made this choice.\n",
    "# If the categorical data is unordered (nominal), I would use nominal encoding. This technique will map the 5 unique values to integers and reduce dimensionality.\n",
    "# One-hot encoding might be inefficient in this case, as it would result in 5 new columns."
   ]
  },
  {
   "cell_type": "code",
   "execution_count": 5,
   "metadata": {},
   "outputs": [],
   "source": [
    "# Q5. In a machine learning project, you have a dataset with 1000 rows and 5 columns. Two of the columns are categorical, and the remaining three columns are numerical. If you were to use nominal encoding to transform the categorical data, how many new columns would be created? Show your calculations.\n",
    "# Nominal encoding will create one new column for each categorical variable. So, for two categorical columns, two new columns will be created.\n",
    "# In total, no additional columns are needed for numerical data, so the dataset will have 7 columns in total after encoding."
   ]
  },
  {
   "cell_type": "code",
   "execution_count": 6,
   "metadata": {},
   "outputs": [],
   "source": [
    "# Q6. You are working with a dataset containing information about different types of animals, including their species, habitat, and diet. Which encoding technique would you use to transform the categorical data into a format suitable for machine learning algorithms? Justify your answer.\n",
    "# Since the \"species,\" \"habitat,\" and \"diet\" columns are categorical, I would use one-hot encoding for these columns. \n",
    "# These features likely represent distinct, unordered categories, so one-hot encoding would be suitable to prevent the model from interpreting any inherent ordering."
   ]
  },
  {
   "cell_type": "code",
   "execution_count": 7,
   "metadata": {},
   "outputs": [],
   "source": [
    "# Q7. You are working on a project that involves predicting customer churn for a telecommunications company. You have a dataset with 5 features, including the customer's gender, age, contract type, monthly charges, and tenure. Which encoding technique(s) would you use to transform the categorical data into numerical data? Provide a step-by-step explanation of how you would implement the encoding.\n",
    "# For categorical features like gender and contract type, I would use one-hot encoding:\n",
    "# 1. Gender: \"Male\" and \"Female\" → Two new columns, \"Gender_Male\" and \"Gender_Female.\"\n",
    "# 2. Contract type: \"Month-to-Month\" and \"Two-Year\" → Two new columns, \"Contract_MonthToMonth\" and \"Contract_TwoYear.\"\n",
    "# For numerical features like age, monthly charges, and tenure, no encoding is needed."
   ]
  },
  {
   "cell_type": "code",
   "execution_count": null,
   "metadata": {},
   "outputs": [],
   "source": []
  }
 ],
 "metadata": {
  "kernelspec": {
   "display_name": "Python 3",
   "language": "python",
   "name": "python3"
  },
  "language_info": {
   "codemirror_mode": {
    "name": "ipython",
    "version": 3
   },
   "file_extension": ".py",
   "mimetype": "text/x-python",
   "name": "python",
   "nbconvert_exporter": "python",
   "pygments_lexer": "ipython3",
   "version": "3.11.9"
  }
 },
 "nbformat": 4,
 "nbformat_minor": 2
}
